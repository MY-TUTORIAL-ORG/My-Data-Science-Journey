{
  "nbformat": 4,
  "nbformat_minor": 0,
  "metadata": {
    "colab": {
      "name": "Exercicios_Funcoes.ipynb",
      "provenance": [],
      "collapsed_sections": [],
      "authorship_tag": "ABX9TyPOqJodgTaIzPu/JYsTG/Xu",
      "include_colab_link": true
    },
    "kernelspec": {
      "name": "python3",
      "display_name": "Python 3"
    },
    "language_info": {
      "name": "python"
    }
  },
  "cells": [
    {
      "cell_type": "markdown",
      "metadata": {
        "id": "view-in-github",
        "colab_type": "text"
      },
      "source": [
        "<a href=\"https://colab.research.google.com/github/DataScience-2021/Guia-Completo-IA-01-Python/blob/main/Exercicios_Funcoes.ipynb\" target=\"_parent\"><img src=\"https://colab.research.google.com/assets/colab-badge.svg\" alt=\"Open In Colab\"/></a>"
      ]
    },
    {
      "cell_type": "markdown",
      "metadata": {
        "id": "uIiqOgWaE8-N"
      },
      "source": [
        ""
      ]
    },
    {
      "cell_type": "markdown",
      "metadata": {
        "id": "WCO6Ox17E_Cc"
      },
      "source": [
        "# Exercício 01 - Função Converter Temperatura Celcius para Fahrenheit"
      ]
    },
    {
      "cell_type": "markdown",
      "metadata": {
        "id": "6a9sksDNFOOn"
      },
      "source": [
        "Ler uma temperatura em graus Celsius e apresentá-la convertida em graus Fahrenheit. A fórmula de conversão é F = (9 * C + 160) / 5, na qual F é a temperatura em Fahrenheit e C é a temperatura em graus Celsius\n",
        "- Função para ler e retorna o valor da temperatura (não recebe parâmetro)\n",
        "- Função para fazer o cálculo (recebe como parâmetro a temperatura em graus Celsius)\n",
        "- Função para mostrar o resultado, recebendo como parâmetro o valor e fazendo a impressão"
      ]
    },
    {
      "cell_type": "code",
      "metadata": {
        "colab": {
          "base_uri": "https://localhost:8080/"
        },
        "id": "6UVCkd2SF3WN",
        "outputId": "52de4391-0c96-459f-bba2-d3bbe675ae45"
      },
      "source": [
        "def funcao1():\n",
        "  c = float(input('Entre com a temperatura em celcius'))\n",
        "  f = ((9*c)+160)/5\n",
        "  return f\n",
        "funcao1()"
      ],
      "execution_count": 20,
      "outputs": [
        {
          "name": "stdout",
          "output_type": "stream",
          "text": [
            "Entre com a temperatura em celcius20\n"
          ]
        },
        {
          "output_type": "execute_result",
          "data": {
            "text/plain": [
              "68.0"
            ]
          },
          "metadata": {},
          "execution_count": 20
        }
      ]
    },
    {
      "cell_type": "code",
      "metadata": {
        "colab": {
          "base_uri": "https://localhost:8080/"
        },
        "id": "FPHDAvjncgjA",
        "outputId": "9db19946-5622-4114-e8c4-0e2e5d9f2862"
      },
      "source": [
        "def funcao2(c):\n",
        "  #c = float(input('Entre com a temperatura em celcius'))\n",
        "  f = ((9*c)+160)/5\n",
        "  return f\n",
        "funcao2(200)"
      ],
      "execution_count": 4,
      "outputs": [
        {
          "output_type": "execute_result",
          "data": {
            "text/plain": [
              "392.0"
            ]
          },
          "metadata": {},
          "execution_count": 4
        }
      ]
    },
    {
      "cell_type": "code",
      "metadata": {
        "id": "Uu1dKXOqc5dg"
      },
      "source": [
        ""
      ],
      "execution_count": null,
      "outputs": []
    },
    {
      "cell_type": "code",
      "metadata": {
        "colab": {
          "base_uri": "https://localhost:8080/"
        },
        "id": "wOmyvvijc5-Z",
        "outputId": "f4705fd9-6345-45c0-b087-a7629845d021"
      },
      "source": [
        "def funcao2(c):\n",
        "  #c = float(input('Entre com a temperatura em celcius'))\n",
        "  f = ((9*c)+160)/5\n",
        "  print('O Valor da temperatura em Celcius > ',c)\n",
        "  print('O Valor da temperatura em Fahareneit > ',f)\n",
        "  return f\n",
        "funcao2(200)"
      ],
      "execution_count": 19,
      "outputs": [
        {
          "output_type": "stream",
          "name": "stdout",
          "text": [
            "O Valor da temperatura em Celcius >  200\n",
            "O Valor da temperatura em Fahareneit >  392.0\n"
          ]
        },
        {
          "output_type": "execute_result",
          "data": {
            "text/plain": [
              "392.0"
            ]
          },
          "metadata": {},
          "execution_count": 19
        }
      ]
    },
    {
      "cell_type": "markdown",
      "metadata": {
        "id": "6hOreYB0dXY_"
      },
      "source": [
        "# Exercício 02 - Função Velocidade Média, Tempo Viagem, Distância Percorrida"
      ]
    },
    {
      "cell_type": "markdown",
      "metadata": {
        "id": "TjLbIHrNdic2"
      },
      "source": [
        "Efetuar o cálculo da quantidade de litros de combustível gasto em uma viagem, utilizando um automóvel que faz 12 Km por litro. Para obter o cálculo, o usuário deve fornecer o tempo gasto na viagem e a velocidade média durante ela. Desta forma, será possível obter a distância percorrida com a fórmula DISTANCIA = TEMPO * VELOCIDADE. Tendo o valor da distância, basta calcular a quantidade de litros de combustível utilizada na viagem, com a fórmula: LITROS_USADOS = DISTANCIA / 12. O programa deve apresentar os valores da velocidade média, tempo gasto na viagem, a distância percorrida e a quantidade de litros utilizada na viagem\n",
        "- Função para ler os valores (não recebe parâmetro e retorna os dois valores)\n",
        "- Função para calcular a distância (recebe como parâmetro o tempo e a velocidade e retorna a distância)\n",
        "- Função para calcular a quantidade de litros (recebe como parâmetro a distância e retorna os litros)\n",
        "- Função para apresentar o resultado (recebe como parâmetro os valores e somente imprime o resultado)"
      ]
    },
    {
      "cell_type": "code",
      "metadata": {
        "colab": {
          "base_uri": "https://localhost:8080/"
        },
        "id": "f2rVwlq22xgh",
        "outputId": "5355e660-537c-4ab4-c899-2ea30758b0b6"
      },
      "source": [
        "def ler_tempo():\n",
        "  tempo = float(input('Informe o tempo de viagem  em horas > '))\n",
        "  return tempo\n",
        "\n",
        "def ler_velocidade():\n",
        "  velocidade = float(input('Informe a velocidade média em Km/h > ' ))\n",
        "  return velocidade\n",
        "\n",
        "def calcular_distancia(duracao,velocidade):\n",
        "  distancia = duracao * velocidade\n",
        "  return distancia\n",
        "\n",
        "def resultados(duracao,velocidade,distancia):\n",
        "  print('Duração da viagem   > ', duracao, 'horas')\n",
        "  print('Velocidade média    > ', velocidade, 'Km/h')\n",
        "  print('Distância Pecorrida > ', distancia, 'Km')\n",
        "\n",
        "informe_tempo = ler_tempo()\n",
        "informe_velocidade = ler_velocidade()\n",
        "dist = calcular_distancia(informe_tempo,informe_velocidade)\n",
        "resultados(informe_tempo, informe_velocidade, dist)\n",
        "\n"
      ],
      "execution_count": 21,
      "outputs": [
        {
          "output_type": "stream",
          "name": "stdout",
          "text": [
            "Informe o tempo de viagem  em horas > 20\n",
            "Informe a velocidade média em Km/h > 140\n",
            "Duração da viagem   >  20.0 horas\n",
            "Velocidade média    >  140.0 Km/h\n",
            "Distância Pecorrida >  2800.0 Km\n"
          ]
        }
      ]
    }
  ]
}
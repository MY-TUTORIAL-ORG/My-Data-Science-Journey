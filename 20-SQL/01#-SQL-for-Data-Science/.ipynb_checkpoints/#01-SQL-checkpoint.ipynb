{
 "cells": [
  {
   "cell_type": "code",
   "execution_count": null,
   "id": "517c154c-b7de-4b5a-bb0f-6bbba1e67660",
   "metadata": {},
   "outputs": [],
   "source": [
    "#!pip install --upgrade google-cloud-speech "
   ]
  },
  {
   "cell_type": "code",
   "execution_count": 7,
   "id": "94669b83-1451-4a6d-8d40-37951280ae6e",
   "metadata": {},
   "outputs": [
    {
     "name": "stdout",
     "output_type": "stream",
     "text": [
      "Collecting google-cloud-bigquery\n",
      "  Downloading google_cloud_bigquery-2.30.1-py2.py3-none-any.whl (203 kB)\n",
      "\u001b[K     |████████████████████████████████| 203 kB 794 kB/s eta 0:00:01\n",
      "\u001b[?25hRequirement already satisfied: google-api-core[grpc]<3.0.0dev,>=1.29.0 in /home/biolabs/anaconda3/lib/python3.8/site-packages (from google-cloud-bigquery) (2.2.2)\n",
      "Collecting google-resumable-media<3.0dev,>=0.6.0\n",
      "  Downloading google_resumable_media-2.1.0-py2.py3-none-any.whl (75 kB)\n",
      "\u001b[K     |████████████████████████████████| 75 kB 549 kB/s eta 0:00:01\n",
      "\u001b[?25hRequirement already satisfied: grpcio<2.0dev,>=1.38.1 in /home/biolabs/anaconda3/lib/python3.8/site-packages (from google-cloud-bigquery) (1.42.0)\n",
      "Requirement already satisfied: protobuf>=3.12.0 in /home/biolabs/anaconda3/lib/python3.8/site-packages (from google-cloud-bigquery) (3.19.1)\n",
      "Collecting google-cloud-core<3.0.0dev,>=1.4.1\n",
      "  Downloading google_cloud_core-2.2.1-py2.py3-none-any.whl (29 kB)\n",
      "Requirement already satisfied: requests<3.0.0dev,>=2.18.0 in /home/biolabs/anaconda3/lib/python3.8/site-packages (from google-cloud-bigquery) (2.26.0)\n",
      "Requirement already satisfied: packaging>=14.3 in /home/biolabs/.local/lib/python3.8/site-packages (from google-cloud-bigquery) (21.0)\n",
      "Requirement already satisfied: proto-plus>=1.10.0 in /home/biolabs/anaconda3/lib/python3.8/site-packages (from google-cloud-bigquery) (1.19.8)\n",
      "Requirement already satisfied: python-dateutil<3.0dev,>=2.7.2 in /home/biolabs/anaconda3/lib/python3.8/site-packages (from google-cloud-bigquery) (2.8.2)\n",
      "Requirement already satisfied: setuptools>=40.3.0 in /home/biolabs/anaconda3/lib/python3.8/site-packages (from google-api-core[grpc]<3.0.0dev,>=1.29.0->google-cloud-bigquery) (58.0.4)\n",
      "Requirement already satisfied: googleapis-common-protos<2.0dev,>=1.52.0 in /home/biolabs/anaconda3/lib/python3.8/site-packages (from google-api-core[grpc]<3.0.0dev,>=1.29.0->google-cloud-bigquery) (1.53.0)\n",
      "Requirement already satisfied: google-auth<3.0dev,>=1.25.0 in /home/biolabs/anaconda3/lib/python3.8/site-packages (from google-api-core[grpc]<3.0.0dev,>=1.29.0->google-cloud-bigquery) (1.33.0)\n",
      "Requirement already satisfied: grpcio-status<2.0dev,>=1.33.2 in /home/biolabs/anaconda3/lib/python3.8/site-packages (from google-api-core[grpc]<3.0.0dev,>=1.29.0->google-cloud-bigquery) (1.42.0)\n",
      "Requirement already satisfied: six>=1.9.0 in /home/biolabs/anaconda3/lib/python3.8/site-packages (from google-auth<3.0dev,>=1.25.0->google-api-core[grpc]<3.0.0dev,>=1.29.0->google-cloud-bigquery) (1.16.0)\n",
      "Requirement already satisfied: pyasn1-modules>=0.2.1 in /home/biolabs/anaconda3/lib/python3.8/site-packages (from google-auth<3.0dev,>=1.25.0->google-api-core[grpc]<3.0.0dev,>=1.29.0->google-cloud-bigquery) (0.2.8)\n",
      "Requirement already satisfied: rsa<5,>=3.1.4 in /home/biolabs/anaconda3/lib/python3.8/site-packages (from google-auth<3.0dev,>=1.25.0->google-api-core[grpc]<3.0.0dev,>=1.29.0->google-cloud-bigquery) (4.7.2)\n",
      "Requirement already satisfied: cachetools<5.0,>=2.0.0 in /home/biolabs/.local/lib/python3.8/site-packages (from google-auth<3.0dev,>=1.25.0->google-api-core[grpc]<3.0.0dev,>=1.29.0->google-cloud-bigquery) (4.2.4)\n",
      "Collecting google-crc32c<2.0dev,>=1.0\n",
      "  Downloading google_crc32c-1.3.0-cp38-cp38-manylinux_2_12_x86_64.manylinux2010_x86_64.whl (37 kB)\n",
      "Requirement already satisfied: pyparsing>=2.0.2 in /home/biolabs/.local/lib/python3.8/site-packages (from packaging>=14.3->google-cloud-bigquery) (2.4.7)\n",
      "Requirement already satisfied: pyasn1<0.5.0,>=0.4.6 in /home/biolabs/anaconda3/lib/python3.8/site-packages (from pyasn1-modules>=0.2.1->google-auth<3.0dev,>=1.25.0->google-api-core[grpc]<3.0.0dev,>=1.29.0->google-cloud-bigquery) (0.4.8)\n",
      "Requirement already satisfied: idna<4,>=2.5 in /home/biolabs/anaconda3/lib/python3.8/site-packages (from requests<3.0.0dev,>=2.18.0->google-cloud-bigquery) (2.10)\n",
      "Requirement already satisfied: charset-normalizer~=2.0.0 in /home/biolabs/anaconda3/lib/python3.8/site-packages (from requests<3.0.0dev,>=2.18.0->google-cloud-bigquery) (2.0.4)\n",
      "Requirement already satisfied: urllib3<1.27,>=1.21.1 in /home/biolabs/anaconda3/lib/python3.8/site-packages (from requests<3.0.0dev,>=2.18.0->google-cloud-bigquery) (1.26.7)\n",
      "Requirement already satisfied: certifi>=2017.4.17 in /home/biolabs/anaconda3/lib/python3.8/site-packages (from requests<3.0.0dev,>=2.18.0->google-cloud-bigquery) (2021.10.8)\n",
      "Installing collected packages: google-crc32c, google-resumable-media, google-cloud-core, google-cloud-bigquery\n",
      "Successfully installed google-cloud-bigquery-2.30.1 google-cloud-core-2.2.1 google-crc32c-1.3.0 google-resumable-media-2.1.0\n"
     ]
    }
   ],
   "source": [
    "!pip install google-cloud-bigquery"
   ]
  },
  {
   "cell_type": "code",
   "execution_count": 8,
   "id": "6f4211b2-19e6-414a-af0f-72fda33cf844",
   "metadata": {},
   "outputs": [],
   "source": [
    "from google.cloud import bigquery"
   ]
  }
 ],
 "metadata": {
  "kernelspec": {
   "display_name": "Python 3 (ipykernel)",
   "language": "python",
   "name": "python3"
  },
  "language_info": {
   "codemirror_mode": {
    "name": "ipython",
    "version": 3
   },
   "file_extension": ".py",
   "mimetype": "text/x-python",
   "name": "python",
   "nbconvert_exporter": "python",
   "pygments_lexer": "ipython3",
   "version": "3.8.8"
  }
 },
 "nbformat": 4,
 "nbformat_minor": 5
}

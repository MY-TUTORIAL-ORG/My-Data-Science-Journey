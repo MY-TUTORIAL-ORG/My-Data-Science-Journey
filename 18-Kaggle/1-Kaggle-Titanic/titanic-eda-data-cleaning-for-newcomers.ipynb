{
 "cells": [
  {
   "cell_type": "markdown",
   "metadata": {},
   "source": [
    "# Hello There Fellow Novice!\n",
    "\n",
    "Hey! i decided to do this notebook because i saw many great notebooks out there about EDA/ Feature Engineering/ Model Making, however, much of that information was really hard to understand, so thought about making it easier and better explained for people that are completely new to ML like me! \n",
    "\n",
    "Feedback is appreciated!"
   ]
  },
  {
   "cell_type": "markdown",
   "metadata": {},
   "source": [
    "First of all, Welcome to Kaggle, this is a great place to learn about ML, and an even better place to practice.\n",
    "As a newcomer myself, i may tell you one thing, don't let yourself down seeing those 100% top 1 notebooks on the top of the leaderboard, there's some shady business up there (extended datasets and stuff!!!)\n",
    "Instead of aiming for the 100% which is basically out of reach with the data we're given, let's aim to improve our personal score and learn more along the way.\n",
    "\n",
    "The Notebook below may seem confusing and scary at first, but DON'T PANIC, get your towels and come with me, slowly!\n",
    "\n",
    "Let's get to work then!"
   ]
  },
  {
   "cell_type": "code",
   "execution_count": 1,
   "metadata": {
    "_cell_guid": "b1076dfc-b9ad-4769-8c92-a6c4dae69d19",
    "_uuid": "8f2839f25d086af736a60e9eeb907d3b93b6e0e5",
    "execution": {
     "iopub.execute_input": "2021-11-16T00:12:11.287699Z",
     "iopub.status.busy": "2021-11-16T00:12:11.287297Z",
     "iopub.status.idle": "2021-11-16T00:12:14.450404Z",
     "shell.execute_reply": "2021-11-16T00:12:14.449531Z",
     "shell.execute_reply.started": "2021-11-16T00:12:11.287616Z"
    }
   },
   "outputs": [],
   "source": [
    "from sklearn import metrics,impute\n",
    "\n",
    "import numpy as np #for math functions\n",
    "import math # for mathematical operations\n",
    "import pandas as pd #for dataframe management\n",
    "import lightgbm as lgb # machine learning model\n",
    "import missingno as msno # for NaN visualization\n",
    "import warnings # to remove the annoying warnings\n",
    "import seaborn as sns # for graphical visualization\n",
    "\n",
    "import matplotlib.pyplot as plt # for graphical visualization\n",
    "\n",
    "from sklearn.linear_model import LinearRegression # for model making\n",
    "from sklearn.model_selection import train_test_split # for model making\n",
    "from sklearn.compose import make_column_transformer  # to apply Standard Scaler\n",
    "from sklearn.metrics import accuracy_score # for the vizualization of the Acuracy score\n",
    "from sklearn.preprocessing import OrdinalEncoder, LabelEncoder, StandardScaler # for data preprocessing\n",
    "from sklearn.model_selection import cross_validate,GridSearchCV # to make the cross validation of the model\n",
    "\n",
    "warnings.filterwarnings(action='ignore', category=UserWarning)\n",
    "\n",
    "#Change size of the plot in seaborn\n",
    "sns.set(rc={'figure.figsize':(11.7,8.27)})\n"
   ]
  },
  {
   "cell_type": "markdown",
   "metadata": {},
   "source": [
    "**Let's define our datasets for training and testing:**"
   ]
  },
  {
   "cell_type": "code",
   "execution_count": 2,
   "metadata": {
    "execution": {
     "iopub.execute_input": "2021-11-16T00:12:21.192115Z",
     "iopub.status.busy": "2021-11-16T00:12:21.191786Z",
     "iopub.status.idle": "2021-11-16T00:12:21.225003Z",
     "shell.execute_reply": "2021-11-16T00:12:21.224244Z",
     "shell.execute_reply.started": "2021-11-16T00:12:21.192082Z"
    }
   },
   "outputs": [],
   "source": [
    "train= pd.read_csv('../input/titanic/train.csv',index_col=\"PassengerId\")\n",
    "test = pd.read_csv('../input/titanic/test.csv',index_col=\"PassengerId\")"
   ]
  },
  {
   "cell_type": "code",
   "execution_count": 3,
   "metadata": {
    "execution": {
     "iopub.execute_input": "2021-11-16T00:12:28.194044Z",
     "iopub.status.busy": "2021-11-16T00:12:28.193713Z",
     "iopub.status.idle": "2021-11-16T00:12:28.232766Z",
     "shell.execute_reply": "2021-11-16T00:12:28.230910Z",
     "shell.execute_reply.started": "2021-11-16T00:12:28.194017Z"
    }
   },
   "outputs": [],
   "source": [
    "train.describe().T"
   ]
  },
  {
   "cell_type": "markdown",
   "metadata": {},
   "source": [
    "**Then let's merge both to get a full dataset, which we will be working on!**"
   ]
  },
  {
   "cell_type": "code",
   "execution_count": 4,
   "metadata": {
    "execution": {
     "iopub.execute_input": "2021-11-16T00:12:33.649532Z",
     "iopub.status.busy": "2021-11-16T00:12:33.649209Z",
     "iopub.status.idle": "2021-11-16T00:12:33.659412Z",
     "shell.execute_reply": "2021-11-16T00:12:33.658345Z",
     "shell.execute_reply.started": "2021-11-16T00:12:33.649502Z"
    }
   },
   "outputs": [],
   "source": [
    "df_combined= pd.concat([train, test])"
   ]
  },
  {
   "cell_type": "markdown",
   "metadata": {},
   "source": [
    "# **1.Study the data**\n",
    "**Let's take a look at the data we are dealing with!**"
   ]
  },
  {
   "cell_type": "markdown",
   "metadata": {},
   "source": [
    "**For Train Dataset**\n",
    "\n",
    "**It seems like we have:**\n",
    "12 columns,\n",
    "891 rows.\n",
    "\n",
    "**We have empty values at:**\n",
    "Age,\n",
    "Cabin,\n",
    "Embarked.\n",
    "\n",
    "**From the 12 columns:**\n",
    "5 are integer values,\n",
    "2 are float values,\n",
    "5 are objects."
   ]
  },
  {
   "cell_type": "code",
   "execution_count": null,
   "metadata": {},
   "outputs": [],
   "source": []
  },
  {
   "cell_type": "code",
   "execution_count": 5,
   "metadata": {
    "execution": {
     "iopub.execute_input": "2021-11-16T00:12:41.189840Z",
     "iopub.status.busy": "2021-11-16T00:12:41.189486Z",
     "iopub.status.idle": "2021-11-16T00:12:41.219194Z",
     "shell.execute_reply": "2021-11-16T00:12:41.218090Z",
     "shell.execute_reply.started": "2021-11-16T00:12:41.189811Z"
    }
   },
   "outputs": [],
   "source": [
    "#get the information about each column of the dataset,\n",
    "\n",
    "train.info()"
   ]
  },
  {
   "cell_type": "markdown",
   "metadata": {},
   "source": [
    "**For Test Dataset**\n",
    "\n",
    "**It seems like we have:**\n",
    "11 columns,\n",
    "418 rows.\n",
    "\n",
    "**We have empty values at:**\n",
    "Age,\n",
    "Fare,\n",
    "Cabin,\n",
    "Embarked.\n",
    "\n",
    "**From the 11 columns:**\n",
    "4 are integer values,\n",
    "2 are float values,\n",
    "5 are objects."
   ]
  },
  {
   "cell_type": "code",
   "execution_count": 6,
   "metadata": {
    "execution": {
     "iopub.execute_input": "2021-11-16T00:12:44.785499Z",
     "iopub.status.busy": "2021-11-16T00:12:44.785181Z",
     "iopub.status.idle": "2021-11-16T00:12:44.799666Z",
     "shell.execute_reply": "2021-11-16T00:12:44.797951Z",
     "shell.execute_reply.started": "2021-11-16T00:12:44.785470Z"
    }
   },
   "outputs": [],
   "source": [
    "#get the information about each column of the dataset\n",
    "\n",
    "test.info()"
   ]
  },
  {
   "cell_type": "markdown",
   "metadata": {},
   "source": [
    "**For the Combined Dataframe**\n",
    "\n",
    "**It seems like we have:**\n",
    "12 columns,\n",
    "1309 rows.\n",
    "\n",
    "**We have empty values at:**\n",
    "Survived,\n",
    "Age,\n",
    "Fare,\n",
    "Cabin,\n",
    "Embarked.\n",
    "\n",
    "**From the 12 columns:**\n",
    "4 are integer values,\n",
    "3 are float values,\n",
    "5 are objects."
   ]
  },
  {
   "cell_type": "code",
   "execution_count": 7,
   "metadata": {
    "execution": {
     "iopub.execute_input": "2021-11-16T00:12:47.951902Z",
     "iopub.status.busy": "2021-11-16T00:12:47.951431Z",
     "iopub.status.idle": "2021-11-16T00:12:47.971746Z",
     "shell.execute_reply": "2021-11-16T00:12:47.970321Z",
     "shell.execute_reply.started": "2021-11-16T00:12:47.951866Z"
    }
   },
   "outputs": [],
   "source": [
    "df_combined.info()#get the information about each column of the dataset"
   ]
  },
  {
   "cell_type": "code",
   "execution_count": 8,
   "metadata": {
    "execution": {
     "iopub.execute_input": "2021-11-16T00:12:50.632405Z",
     "iopub.status.busy": "2021-11-16T00:12:50.632086Z",
     "iopub.status.idle": "2021-11-16T00:12:50.638905Z",
     "shell.execute_reply": "2021-11-16T00:12:50.638031Z",
     "shell.execute_reply.started": "2021-11-16T00:12:50.632377Z"
    }
   },
   "outputs": [],
   "source": [
    "print(\"train columns: \", train.columns)\n",
    "\n",
    "print(\"test columns: \", test.columns)"
   ]
  },
  {
   "cell_type": "markdown",
   "metadata": {},
   "source": [
    "**As we can see, the Test dataset Lacks the \"survived\" column, which is our Target!**"
   ]
  },
  {
   "cell_type": "code",
   "execution_count": 9,
   "metadata": {
    "execution": {
     "iopub.execute_input": "2021-11-16T00:12:52.834210Z",
     "iopub.status.busy": "2021-11-16T00:12:52.833887Z",
     "iopub.status.idle": "2021-11-16T00:12:52.847263Z",
     "shell.execute_reply": "2021-11-16T00:12:52.846281Z",
     "shell.execute_reply.started": "2021-11-16T00:12:52.834181Z"
    }
   },
   "outputs": [],
   "source": [
    "#Select Numerical columns\n",
    "\n",
    "num_cols = df_combined.select_dtypes(exclude=\"object\").columns\n",
    "\n",
    "#Select Categorical columns\n",
    "\n",
    "cat_cols = df_combined.select_dtypes(include=\"object\").columns\n",
    "\n",
    "print(\"numerical columns are:\", num_cols)\n",
    "print(\"categorical columns are:\", cat_cols)"
   ]
  },
  {
   "cell_type": "code",
   "execution_count": 10,
   "metadata": {
    "execution": {
     "iopub.execute_input": "2021-11-16T00:12:55.318378Z",
     "iopub.status.busy": "2021-11-16T00:12:55.318059Z",
     "iopub.status.idle": "2021-11-16T00:12:55.329196Z",
     "shell.execute_reply": "2021-11-16T00:12:55.328127Z",
     "shell.execute_reply.started": "2021-11-16T00:12:55.318349Z"
    }
   },
   "outputs": [],
   "source": [
    "#Check for unique values in each column\n",
    "\n",
    "n_uniqe = {col:df_combined[col].nunique() for col in cat_cols}\n",
    "for key in n_uniqe:\n",
    "    print(f\"{key} has {n_uniqe[key]} unique values\")"
   ]
  },
  {
   "cell_type": "markdown",
   "metadata": {},
   "source": [
    "**Seems we have duplicated and/or missing values in Ticket, and Cabin columns**"
   ]
  },
  {
   "cell_type": "code",
   "execution_count": 11,
   "metadata": {
    "execution": {
     "iopub.execute_input": "2021-11-16T00:12:59.617788Z",
     "iopub.status.busy": "2021-11-16T00:12:59.617432Z",
     "iopub.status.idle": "2021-11-16T00:12:59.648627Z",
     "shell.execute_reply": "2021-11-16T00:12:59.647573Z",
     "shell.execute_reply.started": "2021-11-16T00:12:59.617759Z"
    }
   },
   "outputs": [],
   "source": [
    "#get the information about each column of the dataset\n",
    "\n",
    "train.describe()"
   ]
  },
  {
   "cell_type": "markdown",
   "metadata": {},
   "source": [
    "**We can see from this description that:\n",
    "our ages range from 5 months old to 80 years old,**"
   ]
  },
  {
   "cell_type": "code",
   "execution_count": 12,
   "metadata": {
    "execution": {
     "iopub.execute_input": "2021-11-16T00:13:02.264548Z",
     "iopub.status.busy": "2021-11-16T00:13:02.264205Z",
     "iopub.status.idle": "2021-11-16T00:13:02.293432Z",
     "shell.execute_reply": "2021-11-16T00:13:02.292531Z",
     "shell.execute_reply.started": "2021-11-16T00:13:02.264519Z"
    }
   },
   "outputs": [],
   "source": [
    "#get the information about each column of the dataset\n",
    "\n",
    "test.describe()"
   ]
  },
  {
   "cell_type": "code",
   "execution_count": 13,
   "metadata": {
    "execution": {
     "iopub.execute_input": "2021-11-16T00:13:04.483911Z",
     "iopub.status.busy": "2021-11-16T00:13:04.483586Z",
     "iopub.status.idle": "2021-11-16T00:13:04.513308Z",
     "shell.execute_reply": "2021-11-16T00:13:04.512241Z",
     "shell.execute_reply.started": "2021-11-16T00:13:04.483883Z"
    }
   },
   "outputs": [],
   "source": [
    "#get the information about each column of the dataset\n",
    "\n",
    "df_combined.describe()"
   ]
  },
  {
   "cell_type": "code",
   "execution_count": 14,
   "metadata": {
    "execution": {
     "iopub.execute_input": "2021-11-16T00:13:06.859404Z",
     "iopub.status.busy": "2021-11-16T00:13:06.859015Z",
     "iopub.status.idle": "2021-11-16T00:13:06.867607Z",
     "shell.execute_reply": "2021-11-16T00:13:06.866634Z",
     "shell.execute_reply.started": "2021-11-16T00:13:06.859367Z"
    }
   },
   "outputs": [],
   "source": [
    "#get the number of null values in the dataset\n",
    "\n",
    "train.isna().sum()"
   ]
  },
  {
   "cell_type": "code",
   "execution_count": 15,
   "metadata": {
    "execution": {
     "iopub.execute_input": "2021-11-16T00:13:09.094856Z",
     "iopub.status.busy": "2021-11-16T00:13:09.094480Z",
     "iopub.status.idle": "2021-11-16T00:13:09.103449Z",
     "shell.execute_reply": "2021-11-16T00:13:09.102622Z",
     "shell.execute_reply.started": "2021-11-16T00:13:09.094826Z"
    }
   },
   "outputs": [],
   "source": [
    "#get the number of null values in the dataset\n",
    "\n",
    "test.isna().sum()"
   ]
  },
  {
   "cell_type": "code",
   "execution_count": 16,
   "metadata": {
    "execution": {
     "iopub.execute_input": "2021-11-16T00:13:11.743404Z",
     "iopub.status.busy": "2021-11-16T00:13:11.743087Z",
     "iopub.status.idle": "2021-11-16T00:13:11.752405Z",
     "shell.execute_reply": "2021-11-16T00:13:11.751492Z",
     "shell.execute_reply.started": "2021-11-16T00:13:11.743375Z"
    }
   },
   "outputs": [],
   "source": [
    "#get the number of null values in the dataset\n",
    "\n",
    "df_combined.isna().sum()"
   ]
  },
  {
   "cell_type": "markdown",
   "metadata": {},
   "source": [
    "# **2.Exploratory Data Analysis**"
   ]
  },
  {
   "cell_type": "markdown",
   "metadata": {},
   "source": [
    "**First, let's take a look at the state of our dataframe**"
   ]
  },
  {
   "cell_type": "code",
   "execution_count": 17,
   "metadata": {
    "execution": {
     "iopub.execute_input": "2021-11-16T00:13:14.866391Z",
     "iopub.status.busy": "2021-11-16T00:13:14.866046Z",
     "iopub.status.idle": "2021-11-16T00:13:15.434946Z",
     "shell.execute_reply": "2021-11-16T00:13:15.431659Z",
     "shell.execute_reply.started": "2021-11-16T00:13:14.866362Z"
    }
   },
   "outputs": [],
   "source": [
    "#Let's start by visualizing the empty rows on each feature using missingno\n",
    "\n",
    "msno.matrix(df_combined)"
   ]
  },
  {
   "cell_type": "markdown",
   "metadata": {},
   "source": [
    "**We have a lot of missing values on Age and Cabin, around 80% of cabin values are empty, for this model, we are going to drop this column, but feel free to try different approaches, like inputting values based on correlations!**"
   ]
  },
  {
   "cell_type": "code",
   "execution_count": 18,
   "metadata": {
    "execution": {
     "iopub.execute_input": "2021-11-16T00:13:18.730398Z",
     "iopub.status.busy": "2021-11-16T00:13:18.730046Z",
     "iopub.status.idle": "2021-11-16T00:13:18.735757Z",
     "shell.execute_reply": "2021-11-16T00:13:18.734676Z",
     "shell.execute_reply.started": "2021-11-16T00:13:18.730367Z"
    }
   },
   "outputs": [],
   "source": [
    "#Drop the Cabin columns\n",
    "df_combined = df_combined.drop(['Cabin'], axis=1)\n"
   ]
  },
  {
   "cell_type": "code",
   "execution_count": 19,
   "metadata": {
    "execution": {
     "iopub.execute_input": "2021-11-16T00:13:24.105642Z",
     "iopub.status.busy": "2021-11-16T00:13:24.105304Z",
     "iopub.status.idle": "2021-11-16T00:13:24.113489Z",
     "shell.execute_reply": "2021-11-16T00:13:24.112404Z",
     "shell.execute_reply.started": "2021-11-16T00:13:24.105611Z"
    }
   },
   "outputs": [],
   "source": [
    "#Classify the Age group\n",
    "\n",
    "df_combined['Age_Class'] = (df_combined['Age']/20)+0.5\n",
    "df_combined['Age_Class'] = round(df_combined['Age_Class'])\n",
    "\n",
    "#Classify the Fare group\n",
    "\n",
    "df_combined['Fare_Class'] = (df_combined['Fare']/100)+0.5\n",
    "df_combined['Fare_Class'] = round(df_combined['Fare_Class'])"
   ]
  },
  {
   "cell_type": "markdown",
   "metadata": {},
   "source": [
    "**The Age group we defined is:**\n",
    "* From 0 - 20 - group 1\n",
    "* From 21- 40 - group 2\n",
    "* From 41- 60 - group 3\n",
    "* Ages 61+ - group 4 "
   ]
  },
  {
   "cell_type": "markdown",
   "metadata": {},
   "source": [
    "**The Fare group we defined is:**\n",
    "* From 0 - 100 - group 1\n",
    "* From 101- 200 - group 2\n",
    "* From 201- 300 - group 3\n",
    "* From 301- 400 - group 4\n",
    "* From 401- 500 - group 5\n",
    "* Fares 501+ - group 6"
   ]
  },
  {
   "cell_type": "code",
   "execution_count": 20,
   "metadata": {
    "execution": {
     "iopub.execute_input": "2021-11-16T00:13:27.650135Z",
     "iopub.status.busy": "2021-11-16T00:13:27.649807Z",
     "iopub.status.idle": "2021-11-16T00:13:28.312641Z",
     "shell.execute_reply": "2021-11-16T00:13:28.311805Z",
     "shell.execute_reply.started": "2021-11-16T00:13:27.650105Z"
    }
   },
   "outputs": [],
   "source": [
    "#create a heatmap to identify correlation between columns\n",
    "\n",
    "sns.heatmap(df_combined.corr(),annot=True)\n",
    "plt.show()"
   ]
  },
  {
   "cell_type": "markdown",
   "metadata": {},
   "source": [
    "**We have strong correlations between:**\n",
    "* Fare and Survival\n",
    "* Parch and SibSp(Family on board)"
   ]
  },
  {
   "cell_type": "code",
   "execution_count": 21,
   "metadata": {
    "execution": {
     "iopub.execute_input": "2021-11-16T00:13:32.802600Z",
     "iopub.status.busy": "2021-11-16T00:13:32.802254Z",
     "iopub.status.idle": "2021-11-16T00:13:33.062805Z",
     "shell.execute_reply": "2021-11-16T00:13:33.061914Z",
     "shell.execute_reply.started": "2021-11-16T00:13:32.802548Z"
    }
   },
   "outputs": [],
   "source": [
    "#create a bar graph with the correlation between age and survival\n",
    "\n",
    "sns.barplot(data=df_combined,x='Age_Class',y=\"Survived\")\n",
    "plt.title(\"Correlation between the Age and survival\")\n",
    "plt.show()"
   ]
  },
  {
   "cell_type": "markdown",
   "metadata": {},
   "source": [
    "We can see that younger people have greater chances of survival"
   ]
  },
  {
   "cell_type": "code",
   "execution_count": 22,
   "metadata": {
    "execution": {
     "iopub.execute_input": "2021-11-16T00:13:37.481749Z",
     "iopub.status.busy": "2021-11-16T00:13:37.481400Z",
     "iopub.status.idle": "2021-11-16T00:13:37.736673Z",
     "shell.execute_reply": "2021-11-16T00:13:37.735738Z",
     "shell.execute_reply.started": "2021-11-16T00:13:37.481720Z"
    }
   },
   "outputs": [],
   "source": [
    "#create a bar graph with the correlation between Age_Class and Fare\n",
    "\n",
    "sns.barplot(data=df_combined,x='Age_Class',y=\"Fare\")\n",
    "plt.title(\"Correlation between the Age and Fare\")\n",
    "plt.show()"
   ]
  },
  {
   "cell_type": "markdown",
   "metadata": {},
   "source": [
    "We can see that older people payed the higher fares"
   ]
  },
  {
   "cell_type": "code",
   "execution_count": 23,
   "metadata": {
    "execution": {
     "iopub.execute_input": "2021-11-16T00:13:41.372849Z",
     "iopub.status.busy": "2021-11-16T00:13:41.372498Z",
     "iopub.status.idle": "2021-11-16T00:13:41.708894Z",
     "shell.execute_reply": "2021-11-16T00:13:41.707854Z",
     "shell.execute_reply.started": "2021-11-16T00:13:41.372820Z"
    }
   },
   "outputs": [],
   "source": [
    "#create a bar graph with the correlation between Fare_Class and survival\n",
    "\n",
    "sns.barplot(data=df_combined,x='Fare_Class',y=\"Survived\")\n",
    "plt.title(\"Correlation between the Fare and survival\")\n",
    "plt.show()"
   ]
  },
  {
   "cell_type": "markdown",
   "metadata": {},
   "source": [
    "**We can see that the people who paid the highest fares had more chances of survival**"
   ]
  },
  {
   "cell_type": "code",
   "execution_count": 24,
   "metadata": {
    "execution": {
     "iopub.execute_input": "2021-11-16T00:14:09.568304Z",
     "iopub.status.busy": "2021-11-16T00:14:09.567986Z",
     "iopub.status.idle": "2021-11-16T00:14:09.581919Z",
     "shell.execute_reply": "2021-11-16T00:14:09.580817Z",
     "shell.execute_reply.started": "2021-11-16T00:14:09.568276Z"
    }
   },
   "outputs": [],
   "source": [
    "#Check for unique values in each column\n",
    "\n",
    "n_uniqe = {col:df_combined[col].nunique() for col in df_combined}\n",
    "for key in n_uniqe:\n",
    "    print(f\"{key} has {n_uniqe[key]} unique values\")"
   ]
  },
  {
   "cell_type": "markdown",
   "metadata": {},
   "source": [
    "**Let's get the number of relatives for each passenger by getting the sum of Parch and SibSp**"
   ]
  },
  {
   "cell_type": "code",
   "execution_count": 27,
   "metadata": {
    "execution": {
     "iopub.execute_input": "2021-11-16T00:20:19.202599Z",
     "iopub.status.busy": "2021-11-16T00:20:19.202246Z",
     "iopub.status.idle": "2021-11-16T00:20:19.214168Z",
     "shell.execute_reply": "2021-11-16T00:20:19.213086Z",
     "shell.execute_reply.started": "2021-11-16T00:20:19.202548Z"
    }
   },
   "outputs": [],
   "source": [
    "df_combined[\"SibSp\"].describe().T"
   ]
  },
  {
   "cell_type": "code",
   "execution_count": 28,
   "metadata": {
    "execution": {
     "iopub.execute_input": "2021-11-16T00:20:34.109380Z",
     "iopub.status.busy": "2021-11-16T00:20:34.109068Z",
     "iopub.status.idle": "2021-11-16T00:20:34.119773Z",
     "shell.execute_reply": "2021-11-16T00:20:34.118822Z",
     "shell.execute_reply.started": "2021-11-16T00:20:34.109352Z"
    }
   },
   "outputs": [],
   "source": [
    "df_combined['Parch'].describe().T"
   ]
  },
  {
   "cell_type": "code",
   "execution_count": 25,
   "metadata": {
    "execution": {
     "iopub.execute_input": "2021-11-16T00:14:13.316194Z",
     "iopub.status.busy": "2021-11-16T00:14:13.315877Z",
     "iopub.status.idle": "2021-11-16T00:14:13.322136Z",
     "shell.execute_reply": "2021-11-16T00:14:13.321281Z",
     "shell.execute_reply.started": "2021-11-16T00:14:13.316167Z"
    }
   },
   "outputs": [],
   "source": [
    "df_combined['relatives'] = df_combined['Parch']+df_combined[\"SibSp\"]"
   ]
  },
  {
   "cell_type": "code",
   "execution_count": 29,
   "metadata": {
    "execution": {
     "iopub.execute_input": "2021-11-16T00:20:50.691836Z",
     "iopub.status.busy": "2021-11-16T00:20:50.691482Z",
     "iopub.status.idle": "2021-11-16T00:20:50.703206Z",
     "shell.execute_reply": "2021-11-16T00:20:50.702174Z",
     "shell.execute_reply.started": "2021-11-16T00:20:50.691808Z"
    }
   },
   "outputs": [],
   "source": [
    "df_combined['relatives'].describe().T"
   ]
  },
  {
   "cell_type": "markdown",
   "metadata": {},
   "source": [
    "**Now, let's check for the correlation between Survival and Relative count**"
   ]
  },
  {
   "cell_type": "code",
   "execution_count": 30,
   "metadata": {
    "execution": {
     "iopub.execute_input": "2021-11-16T00:20:56.066912Z",
     "iopub.status.busy": "2021-11-16T00:20:56.066598Z",
     "iopub.status.idle": "2021-11-16T00:20:56.548208Z",
     "shell.execute_reply": "2021-11-16T00:20:56.547440Z",
     "shell.execute_reply.started": "2021-11-16T00:20:56.066885Z"
    }
   },
   "outputs": [],
   "source": [
    "#create a bar graph with the correlation between relatives and survival\n",
    "\n",
    "sns.barplot(data=df_combined,x='relatives',y=\"Survived\")\n",
    "plt.title(\"Correlation between # of relatives and survival\")\n",
    "plt.show()"
   ]
  },
  {
   "cell_type": "code",
   "execution_count": 31,
   "metadata": {
    "execution": {
     "iopub.execute_input": "2021-11-16T00:21:20.743962Z",
     "iopub.status.busy": "2021-11-16T00:21:20.743621Z",
     "iopub.status.idle": "2021-11-16T00:21:21.262221Z",
     "shell.execute_reply": "2021-11-16T00:21:21.261358Z",
     "shell.execute_reply.started": "2021-11-16T00:21:20.743933Z"
    }
   },
   "outputs": [],
   "source": [
    "#create a bar graph with the correlation between Pclass and survival - by gender\n",
    "\n",
    "sns.factorplot(x = 'Pclass', y='Survived', \n",
    "               hue = 'Sex',data=df_combined, kind='bar')\n",
    "plt.title(\"Correlation between the Pclass and survival\")\n",
    "plt.show()"
   ]
  },
  {
   "cell_type": "markdown",
   "metadata": {},
   "source": [
    "**There we go! we have a major correlation between the Pclass/Sex column and survival,females at class 1 and 2 are almost certain to survive! whilst males have a way lower survival chance across all classes!**"
   ]
  },
  {
   "cell_type": "markdown",
   "metadata": {},
   "source": [
    "# 3.Preprocessing Data"
   ]
  },
  {
   "cell_type": "code",
   "execution_count": 32,
   "metadata": {
    "execution": {
     "iopub.execute_input": "2021-11-16T00:22:31.028033Z",
     "iopub.status.busy": "2021-11-16T00:22:31.027492Z",
     "iopub.status.idle": "2021-11-16T00:22:31.581192Z",
     "shell.execute_reply": "2021-11-16T00:22:31.580429Z",
     "shell.execute_reply.started": "2021-11-16T00:22:31.027979Z"
    }
   },
   "outputs": [],
   "source": [
    "msno.matrix(df_combined)"
   ]
  },
  {
   "cell_type": "markdown",
   "metadata": {},
   "source": [
    "**We still have quite a few missing values at Age, and on Age_Class consequently.\n",
    "Since there aren't as much missing values as the Cabin column, let's try to fill in those Gaps using Fillna!**"
   ]
  },
  {
   "cell_type": "code",
   "execution_count": 33,
   "metadata": {
    "execution": {
     "iopub.execute_input": "2021-11-16T00:23:04.133245Z",
     "iopub.status.busy": "2021-11-16T00:23:04.132930Z",
     "iopub.status.idle": "2021-11-16T00:23:04.142846Z",
     "shell.execute_reply": "2021-11-16T00:23:04.141810Z",
     "shell.execute_reply.started": "2021-11-16T00:23:04.133217Z"
    }
   },
   "outputs": [],
   "source": [
    "#input the missing values in the Age and cabin column using Fillna\n",
    "\n",
    "df_combined[\"Age\"] = df_combined[\"Age\"].fillna(method='ffill')\n",
    "\n",
    "\n",
    "#Let's Also reset the Age_Class since we filled the columns\n",
    "\n",
    "df_combined['Age_Class'] = (df_combined['Age']/20)+0.5\n",
    "df_combined['Age_Class'] = round(df_combined['Age_Class'])"
   ]
  },
  {
   "cell_type": "code",
   "execution_count": 34,
   "metadata": {
    "execution": {
     "iopub.execute_input": "2021-11-16T00:23:20.859852Z",
     "iopub.status.busy": "2021-11-16T00:23:20.859487Z",
     "iopub.status.idle": "2021-11-16T00:23:20.866790Z",
     "shell.execute_reply": "2021-11-16T00:23:20.865869Z",
     "shell.execute_reply.started": "2021-11-16T00:23:20.859822Z"
    }
   },
   "outputs": [],
   "source": [
    "#Normalize the sex column setting male to 1 and female to 0\n",
    "\n",
    "df_combined[\"Sex\"] = [1 if x==\"male\" else 0 for x in df_combined[\"Sex\"]]"
   ]
  },
  {
   "cell_type": "code",
   "execution_count": 35,
   "metadata": {
    "execution": {
     "iopub.execute_input": "2021-11-16T00:23:25.837655Z",
     "iopub.status.busy": "2021-11-16T00:23:25.837318Z",
     "iopub.status.idle": "2021-11-16T00:23:26.370245Z",
     "shell.execute_reply": "2021-11-16T00:23:26.369456Z",
     "shell.execute_reply.started": "2021-11-16T00:23:25.837625Z"
    }
   },
   "outputs": [],
   "source": [
    "msno.matrix(df_combined)"
   ]
  },
  {
   "cell_type": "markdown",
   "metadata": {},
   "source": [
    "**Much better, we still have that one empty value at Fare and Embarked, so let's deal with that very quickly**"
   ]
  },
  {
   "cell_type": "code",
   "execution_count": 36,
   "metadata": {
    "execution": {
     "iopub.execute_input": "2021-11-16T00:23:51.472244Z",
     "iopub.status.busy": "2021-11-16T00:23:51.471917Z",
     "iopub.status.idle": "2021-11-16T00:23:51.480422Z",
     "shell.execute_reply": "2021-11-16T00:23:51.479255Z",
     "shell.execute_reply.started": "2021-11-16T00:23:51.472214Z"
    }
   },
   "outputs": [],
   "source": [
    "#Let's start by filling these few empty rows in Embarked and Fare\n",
    "\n",
    "df_combined[\"Embarked\"] = df_combined[\"Embarked\"].fillna(method='ffill')\n",
    "df_combined[\"Fare\"] = df_combined[\"Fare\"].fillna(method='ffill')\n",
    "\n",
    "\n",
    "#Classify the Fare group again, since we filled the values\n",
    "\n",
    "df_combined['Fare_Class'] = (df_combined['Fare']/100)+0.5\n",
    "df_combined['Fare_Class'] = round(df_combined['Fare_Class'])"
   ]
  },
  {
   "cell_type": "code",
   "execution_count": 37,
   "metadata": {
    "execution": {
     "iopub.execute_input": "2021-11-16T00:23:55.678275Z",
     "iopub.status.busy": "2021-11-16T00:23:55.677874Z",
     "iopub.status.idle": "2021-11-16T00:23:56.229207Z",
     "shell.execute_reply": "2021-11-16T00:23:56.228430Z",
     "shell.execute_reply.started": "2021-11-16T00:23:55.678238Z"
    }
   },
   "outputs": [],
   "source": [
    "msno.matrix(df_combined)"
   ]
  },
  {
   "cell_type": "markdown",
   "metadata": {},
   "source": [
    "**Now that's perfect! let's give the df a last look and see what we can do before moving on to model making!**"
   ]
  },
  {
   "cell_type": "code",
   "execution_count": 38,
   "metadata": {
    "execution": {
     "iopub.execute_input": "2021-11-16T00:24:22.339922Z",
     "iopub.status.busy": "2021-11-16T00:24:22.339435Z",
     "iopub.status.idle": "2021-11-16T00:24:22.401328Z",
     "shell.execute_reply": "2021-11-16T00:24:22.400158Z",
     "shell.execute_reply.started": "2021-11-16T00:24:22.339881Z"
    }
   },
   "outputs": [],
   "source": [
    "df_combined"
   ]
  },
  {
   "cell_type": "markdown",
   "metadata": {},
   "source": [
    "**Seems we could encode the Ticked and Embarked values and split the names to get the last names and pronouns!**"
   ]
  },
  {
   "cell_type": "code",
   "execution_count": 39,
   "metadata": {
    "execution": {
     "iopub.execute_input": "2021-11-16T00:24:48.728895Z",
     "iopub.status.busy": "2021-11-16T00:24:48.728489Z",
     "iopub.status.idle": "2021-11-16T00:24:48.743230Z",
     "shell.execute_reply": "2021-11-16T00:24:48.742025Z",
     "shell.execute_reply.started": "2021-11-16T00:24:48.728855Z"
    }
   },
   "outputs": [],
   "source": [
    "# let's split the names, last names and pronouns to get better details\n",
    "df_combined[\"Last_Name\"] = [name.split(',')[0].strip() for name in df_combined[\"Name\"]]\n",
    "\n",
    "df_combined[\"Name\"] = [name.split(',')[1].strip() for name in df_combined[\"Name\"]]\n",
    "\n",
    "df_combined[\"Pronoun\"] = [name.split('.')[0].strip() for name in df_combined[\"Name\"]]\n",
    "\n",
    "df_combined[\"Name\"] = [name.split('.')[1].strip() for name in df_combined[\"Name\"]]"
   ]
  },
  {
   "cell_type": "code",
   "execution_count": 40,
   "metadata": {
    "execution": {
     "iopub.execute_input": "2021-11-16T00:24:53.863963Z",
     "iopub.status.busy": "2021-11-16T00:24:53.863599Z",
     "iopub.status.idle": "2021-11-16T00:24:53.869360Z",
     "shell.execute_reply": "2021-11-16T00:24:53.868488Z",
     "shell.execute_reply.started": "2021-11-16T00:24:53.863931Z"
    }
   },
   "outputs": [],
   "source": [
    "#let's use the label encoder to encode the categorical features\n",
    "\n",
    "l1= LabelEncoder()\n",
    "\n",
    "l1.fit(df_combined['Embarked'])\n",
    "df_combined.Embarked = l1.transform(df_combined.Embarked)"
   ]
  },
  {
   "cell_type": "code",
   "execution_count": 41,
   "metadata": {
    "execution": {
     "iopub.execute_input": "2021-11-16T00:24:57.798693Z",
     "iopub.status.busy": "2021-11-16T00:24:57.798275Z",
     "iopub.status.idle": "2021-11-16T00:24:57.809434Z",
     "shell.execute_reply": "2021-11-16T00:24:57.808479Z",
     "shell.execute_reply.started": "2021-11-16T00:24:57.798654Z"
    }
   },
   "outputs": [],
   "source": [
    "l1.fit(df_combined['Ticket'])\n",
    "df_combined.Ticket = l1.transform(df_combined.Ticket)"
   ]
  },
  {
   "cell_type": "code",
   "execution_count": 42,
   "metadata": {
    "execution": {
     "iopub.execute_input": "2021-11-16T00:24:59.830244Z",
     "iopub.status.busy": "2021-11-16T00:24:59.829934Z",
     "iopub.status.idle": "2021-11-16T00:24:59.836260Z",
     "shell.execute_reply": "2021-11-16T00:24:59.835092Z",
     "shell.execute_reply.started": "2021-11-16T00:24:59.830217Z"
    }
   },
   "outputs": [],
   "source": [
    "l1.fit(df_combined['Last_Name'])\n",
    "df_combined.Last_Name = l1.transform(df_combined.Last_Name)"
   ]
  },
  {
   "cell_type": "code",
   "execution_count": 43,
   "metadata": {
    "execution": {
     "iopub.execute_input": "2021-11-16T00:25:02.720883Z",
     "iopub.status.busy": "2021-11-16T00:25:02.720531Z",
     "iopub.status.idle": "2021-11-16T00:25:02.726271Z",
     "shell.execute_reply": "2021-11-16T00:25:02.725140Z",
     "shell.execute_reply.started": "2021-11-16T00:25:02.720855Z"
    }
   },
   "outputs": [],
   "source": [
    "l1.fit(df_combined['Pronoun'])\n",
    "df_combined.Pronoun = l1.transform(df_combined.Pronoun)"
   ]
  },
  {
   "cell_type": "code",
   "execution_count": 44,
   "metadata": {
    "execution": {
     "iopub.execute_input": "2021-11-16T00:25:04.636695Z",
     "iopub.status.busy": "2021-11-16T00:25:04.636343Z",
     "iopub.status.idle": "2021-11-16T00:25:04.669826Z",
     "shell.execute_reply": "2021-11-16T00:25:04.668986Z",
     "shell.execute_reply.started": "2021-11-16T00:25:04.636663Z"
    }
   },
   "outputs": [],
   "source": [
    "df_combined"
   ]
  },
  {
   "cell_type": "markdown",
   "metadata": {},
   "source": [
    "**Very nice**"
   ]
  },
  {
   "cell_type": "code",
   "execution_count": 45,
   "metadata": {
    "execution": {
     "iopub.execute_input": "2021-11-16T00:25:09.747248Z",
     "iopub.status.busy": "2021-11-16T00:25:09.746941Z",
     "iopub.status.idle": "2021-11-16T00:25:10.852323Z",
     "shell.execute_reply": "2021-11-16T00:25:10.851500Z",
     "shell.execute_reply.started": "2021-11-16T00:25:09.747220Z"
    }
   },
   "outputs": [],
   "source": [
    "#create a heatmap to identify correlation between columns\n",
    "sns.heatmap(df_combined.corr(),annot=True)\n",
    "plt.show()"
   ]
  },
  {
   "cell_type": "markdown",
   "metadata": {},
   "source": [
    "**Taking a Final look at the correlations between columns what can we see in the clean data is:**\n",
    "* Survived and Fare have a significant correlation - endorsed by the graph we've seen earlier.\n",
    "* PClass and ticked have a significant correlation however, we might want to take a closer look at it.\n",
    "* Fare has significant correlations with a lot of columns - relatives, age and survival, endorsed by our previous analysis, older people tend to pay more, older people usually have relatives on board, more relatives : higher fare."
   ]
  },
  {
   "cell_type": "code",
   "execution_count": 46,
   "metadata": {
    "execution": {
     "iopub.execute_input": "2021-11-16T00:25:41.154613Z",
     "iopub.status.busy": "2021-11-16T00:25:41.154275Z",
     "iopub.status.idle": "2021-11-16T00:25:41.173465Z",
     "shell.execute_reply": "2021-11-16T00:25:41.172737Z",
     "shell.execute_reply.started": "2021-11-16T00:25:41.154582Z"
    }
   },
   "outputs": [],
   "source": [
    "#let me export it and have a closer look on excel\n",
    "df_combined.to_csv('Titanic_df.csv', index=False)"
   ]
  },
  {
   "cell_type": "markdown",
   "metadata": {},
   "source": [
    "After looking closely, i couldn't see any major link to the ticket number, apart from the relatives which shared the ticket number"
   ]
  },
  {
   "cell_type": "code",
   "execution_count": 47,
   "metadata": {
    "execution": {
     "iopub.execute_input": "2021-11-16T00:25:44.778244Z",
     "iopub.status.busy": "2021-11-16T00:25:44.777928Z",
     "iopub.status.idle": "2021-11-16T00:25:44.789001Z",
     "shell.execute_reply": "2021-11-16T00:25:44.788103Z",
     "shell.execute_reply.started": "2021-11-16T00:25:44.778215Z"
    }
   },
   "outputs": [],
   "source": [
    "#let's get the clean version of the train data by dropping the empty rows in Survived\n",
    "\n",
    "df_train = df_combined.dropna(subset=[\"Survived\"])\n",
    "\n",
    "\n",
    "#let's get the clean version of the test data by dropping the index from the train data we just got!\n",
    "\n",
    "df_test = df_combined.drop(df_train.index)"
   ]
  },
  {
   "cell_type": "code",
   "execution_count": 48,
   "metadata": {
    "execution": {
     "iopub.execute_input": "2021-11-16T00:25:49.888209Z",
     "iopub.status.busy": "2021-11-16T00:25:49.887882Z",
     "iopub.status.idle": "2021-11-16T00:25:49.893087Z",
     "shell.execute_reply": "2021-11-16T00:25:49.892212Z",
     "shell.execute_reply.started": "2021-11-16T00:25:49.888181Z"
    }
   },
   "outputs": [],
   "source": [
    "#Then let's drop the target since it's not needed for the test data\n",
    "\n",
    "df_test = df_test.drop(['Survived'], axis=1)"
   ]
  },
  {
   "cell_type": "markdown",
   "metadata": {},
   "source": [
    "**Now we have a clean train dataset, let's work it out**"
   ]
  },
  {
   "cell_type": "markdown",
   "metadata": {},
   "source": [
    "# 4.Model Making\n",
    "For this notebook i will be using a lgb model and we will be doing parameter optimization with GridSearchCV!"
   ]
  },
  {
   "cell_type": "code",
   "execution_count": 49,
   "metadata": {
    "execution": {
     "iopub.execute_input": "2021-11-16T00:25:56.166004Z",
     "iopub.status.busy": "2021-11-16T00:25:56.165666Z",
     "iopub.status.idle": "2021-11-16T00:25:56.171050Z",
     "shell.execute_reply": "2021-11-16T00:25:56.169534Z",
     "shell.execute_reply.started": "2021-11-16T00:25:56.165973Z"
    }
   },
   "outputs": [],
   "source": [
    "#First, let's define our data\n",
    "\n",
    "data = [c for c in df_train.columns if c not in ['Survived','Name']]"
   ]
  },
  {
   "cell_type": "code",
   "execution_count": 50,
   "metadata": {
    "execution": {
     "iopub.execute_input": "2021-11-16T00:25:58.687817Z",
     "iopub.status.busy": "2021-11-16T00:25:58.687466Z",
     "iopub.status.idle": "2021-11-16T00:25:58.697714Z",
     "shell.execute_reply": "2021-11-16T00:25:58.696676Z",
     "shell.execute_reply.started": "2021-11-16T00:25:58.687789Z"
    }
   },
   "outputs": [],
   "source": [
    "#set our data\n",
    "\n",
    "X=df_train[data]\n",
    "df_test=df_test[data]\n",
    "\n",
    "#y is our target\n",
    "\n",
    "y=df_train.Survived"
   ]
  },
  {
   "cell_type": "code",
   "execution_count": 51,
   "metadata": {
    "execution": {
     "iopub.execute_input": "2021-11-16T00:27:03.036403Z",
     "iopub.status.busy": "2021-11-16T00:27:03.036070Z",
     "iopub.status.idle": "2021-11-16T00:27:03.043376Z",
     "shell.execute_reply": "2021-11-16T00:27:03.042541Z",
     "shell.execute_reply.started": "2021-11-16T00:27:03.036374Z"
    }
   },
   "outputs": [],
   "source": [
    "#Apply train_test_split to get the train and test values for each\n",
    "\n",
    "X_train,X_test,y_train,y_test=train_test_split(X,y,random_state=42)"
   ]
  },
  {
   "cell_type": "code",
   "execution_count": 52,
   "metadata": {
    "execution": {
     "iopub.execute_input": "2021-11-16T00:27:06.175917Z",
     "iopub.status.busy": "2021-11-16T00:27:06.175592Z",
     "iopub.status.idle": "2021-11-16T00:27:06.181530Z",
     "shell.execute_reply": "2021-11-16T00:27:06.180457Z",
     "shell.execute_reply.started": "2021-11-16T00:27:06.175889Z"
    }
   },
   "outputs": [],
   "source": [
    "# define the parameters you want to test out in GridSearch\n",
    "\n",
    "params={'boosting_type':['gbdt'], \n",
    "        'learning_rate':[0.8,0.5,0.3,0.1,0.01,0.001], \n",
    "        'max_depth':[1,3,5,7,9,12,15],\n",
    "        'n_estimators':[100,300,500,700,1000,1500], \n",
    "        'num_leaves':[20,35,50,75,100,150,300,500], \n",
    "        'random_state':[42]}"
   ]
  },
  {
   "cell_type": "markdown",
   "metadata": {},
   "source": [
    "**Don't worry if your model is taking a lot of time to fit, to get the best parameters GridSearch will run across all possible combinations of parameters within the given params so it may take a while depending on how many possibilities you put on the table!**"
   ]
  },
  {
   "cell_type": "code",
   "execution_count": 53,
   "metadata": {
    "execution": {
     "iopub.execute_input": "2021-11-16T00:32:34.372766Z",
     "iopub.status.busy": "2021-11-16T00:32:34.372423Z",
     "iopub.status.idle": "2021-11-16T00:32:34.377160Z",
     "shell.execute_reply": "2021-11-16T00:32:34.375990Z",
     "shell.execute_reply.started": "2021-11-16T00:32:34.372739Z"
    }
   },
   "outputs": [],
   "source": [
    "#Remember, folks we are dealing with a boolean prediction, the passenger either survived or it didn't, so we shall use a Classifier instead of a Regressor.\n",
    "#I totally did not use a Regressor the first time around... O.O\n",
    "# for this model i will be using LBGM due to the performance, but you can try whatever you want!\n",
    "\n",
    "model = lgb.LGBMClassifier() \n",
    "\n",
    "\n",
    "#cv is for the number of folds for each fit, n_jobs=-1 automatically sets all the cores on the machine\n",
    "\n",
    "#gscv= GridSearchCV(model,params,cv=5,n_jobs=-1,verbose=True)\n",
    "\n",
    "#gscv.fit(X_train,y_train,eval_set=(X_test,y_test),early_stopping_rounds=50,verbose=False)"
   ]
  },
  {
   "cell_type": "code",
   "execution_count": 54,
   "metadata": {
    "execution": {
     "iopub.execute_input": "2021-11-16T00:32:42.771295Z",
     "iopub.status.busy": "2021-11-16T00:32:42.770986Z",
     "iopub.status.idle": "2021-11-16T00:32:42.774757Z",
     "shell.execute_reply": "2021-11-16T00:32:42.773883Z",
     "shell.execute_reply.started": "2021-11-16T00:32:42.771266Z"
    }
   },
   "outputs": [],
   "source": [
    "#y_preds=gscv.predict(X_train)\n",
    "#t_preds=gscv.predict(X_test)\n",
    "#print(accuracy_score(y_preds,y_train))\n",
    "#print(accuracy_score(t_preds,y_test))\n",
    "\n",
    "#preds = gscv.predict(df_test)\n",
    "#gscv.best_params_"
   ]
  },
  {
   "cell_type": "markdown",
   "metadata": {},
   "source": [
    "**After we get the best parameters, we can use those on the model and make our predictions!**"
   ]
  },
  {
   "cell_type": "code",
   "execution_count": 55,
   "metadata": {
    "execution": {
     "iopub.execute_input": "2021-11-16T00:32:45.507840Z",
     "iopub.status.busy": "2021-11-16T00:32:45.507401Z",
     "iopub.status.idle": "2021-11-16T00:32:45.512272Z",
     "shell.execute_reply": "2021-11-16T00:32:45.511297Z",
     "shell.execute_reply.started": "2021-11-16T00:32:45.507806Z"
    }
   },
   "outputs": [],
   "source": [
    "best_params = {'boosting_type': ['gbdt'],\n",
    " 'learning_rate': [0.3],\n",
    " 'max_depth': [8],\n",
    " 'n_estimators': [100],\n",
    " 'num_leaves': [20],\n",
    " 'random_state': [42]}"
   ]
  },
  {
   "cell_type": "code",
   "execution_count": 56,
   "metadata": {
    "execution": {
     "iopub.execute_input": "2021-11-16T00:32:48.173239Z",
     "iopub.status.busy": "2021-11-16T00:32:48.172892Z",
     "iopub.status.idle": "2021-11-16T00:32:52.722453Z",
     "shell.execute_reply": "2021-11-16T00:32:52.721613Z",
     "shell.execute_reply.started": "2021-11-16T00:32:48.173209Z"
    }
   },
   "outputs": [],
   "source": [
    "gscv = GridSearchCV(model,best_params,cv=5,n_jobs=-1,verbose=1)\n",
    "gscv.fit(X_train,y_train,eval_set=(X_test,y_test),early_stopping_rounds=5,verbose=False)"
   ]
  },
  {
   "cell_type": "code",
   "execution_count": 57,
   "metadata": {
    "execution": {
     "iopub.execute_input": "2021-11-16T00:32:59.406276Z",
     "iopub.status.busy": "2021-11-16T00:32:59.405833Z",
     "iopub.status.idle": "2021-11-16T00:32:59.484040Z",
     "shell.execute_reply": "2021-11-16T00:32:59.483152Z",
     "shell.execute_reply.started": "2021-11-16T00:32:59.406232Z"
    }
   },
   "outputs": [],
   "source": [
    "#let's check for overfitting!\n",
    "\n",
    "y_preds=gscv.predict(X_train)\n",
    "t_preds=gscv.predict(X_test)\n",
    "\n",
    "print('Train accuracy: ',accuracy_score(y_preds,y_train))\n",
    "print('Test accuracy: ',accuracy_score(t_preds,y_test))\n",
    "\n",
    "preds = gscv.predict(df_test)"
   ]
  },
  {
   "cell_type": "markdown",
   "metadata": {},
   "source": [
    "The Train and test scores are very close, so we can't say there is overfitting!"
   ]
  },
  {
   "cell_type": "code",
   "execution_count": 58,
   "metadata": {
    "execution": {
     "iopub.execute_input": "2021-11-16T00:33:05.578604Z",
     "iopub.status.busy": "2021-11-16T00:33:05.578260Z",
     "iopub.status.idle": "2021-11-16T00:33:05.591423Z",
     "shell.execute_reply": "2021-11-16T00:33:05.590596Z",
     "shell.execute_reply.started": "2021-11-16T00:33:05.578569Z"
    }
   },
   "outputs": [],
   "source": [
    "index = pd.read_csv(\"/kaggle/input/titanic/test.csv\")[\"PassengerId\"]\n",
    "my_submission = pd.DataFrame({'PassengerId': index, \"Survived\": preds})"
   ]
  },
  {
   "cell_type": "code",
   "execution_count": 59,
   "metadata": {
    "execution": {
     "iopub.execute_input": "2021-11-16T00:33:08.560495Z",
     "iopub.status.busy": "2021-11-16T00:33:08.560166Z",
     "iopub.status.idle": "2021-11-16T00:33:08.566051Z",
     "shell.execute_reply": "2021-11-16T00:33:08.565240Z",
     "shell.execute_reply.started": "2021-11-16T00:33:08.560458Z"
    }
   },
   "outputs": [],
   "source": [
    "#remember to set the Survived values as integers, otherwise you'll get 0% accuracy\n",
    "\n",
    "my_submission['Survived'] = my_submission['Survived'].astype('Int64')"
   ]
  },
  {
   "cell_type": "code",
   "execution_count": 61,
   "metadata": {
    "execution": {
     "iopub.execute_input": "2021-11-16T00:33:32.574304Z",
     "iopub.status.busy": "2021-11-16T00:33:32.573901Z",
     "iopub.status.idle": "2021-11-16T00:33:32.599207Z",
     "shell.execute_reply": "2021-11-16T00:33:32.587098Z",
     "shell.execute_reply.started": "2021-11-16T00:33:32.574268Z"
    }
   },
   "outputs": [],
   "source": [
    "my_submission.to_csv('my_submission.csv', index=False)\n",
    "print('My Submission')"
   ]
  },
  {
   "cell_type": "markdown",
   "metadata": {},
   "source": [
    "**You may get better results by tweaking the parameters, i encourage you to play around with the parameter optimization!**"
   ]
  },
  {
   "cell_type": "markdown",
   "metadata": {},
   "source": [
    "# The End\n",
    "**That's it folks, hope you learned a thing or two in this journey! be sure to upvote the notebook if you liked, and comment any constructive criticism about the model, this is more of a learning project so the aim wasn't to climb to the top of the leaderboard but to learn the concepts and the practical applications!**"
   ]
  }
 ],
 "metadata": {
  "kernelspec": {
   "display_name": "Python 3 (ipykernel)",
   "language": "python",
   "name": "python3"
  },
  "language_info": {
   "codemirror_mode": {
    "name": "ipython",
    "version": 3
   },
   "file_extension": ".py",
   "mimetype": "text/x-python",
   "name": "python",
   "nbconvert_exporter": "python",
   "pygments_lexer": "ipython3",
   "version": "3.8.8"
  }
 },
 "nbformat": 4,
 "nbformat_minor": 4
}

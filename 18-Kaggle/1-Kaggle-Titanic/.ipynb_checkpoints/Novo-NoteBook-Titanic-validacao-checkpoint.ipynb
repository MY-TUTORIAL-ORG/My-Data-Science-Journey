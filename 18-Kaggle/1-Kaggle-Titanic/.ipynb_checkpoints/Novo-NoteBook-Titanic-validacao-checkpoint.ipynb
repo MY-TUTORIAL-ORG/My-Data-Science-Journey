{
 "cells": [
  {
   "cell_type": "markdown",
   "id": "36aa7311-b15f-484d-999a-2e1bde761146",
   "metadata": {},
   "source": [
    "1. Treino\n",
    "2. Validação\n",
    "3. Teste"
   ]
  },
  {
   "cell_type": "markdown",
   "id": "5696394e-a163-483f-b55b-285f94ec344b",
   "metadata": {
    "tags": []
   },
   "source": [
    "# Primeiro Modelo com Random Forest"
   ]
  },
  {
   "cell_type": "code",
   "execution_count": null,
   "id": "fd910b88-3b17-4404-92c6-346893c2300b",
   "metadata": {},
   "outputs": [],
   "source": [
    "import pandas as pd\n",
    "import numpy as np"
   ]
  },
  {
   "cell_type": "code",
   "execution_count": 145,
   "id": "bceaa04b-f0e8-4bc7-930e-c7ed812fcc0a",
   "metadata": {},
   "outputs": [],
   "source": [
    "train = pd.read_csv('train.csv')\n",
    "test = pd.read_csv('test.csv')"
   ]
  },
  {
   "cell_type": "code",
   "execution_count": 146,
   "id": "767243fa-530d-48aa-a39c-5c690253321a",
   "metadata": {},
   "outputs": [
    {
     "data": {
      "text/html": [
       "<div>\n",
       "<style scoped>\n",
       "    .dataframe tbody tr th:only-of-type {\n",
       "        vertical-align: middle;\n",
       "    }\n",
       "\n",
       "    .dataframe tbody tr th {\n",
       "        vertical-align: top;\n",
       "    }\n",
       "\n",
       "    .dataframe thead th {\n",
       "        text-align: right;\n",
       "    }\n",
       "</style>\n",
       "<table border=\"1\" class=\"dataframe\">\n",
       "  <thead>\n",
       "    <tr style=\"text-align: right;\">\n",
       "      <th></th>\n",
       "      <th>count</th>\n",
       "      <th>mean</th>\n",
       "      <th>std</th>\n",
       "      <th>min</th>\n",
       "      <th>25%</th>\n",
       "      <th>50%</th>\n",
       "      <th>75%</th>\n",
       "      <th>max</th>\n",
       "    </tr>\n",
       "  </thead>\n",
       "  <tbody>\n",
       "    <tr>\n",
       "      <th>PassengerId</th>\n",
       "      <td>891.0</td>\n",
       "      <td>446.000000</td>\n",
       "      <td>257.353842</td>\n",
       "      <td>1.00</td>\n",
       "      <td>223.5000</td>\n",
       "      <td>446.0000</td>\n",
       "      <td>668.5</td>\n",
       "      <td>891.0000</td>\n",
       "    </tr>\n",
       "    <tr>\n",
       "      <th>Survived</th>\n",
       "      <td>891.0</td>\n",
       "      <td>0.383838</td>\n",
       "      <td>0.486592</td>\n",
       "      <td>0.00</td>\n",
       "      <td>0.0000</td>\n",
       "      <td>0.0000</td>\n",
       "      <td>1.0</td>\n",
       "      <td>1.0000</td>\n",
       "    </tr>\n",
       "    <tr>\n",
       "      <th>Pclass</th>\n",
       "      <td>891.0</td>\n",
       "      <td>2.308642</td>\n",
       "      <td>0.836071</td>\n",
       "      <td>1.00</td>\n",
       "      <td>2.0000</td>\n",
       "      <td>3.0000</td>\n",
       "      <td>3.0</td>\n",
       "      <td>3.0000</td>\n",
       "    </tr>\n",
       "    <tr>\n",
       "      <th>Age</th>\n",
       "      <td>714.0</td>\n",
       "      <td>29.699118</td>\n",
       "      <td>14.526497</td>\n",
       "      <td>0.42</td>\n",
       "      <td>20.1250</td>\n",
       "      <td>28.0000</td>\n",
       "      <td>38.0</td>\n",
       "      <td>80.0000</td>\n",
       "    </tr>\n",
       "    <tr>\n",
       "      <th>SibSp</th>\n",
       "      <td>891.0</td>\n",
       "      <td>0.523008</td>\n",
       "      <td>1.102743</td>\n",
       "      <td>0.00</td>\n",
       "      <td>0.0000</td>\n",
       "      <td>0.0000</td>\n",
       "      <td>1.0</td>\n",
       "      <td>8.0000</td>\n",
       "    </tr>\n",
       "    <tr>\n",
       "      <th>Parch</th>\n",
       "      <td>891.0</td>\n",
       "      <td>0.381594</td>\n",
       "      <td>0.806057</td>\n",
       "      <td>0.00</td>\n",
       "      <td>0.0000</td>\n",
       "      <td>0.0000</td>\n",
       "      <td>0.0</td>\n",
       "      <td>6.0000</td>\n",
       "    </tr>\n",
       "    <tr>\n",
       "      <th>Fare</th>\n",
       "      <td>891.0</td>\n",
       "      <td>32.204208</td>\n",
       "      <td>49.693429</td>\n",
       "      <td>0.00</td>\n",
       "      <td>7.9104</td>\n",
       "      <td>14.4542</td>\n",
       "      <td>31.0</td>\n",
       "      <td>512.3292</td>\n",
       "    </tr>\n",
       "  </tbody>\n",
       "</table>\n",
       "</div>"
      ],
      "text/plain": [
       "             count        mean         std   min       25%       50%    75%  \\\n",
       "PassengerId  891.0  446.000000  257.353842  1.00  223.5000  446.0000  668.5   \n",
       "Survived     891.0    0.383838    0.486592  0.00    0.0000    0.0000    1.0   \n",
       "Pclass       891.0    2.308642    0.836071  1.00    2.0000    3.0000    3.0   \n",
       "Age          714.0   29.699118   14.526497  0.42   20.1250   28.0000   38.0   \n",
       "SibSp        891.0    0.523008    1.102743  0.00    0.0000    0.0000    1.0   \n",
       "Parch        891.0    0.381594    0.806057  0.00    0.0000    0.0000    0.0   \n",
       "Fare         891.0   32.204208   49.693429  0.00    7.9104   14.4542   31.0   \n",
       "\n",
       "                  max  \n",
       "PassengerId  891.0000  \n",
       "Survived       1.0000  \n",
       "Pclass         3.0000  \n",
       "Age           80.0000  \n",
       "SibSp          8.0000  \n",
       "Parch          6.0000  \n",
       "Fare         512.3292  "
      ]
     },
     "execution_count": 146,
     "metadata": {},
     "output_type": "execute_result"
    }
   ],
   "source": [
    "train.describe().T"
   ]
  },
  {
   "cell_type": "code",
   "execution_count": null,
   "id": "5fbc7c93-2cf6-453f-b8f3-02918ab6ce0a",
   "metadata": {},
   "outputs": [],
   "source": [
    "test.describe().T"
   ]
  },
  {
   "cell_type": "code",
   "execution_count": 147,
   "id": "0fa96b32-2c35-48ac-88e6-aa19a35802aa",
   "metadata": {},
   "outputs": [
    {
     "data": {
      "text/html": [
       "<div>\n",
       "<style scoped>\n",
       "    .dataframe tbody tr th:only-of-type {\n",
       "        vertical-align: middle;\n",
       "    }\n",
       "\n",
       "    .dataframe tbody tr th {\n",
       "        vertical-align: top;\n",
       "    }\n",
       "\n",
       "    .dataframe thead th {\n",
       "        text-align: right;\n",
       "    }\n",
       "</style>\n",
       "<table border=\"1\" class=\"dataframe\">\n",
       "  <thead>\n",
       "    <tr style=\"text-align: right;\">\n",
       "      <th></th>\n",
       "      <th>PassengerId</th>\n",
       "      <th>Survived</th>\n",
       "      <th>Pclass</th>\n",
       "      <th>Name</th>\n",
       "      <th>Sex</th>\n",
       "      <th>Age</th>\n",
       "      <th>SibSp</th>\n",
       "      <th>Parch</th>\n",
       "      <th>Ticket</th>\n",
       "      <th>Fare</th>\n",
       "      <th>Cabin</th>\n",
       "      <th>Embarked</th>\n",
       "    </tr>\n",
       "  </thead>\n",
       "  <tbody>\n",
       "    <tr>\n",
       "      <th>0</th>\n",
       "      <td>1</td>\n",
       "      <td>0</td>\n",
       "      <td>3</td>\n",
       "      <td>Braund, Mr. Owen Harris</td>\n",
       "      <td>male</td>\n",
       "      <td>22.0</td>\n",
       "      <td>1</td>\n",
       "      <td>0</td>\n",
       "      <td>A/5 21171</td>\n",
       "      <td>7.2500</td>\n",
       "      <td>NaN</td>\n",
       "      <td>S</td>\n",
       "    </tr>\n",
       "    <tr>\n",
       "      <th>1</th>\n",
       "      <td>2</td>\n",
       "      <td>1</td>\n",
       "      <td>1</td>\n",
       "      <td>Cumings, Mrs. John Bradley (Florence Briggs Th...</td>\n",
       "      <td>female</td>\n",
       "      <td>38.0</td>\n",
       "      <td>1</td>\n",
       "      <td>0</td>\n",
       "      <td>PC 17599</td>\n",
       "      <td>71.2833</td>\n",
       "      <td>C85</td>\n",
       "      <td>C</td>\n",
       "    </tr>\n",
       "    <tr>\n",
       "      <th>2</th>\n",
       "      <td>3</td>\n",
       "      <td>1</td>\n",
       "      <td>3</td>\n",
       "      <td>Heikkinen, Miss. Laina</td>\n",
       "      <td>female</td>\n",
       "      <td>26.0</td>\n",
       "      <td>0</td>\n",
       "      <td>0</td>\n",
       "      <td>STON/O2. 3101282</td>\n",
       "      <td>7.9250</td>\n",
       "      <td>NaN</td>\n",
       "      <td>S</td>\n",
       "    </tr>\n",
       "    <tr>\n",
       "      <th>3</th>\n",
       "      <td>4</td>\n",
       "      <td>1</td>\n",
       "      <td>1</td>\n",
       "      <td>Futrelle, Mrs. Jacques Heath (Lily May Peel)</td>\n",
       "      <td>female</td>\n",
       "      <td>35.0</td>\n",
       "      <td>1</td>\n",
       "      <td>0</td>\n",
       "      <td>113803</td>\n",
       "      <td>53.1000</td>\n",
       "      <td>C123</td>\n",
       "      <td>S</td>\n",
       "    </tr>\n",
       "    <tr>\n",
       "      <th>4</th>\n",
       "      <td>5</td>\n",
       "      <td>0</td>\n",
       "      <td>3</td>\n",
       "      <td>Allen, Mr. William Henry</td>\n",
       "      <td>male</td>\n",
       "      <td>35.0</td>\n",
       "      <td>0</td>\n",
       "      <td>0</td>\n",
       "      <td>373450</td>\n",
       "      <td>8.0500</td>\n",
       "      <td>NaN</td>\n",
       "      <td>S</td>\n",
       "    </tr>\n",
       "  </tbody>\n",
       "</table>\n",
       "</div>"
      ],
      "text/plain": [
       "   PassengerId  Survived  Pclass  \\\n",
       "0            1         0       3   \n",
       "1            2         1       1   \n",
       "2            3         1       3   \n",
       "3            4         1       1   \n",
       "4            5         0       3   \n",
       "\n",
       "                                                Name     Sex   Age  SibSp  \\\n",
       "0                            Braund, Mr. Owen Harris    male  22.0      1   \n",
       "1  Cumings, Mrs. John Bradley (Florence Briggs Th...  female  38.0      1   \n",
       "2                             Heikkinen, Miss. Laina  female  26.0      0   \n",
       "3       Futrelle, Mrs. Jacques Heath (Lily May Peel)  female  35.0      1   \n",
       "4                           Allen, Mr. William Henry    male  35.0      0   \n",
       "\n",
       "   Parch            Ticket     Fare Cabin Embarked  \n",
       "0      0         A/5 21171   7.2500   NaN        S  \n",
       "1      0          PC 17599  71.2833   C85        C  \n",
       "2      0  STON/O2. 3101282   7.9250   NaN        S  \n",
       "3      0            113803  53.1000  C123        S  \n",
       "4      0            373450   8.0500   NaN        S  "
      ]
     },
     "execution_count": 147,
     "metadata": {},
     "output_type": "execute_result"
    }
   ],
   "source": [
    "train.head()"
   ]
  },
  {
   "cell_type": "code",
   "execution_count": null,
   "id": "fa173c37-78f7-4c76-b5c8-25e64c8800f0",
   "metadata": {},
   "outputs": [],
   "source": [
    "from sklearn.ensemble import RandomForestClassifier\n",
    "from sklearn.model_selection import train_test_split"
   ]
  },
  {
   "cell_type": "code",
   "execution_count": null,
   "id": "e77d2382-69e7-4542-9899-26dd477b39bb",
   "metadata": {},
   "outputs": [],
   "source": [
    "train_test_split"
   ]
  },
  {
   "cell_type": "code",
   "execution_count": null,
   "id": "2bb95ef5-eba6-418b-8f00-9ab4cb3997d4",
   "metadata": {},
   "outputs": [],
   "source": [
    "X_falso = np.arange(10)"
   ]
  },
  {
   "cell_type": "code",
   "execution_count": null,
   "id": "e707c942-ccf1-406f-ac48-20e03a0c3965",
   "metadata": {},
   "outputs": [],
   "source": [
    "np.random.seed(0)\n",
    "train_test_split(X_falso, test_size=0.5)"
   ]
  },
  {
   "cell_type": "code",
   "execution_count": null,
   "id": "7e1ec101-ff08-4226-8b33-bf4430faaefa",
   "metadata": {},
   "outputs": [],
   "source": [
    "#np.random.seed(0)\n",
    "#X_treino, X_valid, y_treino, y_valid = train_test_split(X, y, test_size=0.5)"
   ]
  },
  {
   "cell_type": "code",
   "execution_count": null,
   "id": "79087afa-4f42-40e8-8868-4ae7fb842135",
   "metadata": {},
   "outputs": [],
   "source": [
    "modelo = RandomForestClassifier(n_estimators=100,n_jobs=-1,random_state=0)"
   ]
  },
  {
   "cell_type": "code",
   "execution_count": null,
   "id": "6de9c5f5-6415-409f-9b1a-0f2c48e7e97d",
   "metadata": {},
   "outputs": [],
   "source": []
  },
  {
   "cell_type": "markdown",
   "id": "0183b6b0-8342-4504-b86c-c572f1815439",
   "metadata": {},
   "source": [
    "### Variáveis"
   ]
  },
  {
   "cell_type": "markdown",
   "id": "32437f2a-7eae-4c81-8560-87e19f782972",
   "metadata": {},
   "source": [
    "### Variáveis"
   ]
  },
  {
   "cell_type": "code",
   "execution_count": null,
   "id": "290bbdb3-039d-4211-ac41-5d640dbd5d46",
   "metadata": {},
   "outputs": [],
   "source": [
    "#Sex_binario = 1 - Mulher\n",
    "#Sex_binario = 0 - Homem\n",
    "variaveis = ['Sex_binario','Age']"
   ]
  },
  {
   "cell_type": "code",
   "execution_count": null,
   "id": "e579886e-a68c-4ee1-810a-d9c5e24e2dd8",
   "metadata": {},
   "outputs": [],
   "source": [
    "train['Sex'].value_counts()"
   ]
  },
  {
   "cell_type": "code",
   "execution_count": null,
   "id": "d136ec87-8c4e-4cbd-9f91-e61551d73136",
   "metadata": {},
   "outputs": [],
   "source": [
    "def transformar_sexo(valor):\n",
    "    if valor =='female':\n",
    "        return 1\n",
    "    else:\n",
    "        return 0\n",
    "\n",
    "train['Sex_binario'] = train['Sex'].map(transformar_sexo)"
   ]
  },
  {
   "cell_type": "code",
   "execution_count": null,
   "id": "189b0e49-b65d-4593-9e92-0d512603878d",
   "metadata": {},
   "outputs": [],
   "source": [
    "train.head()"
   ]
  },
  {
   "cell_type": "code",
   "execution_count": null,
   "id": "b7e716e7-bf04-42da-b044-484f5af31561",
   "metadata": {},
   "outputs": [],
   "source": [
    "train.describe().T"
   ]
  },
  {
   "cell_type": "code",
   "execution_count": null,
   "id": "d1945a8c-68dd-4c88-9e7f-c8fcee60e9d6",
   "metadata": {},
   "outputs": [],
   "source": [
    "train['Sex_binario'].value_counts()"
   ]
  },
  {
   "cell_type": "code",
   "execution_count": null,
   "id": "961e15b1-1eaa-464c-845c-2959866114bb",
   "metadata": {},
   "outputs": [],
   "source": [
    "variaveis=['Sex_binario','Age']"
   ]
  },
  {
   "cell_type": "code",
   "execution_count": null,
   "id": "f1658e38-7ae8-4f1b-8820-4af31011fc60",
   "metadata": {},
   "outputs": [],
   "source": [
    "X = train[variaveis]\n",
    "y = train['Survived']"
   ]
  },
  {
   "cell_type": "code",
   "execution_count": null,
   "id": "18365aee-d1f0-4e80-be3d-03e28276492e",
   "metadata": {},
   "outputs": [],
   "source": [
    "X.head()"
   ]
  },
  {
   "cell_type": "code",
   "execution_count": null,
   "id": "abd8fdd6-ddc2-4209-be6c-f68c01a44fd8",
   "metadata": {},
   "outputs": [],
   "source": [
    "y.head()"
   ]
  },
  {
   "cell_type": "code",
   "execution_count": null,
   "id": "0c1d4870-09ac-4dfa-87c3-4640c2ee0596",
   "metadata": {},
   "outputs": [],
   "source": [
    "modelo.fit(X,y)"
   ]
  },
  {
   "cell_type": "code",
   "execution_count": null,
   "id": "45f4c65c-04b8-4baa-af76-36e75dd08a6a",
   "metadata": {},
   "outputs": [],
   "source": [
    "X = X.fillna(-1)"
   ]
  },
  {
   "cell_type": "code",
   "execution_count": null,
   "id": "b00fd8e1-b345-4cc2-88bf-2f93e86f92fa",
   "metadata": {},
   "outputs": [],
   "source": [
    "modelo.fit(X,y)"
   ]
  },
  {
   "cell_type": "code",
   "execution_count": null,
   "id": "dc0c80e5-0c90-429b-a455-b24c58e8e18c",
   "metadata": {},
   "outputs": [],
   "source": [
    "X_prev = test[variaveis]"
   ]
  },
  {
   "cell_type": "code",
   "execution_count": null,
   "id": "774a957c-be85-4857-ae47-925328123a1b",
   "metadata": {},
   "outputs": [],
   "source": [
    "test['Sex_binario'] = test['Sex'].map(transformar_sexo)"
   ]
  },
  {
   "cell_type": "code",
   "execution_count": null,
   "id": "0ccccd9f-d4f3-40d3-8019-cd9458d1c60e",
   "metadata": {},
   "outputs": [],
   "source": [
    "X_prev = test[variaveis]\n",
    "X_prev = X_prev.fillna(-1)"
   ]
  },
  {
   "cell_type": "code",
   "execution_count": null,
   "id": "05c83dbc-9f1f-4332-8928-1c56cb79e255",
   "metadata": {},
   "outputs": [],
   "source": [
    "X_prev.head()"
   ]
  },
  {
   "cell_type": "code",
   "execution_count": null,
   "id": "979da644-df00-438c-92b5-c51fdb27a81d",
   "metadata": {},
   "outputs": [],
   "source": [
    "p = modelo.predict(X_prev)"
   ]
  },
  {
   "cell_type": "code",
   "execution_count": null,
   "id": "1e8703e9-526c-4abd-8a6b-269789108481",
   "metadata": {},
   "outputs": [],
   "source": [
    "p"
   ]
  },
  {
   "cell_type": "code",
   "execution_count": null,
   "id": "84a1ce05-f75a-4ebc-8714-bfd71e9e90fd",
   "metadata": {},
   "outputs": [],
   "source": [
    "p.shape"
   ]
  },
  {
   "cell_type": "code",
   "execution_count": null,
   "id": "ea3f6b5f-bdc1-4ea2-96ec-9716531815f7",
   "metadata": {},
   "outputs": [],
   "source": [
    "test.head()"
   ]
  },
  {
   "cell_type": "code",
   "execution_count": null,
   "id": "111ac5cf-8ed7-4716-ab53-f998e1606215",
   "metadata": {},
   "outputs": [],
   "source": [
    "test.shape"
   ]
  },
  {
   "cell_type": "code",
   "execution_count": null,
   "id": "82cd66a2-3ab3-4302-94a7-f3714b30bf54",
   "metadata": {},
   "outputs": [],
   "source": [
    "sub = pd.Series(p, index=test['PassengerId'], name='Survived')"
   ]
  },
  {
   "cell_type": "code",
   "execution_count": null,
   "id": "dbd1575c-bf24-439f-ad48-7a18905d9da3",
   "metadata": {},
   "outputs": [],
   "source": [
    "sub"
   ]
  },
  {
   "cell_type": "code",
   "execution_count": null,
   "id": "a2fe977e-642a-4e32-a4fc-631667b3a28f",
   "metadata": {},
   "outputs": [],
   "source": [
    "sub.to_csv('Submissao_Random_Forest.csv', header=True)"
   ]
  },
  {
   "cell_type": "code",
   "execution_count": null,
   "id": "48a70ef1-69e0-4c56-b6d6-651e23b36ea3",
   "metadata": {},
   "outputs": [],
   "source": [
    "!head -n10 Submissao_Random_Forest.csv"
   ]
  },
  {
   "cell_type": "markdown",
   "id": "bf7b7902-3830-424a-9f1c-1fd75a1bca2d",
   "metadata": {},
   "source": [
    "# Segundo Modelo com Random Forest"
   ]
  },
  {
   "cell_type": "code",
   "execution_count": null,
   "id": "a450fc7f-e276-40fc-8a96-0977c260994a",
   "metadata": {},
   "outputs": [],
   "source": [
    "np.random.seed(0)\n",
    "X_treino, X_valid, y_treino, y_valid = train_test_split(X, y, test_size=0.5)"
   ]
  },
  {
   "cell_type": "code",
   "execution_count": null,
   "id": "7c93a723-1866-48f7-927f-e74cf183e6e0",
   "metadata": {},
   "outputs": [],
   "source": [
    "X_treino.head()"
   ]
  },
  {
   "cell_type": "code",
   "execution_count": null,
   "id": "4e6b9602-d588-4f35-8428-f1d47ea43a12",
   "metadata": {},
   "outputs": [],
   "source": [
    "X_treino.shape, X_valid.shape, y_treino.shape, y_valid.shape"
   ]
  },
  {
   "cell_type": "code",
   "execution_count": null,
   "id": "d2a89473-7f2e-4d72-9050-feb24f97ee87",
   "metadata": {},
   "outputs": [],
   "source": [
    "modelo.fit(X_treino, y_treino)"
   ]
  },
  {
   "cell_type": "code",
   "execution_count": null,
   "id": "0b51bea5-d599-4ff6-9887-fa2887bdd729",
   "metadata": {},
   "outputs": [],
   "source": [
    "modelo.predict(X_valid)"
   ]
  },
  {
   "cell_type": "code",
   "execution_count": null,
   "id": "2ce0d9f5-e76f-43df-8ad9-9bdc5706c09d",
   "metadata": {},
   "outputs": [],
   "source": [
    "p = modelo.predict(X_valid)"
   ]
  },
  {
   "cell_type": "code",
   "execution_count": null,
   "id": "55bdba45-5efd-45b0-932a-c8b7fa9e6f25",
   "metadata": {},
   "outputs": [],
   "source": [
    "p.shape"
   ]
  },
  {
   "cell_type": "code",
   "execution_count": null,
   "id": "c2a73f32-bf65-4185-ad9c-285bdfa3c683",
   "metadata": {},
   "outputs": [],
   "source": [
    "np.mean(y_valid == p)"
   ]
  },
  {
   "cell_type": "code",
   "execution_count": null,
   "id": "82e9103e-8294-45b5-b7a7-3be754ee6ff9",
   "metadata": {},
   "outputs": [],
   "source": [
    "p = (X_valid['Sex_binario'] == 1).astype(np.int64)"
   ]
  },
  {
   "cell_type": "code",
   "execution_count": null,
   "id": "2ff1b64b-242b-4ac9-9a25-43f6d87a528c",
   "metadata": {},
   "outputs": [],
   "source": [
    "p"
   ]
  },
  {
   "cell_type": "markdown",
   "id": "b73a6ed2-b816-43f9-829a-5834d731453f",
   "metadata": {},
   "source": [
    "# Salvar Base"
   ]
  },
  {
   "cell_type": "code",
   "execution_count": null,
   "id": "2be5e5c9-fcd7-48ca-b0cc-4577c5ebb30e",
   "metadata": {},
   "outputs": [],
   "source": [
    "sub = pd.Series(p, index=test['PassengerId'], name='Survived')"
   ]
  },
  {
   "cell_type": "code",
   "execution_count": null,
   "id": "e8553456-4cef-4dcf-88db-4c8987421d5f",
   "metadata": {},
   "outputs": [],
   "source": [
    "sub"
   ]
  },
  {
   "cell_type": "code",
   "execution_count": null,
   "id": "9cd4dd9e-6afc-4634-bb58-835e98d2bbd9",
   "metadata": {},
   "outputs": [],
   "source": [
    "sub.to_csv('Submissao_Random_Forest1.csv', header=True)"
   ]
  },
  {
   "cell_type": "code",
   "execution_count": null,
   "id": "49235765-1205-4d07-9ea8-3cf002aa693f",
   "metadata": {},
   "outputs": [],
   "source": [
    "!head -n10 Submissao_Random_Forest1.csv"
   ]
  },
  {
   "cell_type": "markdown",
   "id": "498be982-ed81-4de7-a6c4-d709595ccb7e",
   "metadata": {},
   "source": [
    "# Método de Reamostragem"
   ]
  },
  {
   "cell_type": "markdown",
   "id": "5cc8eedd-d19f-4678-b6cf-40fbcf3675a7",
   "metadata": {},
   "source": [
    "## Validação Cruzada"
   ]
  },
  {
   "cell_type": "code",
   "execution_count": null,
   "id": "438d7b20-1cb8-42ad-aadd-cb387bdc8ac7",
   "metadata": {},
   "outputs": [],
   "source": [
    "X_falso"
   ]
  },
  {
   "cell_type": "code",
   "execution_count": null,
   "id": "e773ada7-425f-4d6f-97fa-d95762763c9c",
   "metadata": {},
   "outputs": [],
   "source": [
    "from sklearn.model_selection import KFold"
   ]
  },
  {
   "cell_type": "code",
   "execution_count": 136,
   "id": "2f4ceab0-ef6c-462b-b201-c660ddaf3826",
   "metadata": {},
   "outputs": [
    {
     "name": "stdout",
     "output_type": "stream",
     "text": [
      "Treino: [0 1 3 5 6 7]\n",
      "Valid: [2 4 8 9]\n",
      "\n",
      "Treino: [0 2 3 4 5 8 9]\n",
      "Valid: [1 6 7]\n",
      "\n",
      "Treino: [1 2 4 6 7 8 9]\n",
      "Valid: [0 3 5]\n",
      "\n"
     ]
    }
   ],
   "source": [
    "kf = KFold(3, shuffle=True, random_state=0)\n",
    "for linhas_treino, linhas_valid in kf.split(X_falso):\n",
    "    print(\"Treino:\", linhas_treino)\n",
    "    print(\"Valid:\", linhas_valid)\n",
    "    print()"
   ]
  },
  {
   "cell_type": "code",
   "execution_count": 143,
   "id": "2111c4f9",
   "metadata": {},
   "outputs": [],
   "source": [
    "#?KFold\n",
    "import pandas as pd"
   ]
  },
  {
   "cell_type": "code",
   "execution_count": 189,
   "id": "cc4113f7-d41b-45ab-8e1c-47e95b51f6f3",
   "metadata": {},
   "outputs": [
    {
     "name": "stdout",
     "output_type": "stream",
     "text": [
      "--------------------------------\n",
      "Rep: 0\n",
      "Treino: 445\n",
      "Valid: 0\n",
      "\n",
      "Acc: 0.7713004484304933\n",
      "\n",
      "Treino: 446\n",
      "Valid: 3\n",
      "\n",
      "Acc: 0.7797752808988764\n",
      "\n",
      "--------------------------------\n",
      "Rep: 1\n",
      "Treino: 445\n",
      "Valid: 0\n",
      "\n",
      "Acc: 0.7443946188340808\n",
      "\n",
      "Treino: 446\n",
      "Valid: 1\n",
      "\n",
      "Acc: 0.7955056179775281\n",
      "\n",
      "--------------------------------\n",
      "Rep: 2\n",
      "Treino: 445\n",
      "Valid: 1\n",
      "\n",
      "Acc: 0.7757847533632287\n",
      "\n",
      "Treino: 446\n",
      "Valid: 0\n",
      "\n",
      "Acc: 0.7887640449438202\n",
      "\n",
      "--------------------------------\n",
      "Rep: 3\n",
      "Treino: 445\n",
      "Valid: 3\n",
      "\n",
      "Acc: 0.7533632286995515\n",
      "\n",
      "Treino: 446\n",
      "Valid: 0\n",
      "\n",
      "Acc: 0.7573033707865169\n",
      "\n",
      "--------------------------------\n",
      "Rep: 4\n",
      "Treino: 445\n",
      "Valid: 1\n",
      "\n",
      "Acc: 0.7354260089686099\n",
      "\n",
      "Treino: 446\n",
      "Valid: 0\n",
      "\n",
      "Acc: 0.7415730337078652\n",
      "\n",
      "--------------------------------\n",
      "Rep: 5\n",
      "Treino: 445\n",
      "Valid: 3\n",
      "\n",
      "Acc: 0.7219730941704036\n",
      "\n",
      "Treino: 446\n",
      "Valid: 0\n",
      "\n",
      "Acc: 0.7056179775280899\n",
      "\n",
      "--------------------------------\n",
      "Rep: 6\n",
      "Treino: 445\n",
      "Valid: 0\n",
      "\n",
      "Acc: 0.7757847533632287\n",
      "\n",
      "Treino: 446\n",
      "Valid: 1\n",
      "\n",
      "Acc: 0.7303370786516854\n",
      "\n",
      "--------------------------------\n",
      "Rep: 7\n",
      "Treino: 445\n",
      "Valid: 2\n",
      "\n",
      "Acc: 0.7040358744394619\n",
      "\n",
      "Treino: 446\n",
      "Valid: 0\n",
      "\n",
      "Acc: 0.7348314606741573\n",
      "\n",
      "--------------------------------\n",
      "Rep: 8\n",
      "Treino: 445\n",
      "Valid: 0\n",
      "\n",
      "Acc: 0.7488789237668162\n",
      "\n",
      "Treino: 446\n",
      "Valid: 2\n",
      "\n",
      "Acc: 0.7887640449438202\n",
      "\n",
      "--------------------------------\n",
      "Rep: 9\n",
      "Treino: 445\n",
      "Valid: 2\n",
      "\n",
      "Acc: 0.7623318385650224\n",
      "\n",
      "Treino: 446\n",
      "Valid: 0\n",
      "\n",
      "Acc: 0.7842696629213484\n",
      "\n"
     ]
    }
   ],
   "source": [
    "resultados = []\n",
    "for rep in range(10):\n",
    "    print('--------------------------------')\n",
    "    print('Rep:', rep)\n",
    "    kf = KFold(2, shuffle=True, random_state=rep)\n",
    "    for linhas_treino, linhas_valid in kf.split(X):\n",
    "        print(\"Treino:\", linhas_treino.shape[0])\n",
    "        print(\"Valid:\", linhas_valid[0])\n",
    "        print()\n",
    "\n",
    "        X_treino, X_valid = X.iloc[linhas_treino], X.iloc[linhas_valid]\n",
    "        y_treino, y_valid = y.iloc[linhas_treino], y.iloc[linhas_valid]\n",
    "\n",
    "        modelo = RandomForestClassifier(n_estimators=100,n_jobs=-1,random_state=0)\n",
    "        modelo.fit(X_treino, y_treino)\n",
    "\n",
    "        p = modelo.predict(X_valid)\n",
    "\n",
    "        acc = np.mean(y_valid == p)\n",
    "\n",
    "        resultados.append(acc)\n",
    "        print('Acc:', acc)\n",
    "\n",
    "        print()\n",
    "\n",
    "        #print(X_treino.head())\n",
    "        #print()\n",
    "    \n",
    "\n"
   ]
  },
  {
   "cell_type": "code",
   "execution_count": 190,
   "id": "6776aca7-2f9b-4273-ae60-2c6cc5843655",
   "metadata": {},
   "outputs": [
    {
     "data": {
      "text/plain": [
       "[0.7713004484304933,\n",
       " 0.7797752808988764,\n",
       " 0.7443946188340808,\n",
       " 0.7955056179775281,\n",
       " 0.7757847533632287,\n",
       " 0.7887640449438202,\n",
       " 0.7533632286995515,\n",
       " 0.7573033707865169,\n",
       " 0.7354260089686099,\n",
       " 0.7415730337078652,\n",
       " 0.7219730941704036,\n",
       " 0.7056179775280899,\n",
       " 0.7757847533632287,\n",
       " 0.7303370786516854,\n",
       " 0.7040358744394619,\n",
       " 0.7348314606741573,\n",
       " 0.7488789237668162,\n",
       " 0.7887640449438202,\n",
       " 0.7623318385650224,\n",
       " 0.7842696629213484]"
      ]
     },
     "execution_count": 190,
     "metadata": {},
     "output_type": "execute_result"
    }
   ],
   "source": [
    "resultados"
   ]
  },
  {
   "cell_type": "code",
   "execution_count": 182,
   "id": "788cef20-43bb-4fd8-b190-59df3cfe973f",
   "metadata": {},
   "outputs": [
    {
     "data": {
      "text/plain": [
       "0.7692593057560732"
      ]
     },
     "execution_count": 182,
     "metadata": {},
     "output_type": "execute_result"
    }
   ],
   "source": [
    "np.mean(resultados)"
   ]
  },
  {
   "cell_type": "code",
   "execution_count": 191,
   "id": "ee71c115-7f03-4ba5-b64f-73a7c99acb48",
   "metadata": {},
   "outputs": [
    {
     "data": {
      "text/plain": [
       "0.7550007557817302"
      ]
     },
     "execution_count": 191,
     "metadata": {},
     "output_type": "execute_result"
    }
   ],
   "source": [
    "np.mean(resultados)"
   ]
  },
  {
   "cell_type": "markdown",
   "id": "067a00f5-cbc7-4d7e-b421-1f4e4883c501",
   "metadata": {},
   "source": [
    "# Melhoria Modelo"
   ]
  }
 ],
 "metadata": {
  "kernelspec": {
   "display_name": "Python 3 (ipykernel)",
   "language": "python",
   "name": "python3"
  },
  "language_info": {
   "codemirror_mode": {
    "name": "ipython",
    "version": 3
   },
   "file_extension": ".py",
   "mimetype": "text/x-python",
   "name": "python",
   "nbconvert_exporter": "python",
   "pygments_lexer": "ipython3",
   "version": "3.8.8"
  }
 },
 "nbformat": 4,
 "nbformat_minor": 5
}

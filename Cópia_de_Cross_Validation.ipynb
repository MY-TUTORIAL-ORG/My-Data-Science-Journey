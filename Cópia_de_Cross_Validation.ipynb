{
  "nbformat": 4,
  "nbformat_minor": 0,
  "metadata": {
    "colab": {
      "name": "Cópia de Cross_Validation.ipynb",
      "provenance": [],
      "collapsed_sections": [],
      "authorship_tag": "ABX9TyMEGIZUL34DAJH7gDhuJ2EH",
      "include_colab_link": true
    },
    "kernelspec": {
      "name": "python3",
      "display_name": "Python 3"
    },
    "language_info": {
      "name": "python"
    }
  },
  "cells": [
    {
      "cell_type": "markdown",
      "metadata": {
        "id": "view-in-github",
        "colab_type": "text"
      },
      "source": [
        "<a href=\"https://colab.research.google.com/github/viannaandreBR/My-Data-Science-Journey/blob/main/C%C3%B3pia_de_Cross_Validation.ipynb\" target=\"_parent\"><img src=\"https://colab.research.google.com/assets/colab-badge.svg\" alt=\"Open In Colab\"/></a>"
      ]
    },
    {
      "cell_type": "markdown",
      "metadata": {
        "id": "Edi2kMKaAoje"
      },
      "source": [
        "# Cross Validation - Entenda de forma Simples"
      ]
    },
    {
      "cell_type": "code",
      "metadata": {
        "id": "CxTxqmNcAlA1"
      },
      "source": [
        "import numpy as np\n",
        "import pandas as pd\n",
        "from sklearn.model_selection import train_test_split\n",
        "from sklearn.model_selection import cross_val_score\n",
        "from sklearn import datasets\n",
        "from sklearn import svm"
      ],
      "execution_count": 1,
      "outputs": []
    },
    {
      "cell_type": "markdown",
      "metadata": {
        "id": "e2z7x_hABHbV"
      },
      "source": [
        "**Carregando os DataSets**\n"
      ]
    },
    {
      "cell_type": "code",
      "metadata": {
        "colab": {
          "base_uri": "https://localhost:8080/"
        },
        "id": "hBRCtrfPBKvU",
        "outputId": "ae35f74c-ae6a-4c61-995e-1220eef25cff"
      },
      "source": [
        "iris = datasets.load_iris()\n",
        "iris  \n",
        "iris.target"
      ],
      "execution_count": 2,
      "outputs": [
        {
          "output_type": "execute_result",
          "data": {
            "text/plain": [
              "array([0, 0, 0, 0, 0, 0, 0, 0, 0, 0, 0, 0, 0, 0, 0, 0, 0, 0, 0, 0, 0, 0,\n",
              "       0, 0, 0, 0, 0, 0, 0, 0, 0, 0, 0, 0, 0, 0, 0, 0, 0, 0, 0, 0, 0, 0,\n",
              "       0, 0, 0, 0, 0, 0, 1, 1, 1, 1, 1, 1, 1, 1, 1, 1, 1, 1, 1, 1, 1, 1,\n",
              "       1, 1, 1, 1, 1, 1, 1, 1, 1, 1, 1, 1, 1, 1, 1, 1, 1, 1, 1, 1, 1, 1,\n",
              "       1, 1, 1, 1, 1, 1, 1, 1, 1, 1, 1, 1, 2, 2, 2, 2, 2, 2, 2, 2, 2, 2,\n",
              "       2, 2, 2, 2, 2, 2, 2, 2, 2, 2, 2, 2, 2, 2, 2, 2, 2, 2, 2, 2, 2, 2,\n",
              "       2, 2, 2, 2, 2, 2, 2, 2, 2, 2, 2, 2, 2, 2, 2, 2, 2, 2])"
            ]
          },
          "metadata": {},
          "execution_count": 2
        }
      ]
    },
    {
      "cell_type": "code",
      "metadata": {
        "colab": {
          "base_uri": "https://localhost:8080/",
          "height": 129
        },
        "id": "9mhHHaL9D7uk",
        "outputId": "35e10122-e0fa-4150-ce13-975e8e986580"
      },
      "source": [
        "print iris.describe()"
      ],
      "execution_count": 3,
      "outputs": [
        {
          "output_type": "error",
          "ename": "SyntaxError",
          "evalue": "ignored",
          "traceback": [
            "\u001b[0;36m  File \u001b[0;32m\"<ipython-input-3-617aecbe86ea>\"\u001b[0;36m, line \u001b[0;32m1\u001b[0m\n\u001b[0;31m    print iris.describe()\u001b[0m\n\u001b[0m             ^\u001b[0m\n\u001b[0;31mSyntaxError\u001b[0m\u001b[0;31m:\u001b[0m invalid syntax\n"
          ]
        }
      ]
    },
    {
      "cell_type": "markdown",
      "metadata": {
        "id": "zhhkq51FBS4s"
      },
      "source": [
        "**Técnica HoldOut**"
      ]
    },
    {
      "cell_type": "code",
      "metadata": {
        "colab": {
          "base_uri": "https://localhost:8080/"
        },
        "id": "Hn894i2uBYZc",
        "outputId": "70e0377e-6bba-498a-b343-28037e19d26e"
      },
      "source": [
        "a1 = pd.Series([1, 2, 3])  \n",
        "a1.describe()"
      ],
      "execution_count": 4,
      "outputs": [
        {
          "output_type": "execute_result",
          "data": {
            "text/plain": [
              "count    3.0\n",
              "mean     2.0\n",
              "std      1.0\n",
              "min      1.0\n",
              "25%      1.5\n",
              "50%      2.0\n",
              "75%      2.5\n",
              "max      3.0\n",
              "dtype: float64"
            ]
          },
          "metadata": {},
          "execution_count": 4
        }
      ]
    },
    {
      "cell_type": "markdown",
      "metadata": {
        "id": "9b7MkqPNCoqx"
      },
      "source": [
        "- Separa os dados em treino e teste\n",
        "- Separa aleatoriamente 70% dos dados para treino e 30% dos dados para teste"
      ]
    },
    {
      "cell_type": "code",
      "metadata": {
        "id": "B-fLEwUCCmDL"
      },
      "source": [
        "X_train, X_test, y_train, y_test = train_test_split(iris.data, iris.target, test_size=0.3)"
      ],
      "execution_count": 13,
      "outputs": []
    },
    {
      "cell_type": "markdown",
      "metadata": {
        "id": "4uMyb0xNDBI1"
      },
      "source": [
        "**Instância do Classificador SVM**"
      ]
    },
    {
      "cell_type": "code",
      "metadata": {
        "id": "SFNoiG7pDE0N"
      },
      "source": [
        "clf = svm.SVC(gamma='auto')"
      ],
      "execution_count": 14,
      "outputs": []
    },
    {
      "cell_type": "markdown",
      "metadata": {
        "id": "oQyc90seDMb5"
      },
      "source": [
        "**Treina o Algoritmo e Gera um Modelo**"
      ]
    },
    {
      "cell_type": "code",
      "metadata": {
        "colab": {
          "base_uri": "https://localhost:8080/"
        },
        "id": "xZcRfTa-Futg",
        "outputId": "5b812d06-5b28-44b6-b90f-0d30808dbcc4"
      },
      "source": [
        "clf.fit(X_train, y_train)"
      ],
      "execution_count": 15,
      "outputs": [
        {
          "output_type": "execute_result",
          "data": {
            "text/plain": [
              "SVC(C=1.0, break_ties=False, cache_size=200, class_weight=None, coef0=0.0,\n",
              "    decision_function_shape='ovr', degree=3, gamma='auto', kernel='rbf',\n",
              "    max_iter=-1, probability=False, random_state=None, shrinking=True,\n",
              "    tol=0.001, verbose=False)"
            ]
          },
          "metadata": {},
          "execution_count": 15
        }
      ]
    },
    {
      "cell_type": "markdown",
      "metadata": {
        "id": "AfJlQZi1G3SI"
      },
      "source": [
        "**Avalia o Modelo Com os Dados de Teste**"
      ]
    },
    {
      "cell_type": "code",
      "metadata": {
        "colab": {
          "base_uri": "https://localhost:8080/"
        },
        "id": "0t3opEJYG8D9",
        "outputId": "b8641c88-3822-4c29-eaa6-08dc32df0862"
      },
      "source": [
        "clf.score(X_test, y_test)"
      ],
      "execution_count": 16,
      "outputs": [
        {
          "output_type": "execute_result",
          "data": {
            "text/plain": [
              "0.9777777777777777"
            ]
          },
          "metadata": {},
          "execution_count": 16
        }
      ]
    },
    {
      "cell_type": "markdown",
      "metadata": {
        "id": "-OsIC1dQHH_w"
      },
      "source": [
        "---\n",
        "# Fazendo Cross Validatiom"
      ]
    },
    {
      "cell_type": "markdown",
      "metadata": {
        "id": "YeUPuu18H94X"
      },
      "source": [
        "- Usamos a função scikit-learn cross_val_score() para automatizar esse método"
      ]
    },
    {
      "cell_type": "markdown",
      "metadata": {
        "id": "d-AQEF98IGe9"
      },
      "source": [
        "**Executamos Cross Validation com 5 Folds**"
      ]
    },
    {
      "cell_type": "code",
      "metadata": {
        "id": "BNicQGjsHNkP"
      },
      "source": [
        "# a funcao cross_val_score recebe por parâmetro o modelo,\n",
        "# todos os dados para treino, dos dados de classes, a quantidade de folds e o método de avaliação\n",
        "scores = cross_val_score(clf, iris.data, iris.target, cv=5, scoring='accuracy')"
      ],
      "execution_count": 17,
      "outputs": []
    },
    {
      "cell_type": "markdown",
      "metadata": {
        "id": "EkRWrfBkIkUd"
      },
      "source": [
        "**Imprimnindo os resultados dos Folds**"
      ]
    },
    {
      "cell_type": "code",
      "metadata": {
        "colab": {
          "base_uri": "https://localhost:8080/"
        },
        "id": "vjhbi_j5IZAN",
        "outputId": "7e43e154-b4b0-45f7-c4c7-b4cefdd6602c"
      },
      "source": [
        "scores"
      ],
      "execution_count": 18,
      "outputs": [
        {
          "output_type": "execute_result",
          "data": {
            "text/plain": [
              "array([0.96666667, 1.        , 0.96666667, 0.96666667, 1.        ])"
            ]
          },
          "metadata": {},
          "execution_count": 18
        }
      ]
    },
    {
      "cell_type": "markdown",
      "metadata": {
        "id": "w2fB-IxOIwp4"
      },
      "source": [
        "**Média dos Resultados**"
      ]
    },
    {
      "cell_type": "code",
      "metadata": {
        "colab": {
          "base_uri": "https://localhost:8080/"
        },
        "id": "Q8uoiQ2AI0bv",
        "outputId": "0b1e5a66-51be-42d4-f9b4-e6eb560efd7a"
      },
      "source": [
        "scores.mean()"
      ],
      "execution_count": 24,
      "outputs": [
        {
          "output_type": "execute_result",
          "data": {
            "text/plain": [
              "0.9800000000000001"
            ]
          },
          "metadata": {},
          "execution_count": 24
        }
      ]
    }
  ]
}
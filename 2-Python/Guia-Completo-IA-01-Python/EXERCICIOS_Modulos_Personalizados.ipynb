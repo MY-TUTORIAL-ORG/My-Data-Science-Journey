{
  "nbformat": 4,
  "nbformat_minor": 0,
  "metadata": {
    "colab": {
      "name": "Exercícios_Modulos_Personalizados.ipynb",
      "provenance": [],
      "authorship_tag": "ABX9TyMKDDbivYccP8fUMTeUMD8P",
      "include_colab_link": true
    },
    "kernelspec": {
      "name": "python3",
      "display_name": "Python 3"
    },
    "language_info": {
      "name": "python"
    }
  },
  "cells": [
    {
      "cell_type": "markdown",
      "metadata": {
        "id": "view-in-github",
        "colab_type": "text"
      },
      "source": [
        "<a href=\"https://colab.research.google.com/github/DataScience-2021/Guia-Completo-IA-01-Python/blob/main/Exerc%C3%ADcios_Modulos_Personalizados.ipynb\" target=\"_parent\"><img src=\"https://colab.research.google.com/assets/colab-badge.svg\" alt=\"Open In Colab\"/></a>"
      ]
    },
    {
      "cell_type": "markdown",
      "metadata": {
        "id": "liTIhzButx_H"
      },
      "source": [
        ""
      ]
    },
    {
      "cell_type": "markdown",
      "metadata": {
        "id": "z2SgtNrMtz79"
      },
      "source": [
        "# Exercícios - Módulos do Python"
      ]
    },
    {
      "cell_type": "markdown",
      "metadata": {
        "id": "-LBPzzMvuYTm"
      },
      "source": [
        "# Exercício 01 - Criar um Módulo .py"
      ]
    },
    {
      "cell_type": "markdown",
      "metadata": {
        "id": "lgLHZMUduj2f"
      },
      "source": [
        "Crie um arquivo .py com duas funções\n",
        "- Função para ler um string (recebe como parâmetro uma mensagem e retorna o que o usuário digitou)\n",
        "- Função para ler um número float (recebe como parâmetro uma mensagem e retorna o que o usuário digitou)"
      ]
    },
    {
      "cell_type": "code",
      "metadata": {
        "id": "ZzrHjP4Wun8F",
        "colab": {
          "base_uri": "https://localhost:8080/"
        },
        "outputId": "6267c599-5164-45a1-830e-004915bca79b"
      },
      "source": [
        "print('Módulo para ler dados')\n",
        "\n",
        "\n",
        "def le_string():\n",
        "    string_ = input('Informe um texto')\n",
        "    print('O texto é', string_)\n",
        "    return string_\n",
        "\n",
        "\n",
        "def le_numero():\n",
        "    numero_ = input('Informe um numero')\n",
        "    print('O Número é', numero_)\n",
        "    return numero_\n",
        "\n",
        "\n",
        "#string_a = le_string()\n",
        "#numero_a = le_numero()\n",
        "\n",
        "#print('O texto é', string_a)\n",
        "#print('O Número é', numero_a)\n"
      ],
      "execution_count": 7,
      "outputs": [
        {
          "output_type": "stream",
          "name": "stdout",
          "text": [
            "Módulo para ler dados\n"
          ]
        }
      ]
    },
    {
      "cell_type": "markdown",
      "metadata": {
        "id": "gbwtMN1Quogc"
      },
      "source": [
        "# Exercício 02 - Importar o Módulo .py"
      ]
    },
    {
      "cell_type": "markdown",
      "metadata": {
        "id": "sQHAHgGsut21"
      },
      "source": [
        "Importar o arquivo criado no Google Colab e testar as funções"
      ]
    },
    {
      "cell_type": "code",
      "metadata": {
        "id": "MRz4C4sIuw3H",
        "colab": {
          "base_uri": "https://localhost:8080/"
        },
        "outputId": "6ad4abd9-7313-4a0f-db97-7481ca04cd27"
      },
      "source": [
        "import modulo_ler_dados as le_dados"
      ],
      "execution_count": 3,
      "outputs": [
        {
          "output_type": "stream",
          "name": "stdout",
          "text": [
            "Módulo para ler dados\n"
          ]
        }
      ]
    },
    {
      "cell_type": "code",
      "metadata": {
        "colab": {
          "base_uri": "https://localhost:8080/"
        },
        "id": "OAA4TEGPrN7K",
        "outputId": "82af1aa7-cc3d-4441-8a64-9bc76620052e"
      },
      "source": [
        "string_a = le_dados.le_string()\n",
        "#numero_a = le_numero()"
      ],
      "execution_count": 5,
      "outputs": [
        {
          "output_type": "stream",
          "name": "stdout",
          "text": [
            "Informe um textoOla tudo bom com vc\n",
            "O texto é Ola tudo bom com vc\n"
          ]
        }
      ]
    },
    {
      "cell_type": "code",
      "metadata": {
        "colab": {
          "base_uri": "https://localhost:8080/"
        },
        "id": "Uu-Zy1a9rhyC",
        "outputId": "b02f7fb0-5fc6-4fd6-80a1-ce3eba7619c9"
      },
      "source": [
        "#string_a = le_dados.le_string()\n",
        "numero_a = le_dados.le_numero()"
      ],
      "execution_count": 6,
      "outputs": [
        {
          "output_type": "stream",
          "name": "stdout",
          "text": [
            "Informe um numero123\n",
            "O Número é 123\n"
          ]
        }
      ]
    }
  ]
}
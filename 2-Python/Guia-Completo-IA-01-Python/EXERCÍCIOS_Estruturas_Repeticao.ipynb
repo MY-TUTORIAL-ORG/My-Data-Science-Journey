{
  "nbformat": 4,
  "nbformat_minor": 0,
  "metadata": {
    "colab": {
      "name": "EXERCÍCIOS_Estruturas_Repeticao.ipynb",
      "provenance": [],
      "authorship_tag": "ABX9TyNCgZwJ3l+jED+eX0OIeo9k",
      "include_colab_link": true
    },
    "kernelspec": {
      "name": "python3",
      "display_name": "Python 3"
    },
    "language_info": {
      "name": "python"
    }
  },
  "cells": [
    {
      "cell_type": "markdown",
      "metadata": {
        "id": "view-in-github",
        "colab_type": "text"
      },
      "source": [
        "<a href=\"https://colab.research.google.com/github/DataScience-2021/Guia-Completo-IA-01-Python/blob/main/EXERC%C3%8DCIOS_Estruturas_Repeticao.ipynb\" target=\"_parent\"><img src=\"https://colab.research.google.com/assets/colab-badge.svg\" alt=\"Open In Colab\"/></a>"
      ]
    },
    {
      "cell_type": "code",
      "metadata": {
        "colab": {
          "base_uri": "https://localhost:8080/"
        },
        "id": "30QpgGozmq-2",
        "outputId": "5aad034d-f32f-44b9-9cb2-ac9601637039"
      },
      "source": [
        "print('Ler 5 notas e informar a média')\n",
        "numero=0\n",
        "soma = 0\n",
        "for i in range(1,6):\n",
        "  numero = float(input('Entre com a nota '))\n",
        "  soma = soma + numero\n",
        "media = soma / 5\n",
        "print('O valor total da soma é ', soma)\n",
        "print('O valor total da média é ', media)"
      ],
      "execution_count": 2,
      "outputs": [
        {
          "output_type": "stream",
          "name": "stdout",
          "text": [
            "Ler 5 notas e informar a média\n",
            "Entre com a nota5\n",
            "Entre com a nota6\n",
            "Entre com a nota7\n",
            "Entre com a nota8\n",
            "Entre com a nota9\n",
            "O valor total da soma é  35.0\n",
            "O valor total da média é  7.0\n"
          ]
        }
      ]
    },
    {
      "cell_type": "code",
      "metadata": {
        "colab": {
          "base_uri": "https://localhost:8080/"
        },
        "id": "n8yfovEyoRBK",
        "outputId": "c18190a1-e6d2-4538-fe05-6e2677aa89f4"
      },
      "source": [
        "print('Imprimir a tabuada do número 3 (3 x 1 = 1 - 3 x 10 = 30)')\n",
        "numero=1\n",
        "for i in range(1,11):\n",
        "  produto = 3 * numero\n",
        "  print(f'3x',numero,'=',produto)\n",
        "  numero=numero+1"
      ],
      "execution_count": 8,
      "outputs": [
        {
          "output_type": "stream",
          "name": "stdout",
          "text": [
            "Imprimir a tabuada do número 3 (3 x 1 = 1 - 3 x 10 = 30)\n",
            "3x 1 = 3\n",
            "3x 2 = 6\n",
            "3x 3 = 9\n",
            "3x 4 = 12\n",
            "3x 5 = 15\n",
            "3x 6 = 18\n",
            "3x 7 = 21\n",
            "3x 8 = 24\n",
            "3x 9 = 27\n",
            "3x 10 = 30\n"
          ]
        }
      ]
    }
  ]
}
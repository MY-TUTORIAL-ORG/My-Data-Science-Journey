{
  "nbformat": 4,
  "nbformat_minor": 0,
  "metadata": {
    "colab": {
      "name": "Operações Matemáticas.ipynb",
      "provenance": [],
      "collapsed_sections": [],
      "include_colab_link": true
    },
    "kernelspec": {
      "name": "python3",
      "display_name": "Python 3"
    }
  },
  "cells": [
    {
      "cell_type": "markdown",
      "metadata": {
        "id": "view-in-github",
        "colab_type": "text"
      },
      "source": [
        "<a href=\"https://colab.research.google.com/github/DataScience-2021/-Programacao-Python-Guia-Completo-IA/blob/main/Opera%C3%A7%C3%B5es_Matem%C3%A1ticas.ipynb\" target=\"_parent\"><img src=\"https://colab.research.google.com/assets/colab-badge.svg\" alt=\"Open In Colab\"/></a>"
      ]
    },
    {
      "cell_type": "markdown",
      "metadata": {
        "id": "Pqg-faI0Yfph"
      },
      "source": [
        "# Operações matemáticas"
      ]
    },
    {
      "cell_type": "markdown",
      "metadata": {
        "id": "OdCqxB8wZkNZ"
      },
      "source": [
        "## Operações matemáticas"
      ]
    },
    {
      "cell_type": "code",
      "metadata": {
        "id": "GjbDk0zuvZya",
        "colab": {
          "base_uri": "https://localhost:8080/"
        },
        "outputId": "b26083d8-ffb3-45cd-f50e-cf9e971f3fa3"
      },
      "source": [
        "a = 51\n",
        "b = 31\n",
        "print(a, b)"
      ],
      "execution_count": 1,
      "outputs": [
        {
          "output_type": "stream",
          "name": "stdout",
          "text": [
            "51 31\n"
          ]
        }
      ]
    },
    {
      "cell_type": "code",
      "metadata": {
        "id": "f-FunDS2vey-",
        "colab": {
          "base_uri": "https://localhost:8080/"
        },
        "outputId": "bbb90675-0c19-4019-e7cf-701351765995"
      },
      "source": [
        "a + b"
      ],
      "execution_count": 2,
      "outputs": [
        {
          "output_type": "execute_result",
          "data": {
            "text/plain": [
              "82"
            ]
          },
          "metadata": {},
          "execution_count": 2
        }
      ]
    },
    {
      "cell_type": "code",
      "metadata": {
        "id": "goI2V927vhKY",
        "colab": {
          "base_uri": "https://localhost:8080/"
        },
        "outputId": "49464f5e-ad49-4d5e-e7c1-5191c75756b0"
      },
      "source": [
        "print('A soma é', a + b)"
      ],
      "execution_count": 3,
      "outputs": [
        {
          "output_type": "stream",
          "name": "stdout",
          "text": [
            "A soma é 82\n"
          ]
        }
      ]
    },
    {
      "cell_type": "code",
      "metadata": {
        "id": "yZk9zH7xvnA3",
        "colab": {
          "base_uri": "https://localhost:8080/"
        },
        "outputId": "6c3fd831-b91e-479f-c3f6-bd484d2395a0"
      },
      "source": [
        "print('A subtração é', a - b)"
      ],
      "execution_count": 4,
      "outputs": [
        {
          "output_type": "stream",
          "name": "stdout",
          "text": [
            "A subtração é 20\n"
          ]
        }
      ]
    },
    {
      "cell_type": "code",
      "metadata": {
        "id": "fKFlQDMvvsFF",
        "colab": {
          "base_uri": "https://localhost:8080/"
        },
        "outputId": "9e5033d3-e5f2-4dbb-f839-ae16f452d681"
      },
      "source": [
        "print('A divisão é', a / b)"
      ],
      "execution_count": 5,
      "outputs": [
        {
          "output_type": "stream",
          "name": "stdout",
          "text": [
            "A divisão é 1.6451612903225807\n"
          ]
        }
      ]
    },
    {
      "cell_type": "code",
      "metadata": {
        "id": "imRDwh3UvwPT",
        "colab": {
          "base_uri": "https://localhost:8080/"
        },
        "outputId": "005dbc9e-3f71-4491-d724-9f5cd1ddfec9"
      },
      "source": [
        "print('A multiplicação é', a * b)"
      ],
      "execution_count": 6,
      "outputs": [
        {
          "output_type": "stream",
          "name": "stdout",
          "text": [
            "A multiplicação é 1581\n"
          ]
        }
      ]
    },
    {
      "cell_type": "code",
      "metadata": {
        "id": "OE3QUcJSv1Lg",
        "colab": {
          "base_uri": "https://localhost:8080/"
        },
        "outputId": "6d11d5a1-a83c-4fa3-837c-207e1e1c88f1"
      },
      "source": [
        "print('O resto da divisão é', 10 % 3)"
      ],
      "execution_count": 7,
      "outputs": [
        {
          "output_type": "stream",
          "name": "stdout",
          "text": [
            "O resto da divisão é 1\n"
          ]
        }
      ]
    },
    {
      "cell_type": "code",
      "metadata": {
        "id": "qO0vvLZvwMKx",
        "colab": {
          "base_uri": "https://localhost:8080/"
        },
        "outputId": "d6a4a9e0-064a-4975-b74f-4f5074ff86ec"
      },
      "source": [
        "5 * 5 * 5 * 51"
      ],
      "execution_count": 9,
      "outputs": [
        {
          "output_type": "execute_result",
          "data": {
            "text/plain": [
              "6375"
            ]
          },
          "metadata": {},
          "execution_count": 9
        }
      ]
    },
    {
      "cell_type": "code",
      "metadata": {
        "id": "8njb8NSXwEO2",
        "colab": {
          "base_uri": "https://localhost:8080/"
        },
        "outputId": "cd9ffd88-9aa4-4e00-ea5c-a8db52238310"
      },
      "source": [
        "print('5 elevado a 4 é', 5**4)"
      ],
      "execution_count": 10,
      "outputs": [
        {
          "output_type": "stream",
          "name": "stdout",
          "text": [
            "5 elevado a 4 é 625\n"
          ]
        }
      ]
    },
    {
      "cell_type": "code",
      "metadata": {
        "id": "eL3w6bgmwYdy",
        "colab": {
          "base_uri": "https://localhost:8080/"
        },
        "outputId": "7682e4ea-c635-4bd0-9ed4-09e25e363402"
      },
      "source": [
        "import math\n",
        "math.sqrt(81)"
      ],
      "execution_count": 11,
      "outputs": [
        {
          "output_type": "execute_result",
          "data": {
            "text/plain": [
              "9.0"
            ]
          },
          "metadata": {},
          "execution_count": 11
        }
      ]
    },
    {
      "cell_type": "markdown",
      "metadata": {
        "id": "qGlWtUpyZijE"
      },
      "source": [
        "## Arredondamento"
      ]
    },
    {
      "cell_type": "code",
      "metadata": {
        "id": "k_X9_e0lwq--",
        "colab": {
          "base_uri": "https://localhost:8080/"
        },
        "outputId": "66080d24-c6a2-4278-ffab-5641f68d8901"
      },
      "source": [
        "casos_doenca = 1341\n",
        "numero_habitantes = 34432\n",
        "casos_por_habitante = casos_doenca / numero_habitantes\n",
        "print(casos_por_habitante)"
      ],
      "execution_count": 12,
      "outputs": [
        {
          "output_type": "stream",
          "name": "stdout",
          "text": [
            "0.03894632899628253\n"
          ]
        }
      ]
    },
    {
      "cell_type": "code",
      "metadata": {
        "id": "DZrPZvK7w5op",
        "colab": {
          "base_uri": "https://localhost:8080/"
        },
        "outputId": "911c62b3-c202-4119-b7f3-69e224e89244"
      },
      "source": [
        "round(casos_por_habitante, 6)"
      ],
      "execution_count": 14,
      "outputs": [
        {
          "output_type": "execute_result",
          "data": {
            "text/plain": [
              "0.038946"
            ]
          },
          "metadata": {},
          "execution_count": 14
        }
      ]
    },
    {
      "cell_type": "code",
      "metadata": {
        "id": "LD--ZG0VxBPA",
        "colab": {
          "base_uri": "https://localhost:8080/"
        },
        "outputId": "ca9c3caf-9fce-497a-d6df-936e853529dc"
      },
      "source": [
        "print('O número de casos por habitante é de', round(casos_por_habitante, 4))"
      ],
      "execution_count": 15,
      "outputs": [
        {
          "output_type": "stream",
          "name": "stdout",
          "text": [
            "O número de casos por habitante é de 0.0389\n"
          ]
        }
      ]
    }
  ]
}
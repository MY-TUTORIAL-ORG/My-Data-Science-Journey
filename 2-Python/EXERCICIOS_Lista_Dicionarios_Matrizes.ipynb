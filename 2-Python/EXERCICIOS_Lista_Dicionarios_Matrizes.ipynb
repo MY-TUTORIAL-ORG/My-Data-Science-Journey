{
  "nbformat": 4,
  "nbformat_minor": 0,
  "metadata": {
    "colab": {
      "name": "EXERCICIOS_Lista_Dicionarios_Matrizes.ipynb",
      "provenance": [],
      "authorship_tag": "ABX9TyNSxYT4PP9LbUQ0c4JzWf7X",
      "include_colab_link": true
    },
    "kernelspec": {
      "name": "python3",
      "display_name": "Python 3"
    },
    "language_info": {
      "name": "python"
    }
  },
  "cells": [
    {
      "cell_type": "markdown",
      "metadata": {
        "id": "view-in-github",
        "colab_type": "text"
      },
      "source": [
        "<a href=\"https://colab.research.google.com/github/DataScience-2021/Guia-Completo-IA-01-Python/blob/main/EXERCICIOS_Lista_Dicionarios_Matrizes.ipynb\" target=\"_parent\"><img src=\"https://colab.research.google.com/assets/colab-badge.svg\" alt=\"Open In Colab\"/></a>"
      ]
    },
    {
      "cell_type": "markdown",
      "metadata": {
        "id": "8a8KJnzxzkMm"
      },
      "source": [
        "# Exercicio 01 - Listas\n"
      ]
    },
    {
      "cell_type": "code",
      "metadata": {
        "colab": {
          "base_uri": "https://localhost:8080/"
        },
        "id": "imJxAvjYozR_",
        "outputId": "9f37ed12-1012-43d1-a59a-84e77cae45a3"
      },
      "source": [
        "print('----------------------- Lista  -------------------------------------')"
      ],
      "execution_count": 5,
      "outputs": [
        {
          "output_type": "stream",
          "name": "stdout",
          "text": [
            "----------------------- Lista  -------------------------------------\n"
          ]
        }
      ]
    },
    {
      "cell_type": "code",
      "metadata": {
        "colab": {
          "base_uri": "https://localhost:8080/"
        },
        "id": "rxKwEsQNn-xs",
        "outputId": "45a1c406-8d3c-4ddc-c774-4ab80f045c71"
      },
      "source": [
        "print('Lista: Crie uma estrutura de repetição para fazer a leitura de 5 números inteiros e os armazene dentro de uma lista. Após a leitura, crie outra estrutura de repetição para somar todos os valores digitados')"
      ],
      "execution_count": 1,
      "outputs": [
        {
          "output_type": "stream",
          "name": "stdout",
          "text": [
            "Lista: Crie uma estrutura de repetição para fazer a leitura de 5 números inteiros e os armazene dentro de uma lista. Após a leitura, crie outra estrutura de repetição para somar todos os valores digitados\n"
          ]
        }
      ]
    },
    {
      "cell_type": "code",
      "metadata": {
        "colab": {
          "base_uri": "https://localhost:8080/"
        },
        "id": "DYU9WDoBoTUu",
        "outputId": "abfc82ef-0a46-44c8-8cb5-a7bf8bc5fe8a"
      },
      "source": [
        "i = 1\n",
        "soma = numero = 0\n",
        "lista = []\n",
        "while i < 6:\n",
        "  numero = int(input('Entre com um numero '))\n",
        "  lista.append(numero)\n",
        "  print('lista Parcial',lista)\n",
        "  i = i+1\n",
        "print('Lista Final', lista)\n",
        "i = 0\n",
        "for i in lista:\n",
        "  soma = soma + numero\n",
        "  print('Soma Parcial', soma)\n",
        "print('Soma Total', soma)"
      ],
      "execution_count": 16,
      "outputs": [
        {
          "output_type": "stream",
          "name": "stdout",
          "text": [
            "Entre com um numero 1\n",
            "lista Parcial [1]\n",
            "Entre com um numero 2\n",
            "lista Parcial [1, 2]\n",
            "Entre com um numero 3\n",
            "lista Parcial [1, 2, 3]\n",
            "Entre com um numero 4\n",
            "lista Parcial [1, 2, 3, 4]\n",
            "Entre com um numero 5\n",
            "lista Parcial [1, 2, 3, 4, 5]\n",
            "Lista Final [1, 2, 3, 4, 5]\n",
            "Soma Parcial 5\n",
            "Soma Parcial 10\n",
            "Soma Parcial 15\n",
            "Soma Parcial 20\n",
            "Soma Parcial 25\n",
            "Soma Total 25\n"
          ]
        }
      ]
    },
    {
      "cell_type": "markdown",
      "metadata": {
        "id": "2MQWPVxIz-U2"
      },
      "source": [
        "Gabarito Exercício 01 - Listas\n"
      ]
    },
    {
      "cell_type": "code",
      "metadata": {
        "colab": {
          "base_uri": "https://localhost:8080/"
        },
        "id": "GU9rgg0S0Adg",
        "outputId": "12f47401-1b28-4d8f-9edc-55a77e91301a"
      },
      "source": [
        "lista = []\n",
        "for _ in range(1,6):\n",
        "  valor = int(input('Digite o valor: '))\n",
        "  lista.append(valor)\n",
        "soma = 0\n",
        "for i in range(len(lista)):\n",
        "  print(lista[i])\n",
        "  soma += lista[i]\n",
        "print('Soma', soma)"
      ],
      "execution_count": 38,
      "outputs": [
        {
          "output_type": "stream",
          "name": "stdout",
          "text": [
            "Digite o valor: 1\n",
            "Digite o valor: 2\n",
            "Digite o valor: 3\n",
            "Digite o valor: 4\n",
            "Digite o valor: 5\n",
            "1\n",
            "2\n",
            "3\n",
            "4\n",
            "5\n",
            "Soma 15\n"
          ]
        }
      ]
    },
    {
      "cell_type": "markdown",
      "metadata": {
        "id": "J375ugpzzxdS"
      },
      "source": [
        "# Exercício 02 - Dicionários"
      ]
    },
    {
      "cell_type": "code",
      "metadata": {
        "colab": {
          "base_uri": "https://localhost:8080/"
        },
        "id": "ArWicVY5ooWm",
        "outputId": "fb85eeec-8358-4dad-8216-5110d80e0d2f"
      },
      "source": [
        "print('----------------------- Dicionário  -------------------------------------')"
      ],
      "execution_count": 4,
      "outputs": [
        {
          "output_type": "stream",
          "name": "stdout",
          "text": [
            "----------------------- Dicionário  -------------------------------------\n"
          ]
        }
      ]
    },
    {
      "cell_type": "code",
      "metadata": {
        "colab": {
          "base_uri": "https://localhost:8080/"
        },
        "id": "4y2KolIuoSUt",
        "outputId": "a181e86d-c891-453b-ebf8-bd79955dafec"
      },
      "source": [
        "print('Dicionário: Crie um dicionário para armazenar o nome e a nota de 3 alunos, fazendo a leitura dos valores por meio de uma estrutura de repetição. Depois, crie uma nova estrutura de repetição para somar todas as notas e retornar a média')"
      ],
      "execution_count": 2,
      "outputs": [
        {
          "output_type": "stream",
          "name": "stdout",
          "text": [
            "Dicionário: Crie um dicionário para armazenar o nome e a nota de 3 alunos, fazendo a leitura dos valores por meio de uma estrutura de repetição. Depois, crie uma nova estrutura de repetição para somar todas as notas e retornar a média\n"
          ]
        }
      ]
    },
    {
      "cell_type": "code",
      "metadata": {
        "colab": {
          "base_uri": "https://localhost:8080/"
        },
        "id": "2RpIaCdouMev",
        "outputId": "9653c75a-7420-4a09-90b6-85d2539d8cf5"
      },
      "source": [
        "i = 1\n",
        "soma = 0.0\n",
        "escola = { }\n",
        "while i < 4:\n",
        "  nome = input('Entre com o nome do Aluno -> ')\n",
        "  nota = float(input('Entre com a nota do Aluno -> '))\n",
        "  escola[nome]=nota\n",
        "  soma = soma + nota\n",
        "  i = i + 1\n",
        "media = 0\n",
        "soma = 0\n",
        "media = soma / 3\n",
        "print('O valor da Soma é ', soma)\n",
        "print('O valor da média é', media)\n",
        "escola\n"
      ],
      "execution_count": 26,
      "outputs": [
        {
          "output_type": "stream",
          "name": "stdout",
          "text": [
            "Entre com o nome do Aluno -> Andre\n",
            "Entre com a nota do Aluno -> 5\n",
            "Entre com o nome do Aluno -> Luiz\n",
            "Entre com a nota do Aluno -> 7\n",
            "Entre com o nome do Aluno -> Outro\n",
            "Entre com a nota do Aluno -> 8\n",
            "O valor da Soma é  0\n",
            "O valor da média é 0.0\n"
          ]
        },
        {
          "output_type": "execute_result",
          "data": {
            "text/plain": [
              "{'Andre': 5.0, 'Luiz': 7.0, 'Outro': 8.0}"
            ]
          },
          "metadata": {},
          "execution_count": 26
        }
      ]
    },
    {
      "cell_type": "markdown",
      "metadata": {
        "id": "p1GM2X4101I1"
      },
      "source": [
        "Gabarito Exercício 02 - Dicionários\n",
        "\n"
      ]
    },
    {
      "cell_type": "code",
      "metadata": {
        "colab": {
          "base_uri": "https://localhost:8080/"
        },
        "id": "IGwiBbAQ02j4",
        "outputId": "0ad5eef3-5684-462a-f422-fc0168871ef3"
      },
      "source": [
        "alunos = {}\n",
        "for _ in range(1,4):\n",
        "  nome = input('Entre com o nome: ')\n",
        "  nota = float(input('entre com a nota: '))\n",
        "  alunos[nome] = nota\n",
        "soma = 0\n",
        "for nota in alunos.values():\n",
        "  soma += nota\n",
        "print('O Valor total da soma é: ', soma)\n",
        "media = soma / 3\n",
        "print('O Valor da média é:', media)"
      ],
      "execution_count": 44,
      "outputs": [
        {
          "output_type": "stream",
          "name": "stdout",
          "text": [
            "Entre com o nome: andre\n",
            "entre com a nota: 5\n",
            "Entre com o nome: Luiz\n",
            "entre com a nota: 6\n",
            "Entre com o nome: Durval\n",
            "entre com a nota: 7\n",
            "O Valor total da soma é:  18.0\n",
            "O Valor da média é: 6.0\n"
          ]
        }
      ]
    },
    {
      "cell_type": "code",
      "metadata": {
        "colab": {
          "base_uri": "https://localhost:8080/"
        },
        "id": "1yyW1lxr47n9",
        "outputId": "9e37b9c6-db6e-45e0-b8c0-f35c03fb92b2"
      },
      "source": [
        "alunos.keys()"
      ],
      "execution_count": 43,
      "outputs": [
        {
          "output_type": "execute_result",
          "data": {
            "text/plain": [
              "dict_keys(['Andre', 'Luiz', 'Durval'])"
            ]
          },
          "metadata": {},
          "execution_count": 43
        }
      ]
    },
    {
      "cell_type": "code",
      "metadata": {
        "colab": {
          "base_uri": "https://localhost:8080/"
        },
        "id": "UTrtgkY15Db_",
        "outputId": "03bbffac-61fd-44c1-cb1b-2f3f63dce778"
      },
      "source": [
        "alunos.values()"
      ],
      "execution_count": 42,
      "outputs": [
        {
          "output_type": "execute_result",
          "data": {
            "text/plain": [
              "dict_values([5.0, 6.0, 7.0])"
            ]
          },
          "metadata": {},
          "execution_count": 42
        }
      ]
    },
    {
      "cell_type": "markdown",
      "metadata": {
        "id": "9ZfKk3l5z3s-"
      },
      "source": [
        "# Exercício 03 - Matrizes"
      ]
    },
    {
      "cell_type": "code",
      "metadata": {
        "colab": {
          "base_uri": "https://localhost:8080/"
        },
        "id": "XxB9GVjgobgm",
        "outputId": "74257790-83c5-4472-9d09-c41af9ffaa64"
      },
      "source": [
        "print('----------------------- Matriz -------------------------------------')"
      ],
      "execution_count": 3,
      "outputs": [
        {
          "output_type": "stream",
          "name": "stdout",
          "text": [
            "----------------------- Matriz -------------------------------------\n"
          ]
        }
      ]
    },
    {
      "cell_type": "code",
      "metadata": {
        "id": "jyCjMqPxofzu"
      },
      "source": [
        "print('Matriz: Dada a matriz abaixo, construa uma estrutura de repetição para percorrer e somar todos os elementos da matriz\n",
        "\n",
        "matriz = np.array([[3, 4, 1],\n",
        "                   [3, 1, 5]])')"
      ],
      "execution_count": null,
      "outputs": []
    },
    {
      "cell_type": "code",
      "metadata": {
        "colab": {
          "base_uri": "https://localhost:8080/"
        },
        "id": "YxY5LwfoojOA",
        "outputId": "94134415-f7bb-49cf-d47f-ba9c0a3b5dd4"
      },
      "source": [
        "import numpy as np\n",
        "matriz = np.array([[3, 4, 1],\n",
        "                   [3, 1, 5]])\n",
        "matriz.shape\n",
        "soma0 = 0\n",
        "soma1 = 0\n",
        "for i in range(matriz.shape[0]+1):\n",
        "  soma0 = soma0 + matriz[0][i]\n",
        "  print('Soma parcial linha 0 ->', soma0)\n",
        "i=0\n",
        "for i in range(matriz.shape[1]):\n",
        "  soma1 = soma1 + matriz[1][i]\n",
        "  print('Soma parcial linha 1 ->', soma1)\n",
        "\n",
        "print('Soma de todas as linhas', soma0+soma1)"
      ],
      "execution_count": 35,
      "outputs": [
        {
          "output_type": "stream",
          "name": "stdout",
          "text": [
            "Soma parcial linha 0 -> 3\n",
            "Soma parcial linha 0 -> 7\n",
            "Soma parcial linha 0 -> 8\n",
            "Soma parcial linha 1 -> 3\n",
            "Soma parcial linha 1 -> 4\n",
            "Soma parcial linha 1 -> 9\n",
            "Soma de todas as linhas 17\n"
          ]
        }
      ]
    },
    {
      "cell_type": "markdown",
      "metadata": {
        "id": "ODM9lw_w5wUu"
      },
      "source": [
        "Gabarito Exerício 03 - Matrizes"
      ]
    },
    {
      "cell_type": "code",
      "metadata": {
        "colab": {
          "base_uri": "https://localhost:8080/"
        },
        "id": "smW3SuiQ5-k9",
        "outputId": "6b54820a-8b5a-4a7b-d20c-c7dfe4b53122"
      },
      "source": [
        "matriz"
      ],
      "execution_count": 45,
      "outputs": [
        {
          "output_type": "execute_result",
          "data": {
            "text/plain": [
              "array([[3, 4, 1],\n",
              "       [3, 1, 5]])"
            ]
          },
          "metadata": {},
          "execution_count": 45
        }
      ]
    },
    {
      "cell_type": "code",
      "metadata": {
        "colab": {
          "base_uri": "https://localhost:8080/"
        },
        "id": "QL6OensZ50-N",
        "outputId": "d0cd2485-5029-4444-8b13-008494eafd9a"
      },
      "source": [
        "soma = 0\n",
        "for i in range(matriz.shape[0]):\n",
        "  for j in range(matriz.shape[1]):\n",
        "    soma += matriz[i][j]\n",
        "print('Soma', soma)\n"
      ],
      "execution_count": 46,
      "outputs": [
        {
          "output_type": "stream",
          "name": "stdout",
          "text": [
            "Soma 17\n"
          ]
        }
      ]
    }
  ]
}
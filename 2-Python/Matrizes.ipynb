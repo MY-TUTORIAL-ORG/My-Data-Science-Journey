{
  "nbformat": 4,
  "nbformat_minor": 0,
  "metadata": {
    "colab": {
      "name": "Matrizes.ipynb",
      "provenance": [],
      "collapsed_sections": [],
      "include_colab_link": true
    },
    "kernelspec": {
      "name": "python3",
      "display_name": "Python 3"
    }
  },
  "cells": [
    {
      "cell_type": "markdown",
      "metadata": {
        "id": "view-in-github",
        "colab_type": "text"
      },
      "source": [
        "<a href=\"https://colab.research.google.com/github/DataScience-2021/Guia-Completo-IA-01-Python/blob/main/Matrizes.ipynb\" target=\"_parent\"><img src=\"https://colab.research.google.com/assets/colab-badge.svg\" alt=\"Open In Colab\"/></a>"
      ]
    },
    {
      "cell_type": "markdown",
      "metadata": {
        "id": "--0h-g8oKeoy"
      },
      "source": [
        "# Matrizes"
      ]
    },
    {
      "cell_type": "code",
      "metadata": {
        "id": "Hy5AufWauB55"
      },
      "source": [
        "import numpy as np"
      ],
      "execution_count": 1,
      "outputs": []
    },
    {
      "cell_type": "code",
      "metadata": {
        "id": "0tlTplKduULh"
      },
      "source": [
        "matriz = np.array([[21, 31, 11,3,4,5,6], \n",
        "                   [4, 5, 7,6,7,5,6]])"
      ],
      "execution_count": 2,
      "outputs": []
    },
    {
      "cell_type": "code",
      "metadata": {
        "id": "flw1UoaCusHR",
        "colab": {
          "base_uri": "https://localhost:8080/"
        },
        "outputId": "53720d3e-0aa3-4e13-c7d7-c76f74bd5425"
      },
      "source": [
        "matriz"
      ],
      "execution_count": 3,
      "outputs": [
        {
          "output_type": "execute_result",
          "data": {
            "text/plain": [
              "array([[21, 31, 11,  3,  4,  5,  6],\n",
              "       [ 4,  5,  7,  6,  7,  5,  6]])"
            ]
          },
          "metadata": {},
          "execution_count": 3
        }
      ]
    },
    {
      "cell_type": "code",
      "metadata": {
        "id": "U_c0vmbNuxj6",
        "colab": {
          "base_uri": "https://localhost:8080/"
        },
        "outputId": "bb576a77-2e76-4737-d920-e35129b4b1ff"
      },
      "source": [
        "matriz.shape"
      ],
      "execution_count": 4,
      "outputs": [
        {
          "output_type": "execute_result",
          "data": {
            "text/plain": [
              "(2, 7)"
            ]
          },
          "metadata": {},
          "execution_count": 4
        }
      ]
    },
    {
      "cell_type": "code",
      "metadata": {
        "id": "vcWENdxDu2I5",
        "colab": {
          "base_uri": "https://localhost:8080/"
        },
        "outputId": "85e66be8-0647-4a39-d302-895383f54e3a"
      },
      "source": [
        "matriz[0]"
      ],
      "execution_count": 5,
      "outputs": [
        {
          "output_type": "execute_result",
          "data": {
            "text/plain": [
              "array([21, 31, 11,  3,  4,  5,  6])"
            ]
          },
          "metadata": {},
          "execution_count": 5
        }
      ]
    },
    {
      "cell_type": "code",
      "metadata": {
        "id": "Q3BWpEMGu4v3",
        "colab": {
          "base_uri": "https://localhost:8080/"
        },
        "outputId": "48cf98b9-1191-49b7-cfbe-743e02230874"
      },
      "source": [
        "matriz[1]"
      ],
      "execution_count": 6,
      "outputs": [
        {
          "output_type": "execute_result",
          "data": {
            "text/plain": [
              "array([4, 5, 7, 6, 7, 5, 6])"
            ]
          },
          "metadata": {},
          "execution_count": 6
        }
      ]
    },
    {
      "cell_type": "code",
      "metadata": {
        "id": "KBdLd_uJu7wQ",
        "colab": {
          "base_uri": "https://localhost:8080/"
        },
        "outputId": "9d891e87-37c6-4ca3-d0d7-cd41c419ffd4"
      },
      "source": [
        "matriz[0][2]"
      ],
      "execution_count": 7,
      "outputs": [
        {
          "output_type": "execute_result",
          "data": {
            "text/plain": [
              "11"
            ]
          },
          "metadata": {},
          "execution_count": 7
        }
      ]
    },
    {
      "cell_type": "code",
      "metadata": {
        "id": "sE7sbVu5vG8z",
        "colab": {
          "base_uri": "https://localhost:8080/"
        },
        "outputId": "b47f06ba-0c6a-439e-a29d-de57d5d9fd4c"
      },
      "source": [
        "matriz[1][2]"
      ],
      "execution_count": 8,
      "outputs": [
        {
          "output_type": "execute_result",
          "data": {
            "text/plain": [
              "7"
            ]
          },
          "metadata": {},
          "execution_count": 8
        }
      ]
    },
    {
      "cell_type": "code",
      "metadata": {
        "id": "ao_sGzOtvUKX",
        "colab": {
          "base_uri": "https://localhost:8080/"
        },
        "outputId": "1fcc90c3-38f4-4c89-c7eb-9d4eb598fbfa"
      },
      "source": [
        "matriz.shape"
      ],
      "execution_count": 9,
      "outputs": [
        {
          "output_type": "execute_result",
          "data": {
            "text/plain": [
              "(2, 7)"
            ]
          },
          "metadata": {},
          "execution_count": 9
        }
      ]
    },
    {
      "cell_type": "code",
      "metadata": {
        "id": "OMlp09zavPiv",
        "colab": {
          "base_uri": "https://localhost:8080/"
        },
        "outputId": "31e4854e-363f-472a-bff9-5d0f0d1d17b1"
      },
      "source": [
        "for i in range(matriz.shape[0]):\n",
        "  print(matriz[i])\n",
        "  for j in range(matriz.shape[1]):\n",
        "    print(matriz[1][j])  "
      ],
      "execution_count": 12,
      "outputs": [
        {
          "output_type": "stream",
          "name": "stdout",
          "text": [
            "[21 31 11  3  4  5  6]\n",
            "4\n",
            "5\n",
            "7\n",
            "6\n",
            "7\n",
            "5\n",
            "6\n",
            "[4 5 7 6 7 5 6]\n",
            "4\n",
            "5\n",
            "7\n",
            "6\n",
            "7\n",
            "5\n",
            "6\n"
          ]
        }
      ]
    }
  ]
}
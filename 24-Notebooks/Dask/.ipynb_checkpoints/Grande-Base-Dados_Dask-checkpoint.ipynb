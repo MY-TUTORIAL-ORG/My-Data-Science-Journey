{
 "cells": [
  {
   "cell_type": "markdown",
   "id": "82c38eb8",
   "metadata": {},
   "source": [
    "# Instalação\n",
    "- conda install dask\n",
    "- pip install dask"
   ]
  },
  {
   "cell_type": "markdown",
   "id": "bcba1948",
   "metadata": {},
   "source": [
    "## 1. Dask Arrays"
   ]
  },
  {
   "cell_type": "code",
   "execution_count": 2,
   "id": "a436e5c0",
   "metadata": {},
   "outputs": [],
   "source": [
    "## Import dask Array\n",
    "import dask.array as da"
   ]
  },
  {
   "cell_type": "code",
   "execution_count": 6,
   "id": "518ba551",
   "metadata": {},
   "outputs": [],
   "source": [
    "x = da.random.random((100000,100000), chunks=(1000,1000))"
   ]
  },
  {
   "cell_type": "code",
   "execution_count": 7,
   "id": "ecbdb076",
   "metadata": {},
   "outputs": [
    {
     "data": {
      "text/html": [
       "<table>\n",
       "    <tr>\n",
       "        <td>\n",
       "            <table>\n",
       "                <thead>\n",
       "                    <tr>\n",
       "                        <td> </td>\n",
       "                        <th> Array </th>\n",
       "                        <th> Chunk </th>\n",
       "                    </tr>\n",
       "                </thead>\n",
       "                <tbody>\n",
       "                    \n",
       "                    <tr>\n",
       "                        <th> Bytes </th>\n",
       "                        <td> 74.51 GiB </td>\n",
       "                        <td> 7.63 MiB </td>\n",
       "                    </tr>\n",
       "                    \n",
       "                    <tr>\n",
       "                        <th> Shape </th>\n",
       "                        <td> (100000, 100000) </td>\n",
       "                        <td> (1000, 1000) </td>\n",
       "                    </tr>\n",
       "                    <tr>\n",
       "                        <th> Count </th>\n",
       "                        <td> 10000 Tasks </td>\n",
       "                        <td> 10000 Chunks </td>\n",
       "                    </tr>\n",
       "                    <tr>\n",
       "                    <th> Type </th>\n",
       "                    <td> float64 </td>\n",
       "                    <td> numpy.ndarray </td>\n",
       "                    </tr>\n",
       "                </tbody>\n",
       "            </table>\n",
       "        </td>\n",
       "        <td>\n",
       "        <svg width=\"170\" height=\"170\" style=\"stroke:rgb(0,0,0);stroke-width:1\" >\n",
       "\n",
       "  <!-- Horizontal lines -->\n",
       "  <line x1=\"0\" y1=\"0\" x2=\"120\" y2=\"0\" style=\"stroke-width:2\" />\n",
       "  <line x1=\"0\" y1=\"6\" x2=\"120\" y2=\"6\" />\n",
       "  <line x1=\"0\" y1=\"12\" x2=\"120\" y2=\"12\" />\n",
       "  <line x1=\"0\" y1=\"18\" x2=\"120\" y2=\"18\" />\n",
       "  <line x1=\"0\" y1=\"25\" x2=\"120\" y2=\"25\" />\n",
       "  <line x1=\"0\" y1=\"31\" x2=\"120\" y2=\"31\" />\n",
       "  <line x1=\"0\" y1=\"37\" x2=\"120\" y2=\"37\" />\n",
       "  <line x1=\"0\" y1=\"43\" x2=\"120\" y2=\"43\" />\n",
       "  <line x1=\"0\" y1=\"50\" x2=\"120\" y2=\"50\" />\n",
       "  <line x1=\"0\" y1=\"56\" x2=\"120\" y2=\"56\" />\n",
       "  <line x1=\"0\" y1=\"62\" x2=\"120\" y2=\"62\" />\n",
       "  <line x1=\"0\" y1=\"68\" x2=\"120\" y2=\"68\" />\n",
       "  <line x1=\"0\" y1=\"75\" x2=\"120\" y2=\"75\" />\n",
       "  <line x1=\"0\" y1=\"81\" x2=\"120\" y2=\"81\" />\n",
       "  <line x1=\"0\" y1=\"87\" x2=\"120\" y2=\"87\" />\n",
       "  <line x1=\"0\" y1=\"93\" x2=\"120\" y2=\"93\" />\n",
       "  <line x1=\"0\" y1=\"100\" x2=\"120\" y2=\"100\" />\n",
       "  <line x1=\"0\" y1=\"106\" x2=\"120\" y2=\"106\" />\n",
       "  <line x1=\"0\" y1=\"112\" x2=\"120\" y2=\"112\" />\n",
       "  <line x1=\"0\" y1=\"120\" x2=\"120\" y2=\"120\" style=\"stroke-width:2\" />\n",
       "\n",
       "  <!-- Vertical lines -->\n",
       "  <line x1=\"0\" y1=\"0\" x2=\"0\" y2=\"120\" style=\"stroke-width:2\" />\n",
       "  <line x1=\"6\" y1=\"0\" x2=\"6\" y2=\"120\" />\n",
       "  <line x1=\"12\" y1=\"0\" x2=\"12\" y2=\"120\" />\n",
       "  <line x1=\"18\" y1=\"0\" x2=\"18\" y2=\"120\" />\n",
       "  <line x1=\"25\" y1=\"0\" x2=\"25\" y2=\"120\" />\n",
       "  <line x1=\"31\" y1=\"0\" x2=\"31\" y2=\"120\" />\n",
       "  <line x1=\"37\" y1=\"0\" x2=\"37\" y2=\"120\" />\n",
       "  <line x1=\"43\" y1=\"0\" x2=\"43\" y2=\"120\" />\n",
       "  <line x1=\"50\" y1=\"0\" x2=\"50\" y2=\"120\" />\n",
       "  <line x1=\"56\" y1=\"0\" x2=\"56\" y2=\"120\" />\n",
       "  <line x1=\"62\" y1=\"0\" x2=\"62\" y2=\"120\" />\n",
       "  <line x1=\"68\" y1=\"0\" x2=\"68\" y2=\"120\" />\n",
       "  <line x1=\"75\" y1=\"0\" x2=\"75\" y2=\"120\" />\n",
       "  <line x1=\"81\" y1=\"0\" x2=\"81\" y2=\"120\" />\n",
       "  <line x1=\"87\" y1=\"0\" x2=\"87\" y2=\"120\" />\n",
       "  <line x1=\"93\" y1=\"0\" x2=\"93\" y2=\"120\" />\n",
       "  <line x1=\"100\" y1=\"0\" x2=\"100\" y2=\"120\" />\n",
       "  <line x1=\"106\" y1=\"0\" x2=\"106\" y2=\"120\" />\n",
       "  <line x1=\"112\" y1=\"0\" x2=\"112\" y2=\"120\" />\n",
       "  <line x1=\"120\" y1=\"0\" x2=\"120\" y2=\"120\" style=\"stroke-width:2\" />\n",
       "\n",
       "  <!-- Colored Rectangle -->\n",
       "  <polygon points=\"0.0,0.0 120.0,0.0 120.0,120.0 0.0,120.0\" style=\"fill:#8B4903A0;stroke-width:0\"/>\n",
       "\n",
       "  <!-- Text -->\n",
       "  <text x=\"60.000000\" y=\"140.000000\" font-size=\"1.0rem\" font-weight=\"100\" text-anchor=\"middle\" >100000</text>\n",
       "  <text x=\"140.000000\" y=\"60.000000\" font-size=\"1.0rem\" font-weight=\"100\" text-anchor=\"middle\" transform=\"rotate(-90,140.000000,60.000000)\">100000</text>\n",
       "</svg>\n",
       "        </td>\n",
       "    </tr>\n",
       "</table>"
      ],
      "text/plain": [
       "dask.array<random_sample, shape=(100000, 100000), dtype=float64, chunksize=(1000, 1000), chunktype=numpy.ndarray>"
      ]
     },
     "execution_count": 7,
     "metadata": {},
     "output_type": "execute_result"
    }
   ],
   "source": [
    "x"
   ]
  },
  {
   "cell_type": "code",
   "execution_count": null,
   "id": "71c8f8a3",
   "metadata": {},
   "outputs": [],
   "source": [
    "x.compute()"
   ]
  },
  {
   "cell_type": "markdown",
   "id": "e3bec04b",
   "metadata": {},
   "source": [
    "# 2. Dask DataFrame"
   ]
  },
  {
   "cell_type": "code",
   "execution_count": 5,
   "id": "f76a9c3f",
   "metadata": {},
   "outputs": [],
   "source": [
    "## import dataset default dask\n",
    "from dask import datasets"
   ]
  }
 ],
 "metadata": {
  "kernelspec": {
   "display_name": "Python 3 (ipykernel)",
   "language": "python",
   "name": "python3"
  },
  "language_info": {
   "codemirror_mode": {
    "name": "ipython",
    "version": 3
   },
   "file_extension": ".py",
   "mimetype": "text/x-python",
   "name": "python",
   "nbconvert_exporter": "python",
   "pygments_lexer": "ipython3",
   "version": "3.8.11"
  }
 },
 "nbformat": 4,
 "nbformat_minor": 5
}

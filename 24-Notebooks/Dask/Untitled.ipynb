{
 "cells": [
  {
   "cell_type": "markdown",
   "id": "82c38eb8",
   "metadata": {},
   "source": [
    "# Instalação\n",
    "- conda install dask\n",
    "- pip install dask"
   ]
  },
  {
   "cell_type": "markdown",
   "id": "bcba1948",
   "metadata": {},
   "source": [
    "## 1. Dask Arrays"
   ]
  },
  {
   "cell_type": "code",
   "execution_count": 1,
   "id": "a436e5c0",
   "metadata": {},
   "outputs": [],
   "source": [
    "## Import dask Array\n",
    "import dask.array as da"
   ]
  },
  {
   "cell_type": "code",
   "execution_count": 3,
   "id": "518ba551",
   "metadata": {},
   "outputs": [],
   "source": [
    "x = da.random.random((10000,10000), chunks=(1000,1000))"
   ]
  }
 ],
 "metadata": {
  "kernelspec": {
   "display_name": "Python 3 (ipykernel)",
   "language": "python",
   "name": "python3"
  },
  "language_info": {
   "codemirror_mode": {
    "name": "ipython",
    "version": 3
   },
   "file_extension": ".py",
   "mimetype": "text/x-python",
   "name": "python",
   "nbconvert_exporter": "python",
   "pygments_lexer": "ipython3",
   "version": "3.8.11"
  }
 },
 "nbformat": 4,
 "nbformat_minor": 5
}

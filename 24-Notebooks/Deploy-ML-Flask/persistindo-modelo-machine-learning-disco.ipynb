{
 "cells": [
  {
   "cell_type": "markdown",
   "id": "06ba55da-99e7-4e36-b741-39cd1783e725",
   "metadata": {},
   "source": [
    " ## Deploy Web API with Flask"
   ]
  },
  {
   "cell_type": "markdown",
   "id": "aa87534f-dff8-4dd1-b4fc-0b2e976c97df",
   "metadata": {},
   "source": [
    "### Tutorial\n",
    "https://minerandodados.com.br/realizando-o-deploy-de-um-modelo-de-machine-learning-em-producao/\n",
    "\n",
    "### YouTube Tutorial\n",
    "https://www.youtube.com/watch?v=_dRfScGH7NA&t=704s"
   ]
  },
  {
   "cell_type": "code",
   "execution_count": null,
   "id": "f9eccb9b-57eb-4ca2-a065-7d86179b0611",
   "metadata": {},
   "outputs": [],
   "source": []
  }
 ],
 "metadata": {
  "kernelspec": {
   "display_name": "Python 3 (ipykernel)",
   "language": "python",
   "name": "python3"
  },
  "language_info": {
   "codemirror_mode": {
    "name": "ipython",
    "version": 3
   },
   "file_extension": ".py",
   "mimetype": "text/x-python",
   "name": "python",
   "nbconvert_exporter": "python",
   "pygments_lexer": "ipython3",
   "version": "3.8.11"
  }
 },
 "nbformat": 4,
 "nbformat_minor": 5
}

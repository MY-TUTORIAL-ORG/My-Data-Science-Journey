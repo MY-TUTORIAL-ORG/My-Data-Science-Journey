{
  "nbformat": 4,
  "nbformat_minor": 0,
  "metadata": {
    "colab": {
      "name": "Módulos úteis.ipynb",
      "provenance": [],
      "collapsed_sections": [],
      "include_colab_link": true
    },
    "kernelspec": {
      "name": "python3",
      "display_name": "Python 3"
    }
  },
  "cells": [
    {
      "cell_type": "markdown",
      "metadata": {
        "id": "view-in-github",
        "colab_type": "text"
      },
      "source": [
        "<a href=\"https://colab.research.google.com/github/DataScience-2021/Guia-Completo-IA-01-Python/blob/main/M%C3%B3dulos_%C3%BAteis.ipynb\" target=\"_parent\"><img src=\"https://colab.research.google.com/assets/colab-badge.svg\" alt=\"Open In Colab\"/></a>"
      ]
    },
    {
      "cell_type": "markdown",
      "metadata": {
        "id": "MwcHdTIT8XLe"
      },
      "source": [
        "# Módulos úteis"
      ]
    },
    {
      "cell_type": "markdown",
      "metadata": {
        "id": "WHdSo8Zh8dj3"
      },
      "source": [
        "## Biblioteca math\n",
        "\n",
        "https://docs.python.org/3/library/math.html"
      ]
    },
    {
      "cell_type": "code",
      "metadata": {
        "id": "u6cAQHQo-ksC"
      },
      "source": [
        "import math"
      ],
      "execution_count": 1,
      "outputs": []
    },
    {
      "cell_type": "code",
      "metadata": {
        "id": "O2Dt-oX2-vAB",
        "colab": {
          "base_uri": "https://localhost:8080/"
        },
        "outputId": "14451381-a395-4501-f3dd-2ac7c7773d4e"
      },
      "source": [
        "math.sqrt(9)"
      ],
      "execution_count": 2,
      "outputs": [
        {
          "output_type": "execute_result",
          "data": {
            "text/plain": [
              "3.0"
            ]
          },
          "metadata": {},
          "execution_count": 2
        }
      ]
    },
    {
      "cell_type": "code",
      "metadata": {
        "id": "oP6I2Go8-2rk",
        "colab": {
          "base_uri": "https://localhost:8080/"
        },
        "outputId": "ccc99fdb-81eb-4a9c-8fbd-62a18461384f"
      },
      "source": [
        "math.sin(45)"
      ],
      "execution_count": 3,
      "outputs": [
        {
          "output_type": "execute_result",
          "data": {
            "text/plain": [
              "0.8509035245341184"
            ]
          },
          "metadata": {},
          "execution_count": 3
        }
      ]
    },
    {
      "cell_type": "code",
      "metadata": {
        "id": "lbGQPZyv-6Ol",
        "colab": {
          "base_uri": "https://localhost:8080/"
        },
        "outputId": "e266ace3-fefc-4add-b767-f18d2b9639d5"
      },
      "source": [
        "math.cos(45)"
      ],
      "execution_count": 4,
      "outputs": [
        {
          "output_type": "execute_result",
          "data": {
            "text/plain": [
              "0.5253219888177297"
            ]
          },
          "metadata": {},
          "execution_count": 4
        }
      ]
    },
    {
      "cell_type": "code",
      "metadata": {
        "id": "_SOdHMQH-9j6",
        "colab": {
          "base_uri": "https://localhost:8080/"
        },
        "outputId": "d04f89d6-3ccc-4079-8ae8-46520e3a621c"
      },
      "source": [
        "math.log(1000, 10)"
      ],
      "execution_count": 5,
      "outputs": [
        {
          "output_type": "execute_result",
          "data": {
            "text/plain": [
              "2.9999999999999996"
            ]
          },
          "metadata": {},
          "execution_count": 5
        }
      ]
    },
    {
      "cell_type": "code",
      "metadata": {
        "id": "0l-7gwBD_D79",
        "colab": {
          "base_uri": "https://localhost:8080/"
        },
        "outputId": "45f4b284-eba7-470a-f6f9-511059016e73"
      },
      "source": [
        "math.log(32, 2)"
      ],
      "execution_count": 6,
      "outputs": [
        {
          "output_type": "execute_result",
          "data": {
            "text/plain": [
              "5.0"
            ]
          },
          "metadata": {},
          "execution_count": 6
        }
      ]
    },
    {
      "cell_type": "code",
      "metadata": {
        "id": "g1RLwvrN_H_V",
        "colab": {
          "base_uri": "https://localhost:8080/"
        },
        "outputId": "53ea09e4-8271-45c4-a771-b20f6731bdf9"
      },
      "source": [
        "math.log(1000)"
      ],
      "execution_count": 7,
      "outputs": [
        {
          "output_type": "execute_result",
          "data": {
            "text/plain": [
              "6.907755278982137"
            ]
          },
          "metadata": {},
          "execution_count": 7
        }
      ]
    },
    {
      "cell_type": "code",
      "metadata": {
        "id": "o6BDsZTH_NSD",
        "colab": {
          "base_uri": "https://localhost:8080/"
        },
        "outputId": "07e29401-ea6c-45eb-f4b7-345d2d962383"
      },
      "source": [
        "math.e"
      ],
      "execution_count": 8,
      "outputs": [
        {
          "output_type": "execute_result",
          "data": {
            "text/plain": [
              "2.718281828459045"
            ]
          },
          "metadata": {},
          "execution_count": 8
        }
      ]
    },
    {
      "cell_type": "code",
      "metadata": {
        "id": "XHp0onHY_SBt",
        "colab": {
          "base_uri": "https://localhost:8080/"
        },
        "outputId": "a0cd1795-d04b-4c90-9419-0319e27cb92f"
      },
      "source": [
        "math.pi"
      ],
      "execution_count": 9,
      "outputs": [
        {
          "output_type": "execute_result",
          "data": {
            "text/plain": [
              "3.141592653589793"
            ]
          },
          "metadata": {},
          "execution_count": 9
        }
      ]
    },
    {
      "cell_type": "markdown",
      "metadata": {
        "id": "roxeqfCm86Xv"
      },
      "source": [
        "## Biblioteca datetime\n",
        "\n",
        "https://docs.python.org/3/library/datetime.html"
      ]
    },
    {
      "cell_type": "code",
      "metadata": {
        "id": "xHrk2_CW_bdq"
      },
      "source": [
        "import datetime"
      ],
      "execution_count": 11,
      "outputs": []
    },
    {
      "cell_type": "code",
      "metadata": {
        "id": "ObWdUa5w_gGd",
        "colab": {
          "base_uri": "https://localhost:8080/"
        },
        "outputId": "9926ece1-e96c-40b0-aabf-d0cdf45f0145"
      },
      "source": [
        "dir(datetime)"
      ],
      "execution_count": 12,
      "outputs": [
        {
          "output_type": "execute_result",
          "data": {
            "text/plain": [
              "['MAXYEAR',\n",
              " 'MINYEAR',\n",
              " '__builtins__',\n",
              " '__cached__',\n",
              " '__doc__',\n",
              " '__file__',\n",
              " '__loader__',\n",
              " '__name__',\n",
              " '__package__',\n",
              " '__spec__',\n",
              " 'date',\n",
              " 'datetime',\n",
              " 'datetime_CAPI',\n",
              " 'sys',\n",
              " 'time',\n",
              " 'timedelta',\n",
              " 'timezone',\n",
              " 'tzinfo']"
            ]
          },
          "metadata": {},
          "execution_count": 12
        }
      ]
    },
    {
      "cell_type": "code",
      "metadata": {
        "id": "xONOUbn0_pHp",
        "colab": {
          "base_uri": "https://localhost:8080/"
        },
        "outputId": "5840fc63-8cad-4904-8e59-f464c758fe0c"
      },
      "source": [
        "datetime.date.today()"
      ],
      "execution_count": 13,
      "outputs": [
        {
          "output_type": "execute_result",
          "data": {
            "text/plain": [
              "datetime.date(2021, 10, 19)"
            ]
          },
          "metadata": {},
          "execution_count": 13
        }
      ]
    },
    {
      "cell_type": "code",
      "metadata": {
        "id": "tt0hGFwv_uUK",
        "colab": {
          "base_uri": "https://localhost:8080/"
        },
        "outputId": "ed3584bb-40ad-4962-be94-b188928e4937"
      },
      "source": [
        "datetime.datetime.now()"
      ],
      "execution_count": 14,
      "outputs": [
        {
          "output_type": "execute_result",
          "data": {
            "text/plain": [
              "datetime.datetime(2021, 10, 19, 19, 6, 43, 825329)"
            ]
          },
          "metadata": {},
          "execution_count": 14
        }
      ]
    },
    {
      "cell_type": "code",
      "metadata": {
        "id": "ur0nPWai_944"
      },
      "source": [
        "data = datetime.date(2020, 7, 10)"
      ],
      "execution_count": 16,
      "outputs": []
    },
    {
      "cell_type": "code",
      "metadata": {
        "id": "6SHOHygsADbR",
        "colab": {
          "base_uri": "https://localhost:8080/"
        },
        "outputId": "560dd524-693d-4008-b7fa-5222d106e190"
      },
      "source": [
        "data"
      ],
      "execution_count": 17,
      "outputs": [
        {
          "output_type": "execute_result",
          "data": {
            "text/plain": [
              "datetime.date(2020, 7, 10)"
            ]
          },
          "metadata": {},
          "execution_count": 17
        }
      ]
    },
    {
      "cell_type": "code",
      "metadata": {
        "id": "m8JL6oiiAFUE",
        "colab": {
          "base_uri": "https://localhost:8080/"
        },
        "outputId": "cd5d52bc-1e23-418a-8278-9c37093be965"
      },
      "source": [
        "data.day"
      ],
      "execution_count": 18,
      "outputs": [
        {
          "output_type": "execute_result",
          "data": {
            "text/plain": [
              "10"
            ]
          },
          "metadata": {},
          "execution_count": 18
        }
      ]
    },
    {
      "cell_type": "code",
      "metadata": {
        "id": "_46rIp3zAH9a",
        "colab": {
          "base_uri": "https://localhost:8080/"
        },
        "outputId": "4f4ec202-24c3-473d-bdf0-718ba7ecbbb1"
      },
      "source": [
        "data.month"
      ],
      "execution_count": 19,
      "outputs": [
        {
          "output_type": "execute_result",
          "data": {
            "text/plain": [
              "7"
            ]
          },
          "metadata": {},
          "execution_count": 19
        }
      ]
    },
    {
      "cell_type": "code",
      "metadata": {
        "id": "nTb7KdSnAKMW",
        "colab": {
          "base_uri": "https://localhost:8080/"
        },
        "outputId": "7901d941-af94-4540-f3ce-8e2ff63584c4"
      },
      "source": [
        "data.year"
      ],
      "execution_count": 20,
      "outputs": [
        {
          "output_type": "execute_result",
          "data": {
            "text/plain": [
              "2020"
            ]
          },
          "metadata": {},
          "execution_count": 20
        }
      ]
    },
    {
      "cell_type": "code",
      "metadata": {
        "id": "FFeRYgo7AME5"
      },
      "source": [
        "horario = datetime.datetime(2020, 7, 10, 7, 30, 0)"
      ],
      "execution_count": 21,
      "outputs": []
    },
    {
      "cell_type": "code",
      "metadata": {
        "id": "lKlm_pM3AUgQ",
        "colab": {
          "base_uri": "https://localhost:8080/"
        },
        "outputId": "d9e6f980-135f-420c-d43e-6c978c67837b"
      },
      "source": [
        "horario"
      ],
      "execution_count": 22,
      "outputs": [
        {
          "output_type": "execute_result",
          "data": {
            "text/plain": [
              "datetime.datetime(2020, 7, 10, 7, 30)"
            ]
          },
          "metadata": {},
          "execution_count": 22
        }
      ]
    },
    {
      "cell_type": "code",
      "metadata": {
        "id": "n3Ga37sLAW42",
        "colab": {
          "base_uri": "https://localhost:8080/"
        },
        "outputId": "a565847d-e397-4242-a8ee-6a440dd79195"
      },
      "source": [
        "horario.hour"
      ],
      "execution_count": 23,
      "outputs": [
        {
          "output_type": "execute_result",
          "data": {
            "text/plain": [
              "7"
            ]
          },
          "metadata": {},
          "execution_count": 23
        }
      ]
    },
    {
      "cell_type": "code",
      "metadata": {
        "id": "fkAscL4JAZwv",
        "colab": {
          "base_uri": "https://localhost:8080/"
        },
        "outputId": "89cd5de2-b135-44f6-f61c-7f46f8f4e507"
      },
      "source": [
        "horario.minute"
      ],
      "execution_count": 24,
      "outputs": [
        {
          "output_type": "execute_result",
          "data": {
            "text/plain": [
              "30"
            ]
          },
          "metadata": {},
          "execution_count": 24
        }
      ]
    },
    {
      "cell_type": "code",
      "metadata": {
        "id": "L17bP5fJAcLN",
        "colab": {
          "base_uri": "https://localhost:8080/"
        },
        "outputId": "cd2a6723-6d1b-402b-81af-86f7fc679d37"
      },
      "source": [
        "horario.second"
      ],
      "execution_count": 25,
      "outputs": [
        {
          "output_type": "execute_result",
          "data": {
            "text/plain": [
              "0"
            ]
          },
          "metadata": {},
          "execution_count": 25
        }
      ]
    },
    {
      "cell_type": "markdown",
      "metadata": {
        "id": "ggltYst89xbS"
      },
      "source": [
        "## Biblioteca random\n",
        "\n",
        "https://docs.python.org/3/library/random.html"
      ]
    },
    {
      "cell_type": "code",
      "metadata": {
        "id": "CVJYJFKSA80v"
      },
      "source": [
        "import random"
      ],
      "execution_count": 26,
      "outputs": []
    },
    {
      "cell_type": "code",
      "metadata": {
        "id": "pHCyuns9A_1L",
        "colab": {
          "base_uri": "https://localhost:8080/"
        },
        "outputId": "257b45e1-37b9-42cf-92fb-c188c4a2ba1b"
      },
      "source": [
        "random.random()"
      ],
      "execution_count": 30,
      "outputs": [
        {
          "output_type": "execute_result",
          "data": {
            "text/plain": [
              "0.28311340047835165"
            ]
          },
          "metadata": {},
          "execution_count": 30
        }
      ]
    },
    {
      "cell_type": "code",
      "metadata": {
        "id": "QP8UOZkSBIMM",
        "colab": {
          "base_uri": "https://localhost:8080/"
        },
        "outputId": "e0b56c74-e35b-4435-a397-8d5dd59a05a9"
      },
      "source": [
        "random.randint(1,60)"
      ],
      "execution_count": 33,
      "outputs": [
        {
          "output_type": "execute_result",
          "data": {
            "text/plain": [
              "33"
            ]
          },
          "metadata": {},
          "execution_count": 33
        }
      ]
    },
    {
      "cell_type": "code",
      "metadata": {
        "id": "ANyO08vxBUOR",
        "colab": {
          "base_uri": "https://localhost:8080/"
        },
        "outputId": "b43f935b-46e8-4e6b-d8b4-d3cd57f57883"
      },
      "source": [
        "random.randrange(0, 10, 2)"
      ],
      "execution_count": 38,
      "outputs": [
        {
          "output_type": "execute_result",
          "data": {
            "text/plain": [
              "2"
            ]
          },
          "metadata": {},
          "execution_count": 38
        }
      ]
    },
    {
      "cell_type": "code",
      "metadata": {
        "id": "z_lV_cmrBime",
        "colab": {
          "base_uri": "https://localhost:8080/"
        },
        "outputId": "5888f107-7f66-4a43-d527-7e349607d87a"
      },
      "source": [
        "random.randrange(0, 10, 3)"
      ],
      "execution_count": 41,
      "outputs": [
        {
          "output_type": "execute_result",
          "data": {
            "text/plain": [
              "9"
            ]
          },
          "metadata": {},
          "execution_count": 41
        }
      ]
    },
    {
      "cell_type": "code",
      "metadata": {
        "id": "5lJoox02BsI-",
        "colab": {
          "base_uri": "https://localhost:8080/"
        },
        "outputId": "b69e2404-81e6-43b5-a485-07593f1d0fde"
      },
      "source": [
        "x = ['K', 'd', 13, '34-j', 'x']\n",
        "x"
      ],
      "execution_count": 42,
      "outputs": [
        {
          "output_type": "execute_result",
          "data": {
            "text/plain": [
              "['K', 'd', 13, '34-j', 'x']"
            ]
          },
          "metadata": {},
          "execution_count": 42
        }
      ]
    },
    {
      "cell_type": "code",
      "metadata": {
        "id": "69AXcQ4XB1x9",
        "colab": {
          "base_uri": "https://localhost:8080/",
          "height": 35
        },
        "outputId": "6780a3b5-a41e-4c75-884e-d730e68e919b"
      },
      "source": [
        "random.choice(x)"
      ],
      "execution_count": 45,
      "outputs": [
        {
          "output_type": "execute_result",
          "data": {
            "application/vnd.google.colaboratory.intrinsic+json": {
              "type": "string"
            },
            "text/plain": [
              "'x'"
            ]
          },
          "metadata": {},
          "execution_count": 45
        }
      ]
    },
    {
      "cell_type": "markdown",
      "metadata": {
        "id": "mdD3O8Kc-Tkq"
      },
      "source": [
        "## Biblioteca time\n",
        "\n",
        "https://docs.python.org/3/library/time.html"
      ]
    },
    {
      "cell_type": "code",
      "metadata": {
        "id": "LPQ-b41pCBm_"
      },
      "source": [
        "import time as tm"
      ],
      "execution_count": 46,
      "outputs": []
    },
    {
      "cell_type": "code",
      "metadata": {
        "id": "8lUWM3b2CIEW",
        "colab": {
          "base_uri": "https://localhost:8080/"
        },
        "outputId": "9926525e-6c2c-4efc-9655-e588bf22aa87"
      },
      "source": [
        "tm.time()"
      ],
      "execution_count": 50,
      "outputs": [
        {
          "output_type": "execute_result",
          "data": {
            "text/plain": [
              "1634670544.0975065"
            ]
          },
          "metadata": {},
          "execution_count": 50
        }
      ]
    },
    {
      "cell_type": "code",
      "metadata": {
        "id": "gJRtYvDdCP7H"
      },
      "source": [
        "antes = tm.time()\n",
        "lista = []\n",
        "for i in range(0,10000):\n",
        "  lista.append(i)\n",
        "depois = tm.time()"
      ],
      "execution_count": 52,
      "outputs": []
    },
    {
      "cell_type": "code",
      "metadata": {
        "id": "Dx1j-BEcChm3",
        "colab": {
          "base_uri": "https://localhost:8080/"
        },
        "outputId": "43190d07-d179-47e7-a4af-cb2cbb320e5e"
      },
      "source": [
        "intervalo = depois - antes\n",
        "print(f'Tempo: {intervalo} segundos')"
      ],
      "execution_count": 55,
      "outputs": [
        {
          "output_type": "stream",
          "name": "stdout",
          "text": [
            "Tempo: 0.003445148468017578 segundos\n"
          ]
        }
      ]
    },
    {
      "cell_type": "code",
      "metadata": {
        "id": "1i2UXiRxCv4f",
        "colab": {
          "base_uri": "https://localhost:8080/"
        },
        "outputId": "3f325084-5f47-45bb-e48b-1cae42636549"
      },
      "source": [
        "print('Finalizando...')\n",
        "tm.sleep(2)\n",
        "print('...')\n",
        "tm.sleep(2)\n",
        "print('Até a próxima')"
      ],
      "execution_count": 56,
      "outputs": [
        {
          "output_type": "stream",
          "name": "stdout",
          "text": [
            "Finalizando...\n",
            "...\n",
            "Até a próxima\n"
          ]
        }
      ]
    }
  ]
}
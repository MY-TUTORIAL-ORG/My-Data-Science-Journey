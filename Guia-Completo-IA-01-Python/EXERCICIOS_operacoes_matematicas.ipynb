{
  "nbformat": 4,
  "nbformat_minor": 0,
  "metadata": {
    "colab": {
      "name": "exercicio-operacoes-matematicas.ipynb",
      "provenance": [],
      "authorship_tag": "ABX9TyMhtY66wuxglHnv2UX9qNIW",
      "include_colab_link": true
    },
    "kernelspec": {
      "name": "python3",
      "display_name": "Python 3"
    },
    "language_info": {
      "name": "python"
    }
  },
  "cells": [
    {
      "cell_type": "markdown",
      "metadata": {
        "id": "view-in-github",
        "colab_type": "text"
      },
      "source": [
        "<a href=\"https://colab.research.google.com/github/DataScience-2021/-Programacao-Python-Guia-Completo-IA/blob/main/exercicio_operacoes_matematicas.ipynb\" target=\"_parent\"><img src=\"https://colab.research.google.com/assets/colab-badge.svg\" alt=\"Open In Colab\"/></a>"
      ]
    },
    {
      "cell_type": "code",
      "metadata": {
        "colab": {
          "base_uri": "https://localhost:8080/"
        },
        "id": "_hzEODTeN8TH",
        "outputId": "b9fd6b16-6c85-46ed-cf19-2fa071ebc045"
      },
      "source": [
        "print('Exercicio Operações Matematicas')"
      ],
      "execution_count": 1,
      "outputs": [
        {
          "output_type": "stream",
          "name": "stdout",
          "text": [
            "Exercicio Operações Matematicas\n"
          ]
        }
      ]
    },
    {
      "cell_type": "code",
      "metadata": {
        "colab": {
          "base_uri": "https://localhost:8080/"
        },
        "id": "mnKrJQRwOg1a",
        "outputId": "ec49ea55-fa02-409a-dc3e-6114291a9fac"
      },
      "source": [
        "numero1 = float(input(\"Entre com o numero 1 \"))\n",
        "numero2 = float(input(\"Entre com o numero 2 \"))\n",
        "\n",
        "print(f\"Operações Entre os numeros {numero1} e {numero2}\")\n",
        "soma = numero1 + numero2\n",
        "subtracao = numero1 - numero2\n",
        "multiplicacao = numero1 * numero2\n",
        "divisao = numero1 / numero2\n",
        "print(\"Soma\", soma)\n",
        "print(\"Subtracao\", subtracao)\n",
        "print(\"Multiplicacao\", multiplicacao)\n",
        "print(\"Divisao\", divisao)"
      ],
      "execution_count": 13,
      "outputs": [
        {
          "output_type": "stream",
          "name": "stdout",
          "text": [
            "Entre com o numero 1 8\n",
            "Entre com o numero 2 2\n",
            "Operações Entre os numeros 8.0 e 2.0\n",
            "Soma 10.0\n",
            "Subtracao 6.0\n",
            "Multiplicacao 16.0\n",
            "Divisao 4.0\n"
          ]
        }
      ]
    },
    {
      "cell_type": "code",
      "metadata": {
        "colab": {
          "base_uri": "https://localhost:8080/"
        },
        "id": "2jD3X-7uQIsC",
        "outputId": "cea9a304-215b-476a-d3d4-c96bf7744c95"
      },
      "source": [
        "# python code to demonstrate example\n",
        "# of input() function\n",
        "\n",
        "val1 = input(\"Enter any value: \")\n",
        "print(\"value of val1: \", val1)\n",
        "print(\"type of val1: \", type(val1))\n",
        "\n",
        "val2 = input(\"Enter another value: \")\n",
        "print(\"value of val2: \", val2)\n",
        "print(\"type of val2: \", type(val2))\n",
        "\n",
        "val3 = input(\"Enter another value: \")\n",
        "print(\"value of val3: \", val3)\n",
        "print(\"type of val3: \", type(val3))\n"
      ],
      "execution_count": 14,
      "outputs": [
        {
          "output_type": "stream",
          "name": "stdout",
          "text": [
            "Enter any value: 1\n",
            "value of val1:  1\n",
            "type of val1:  <class 'str'>\n",
            "Enter another value: 2\n",
            "value of val2:  2\n",
            "type of val2:  <class 'str'>\n",
            "Enter another value: 3\n",
            "value of val3:  3\n",
            "type of val3:  <class 'str'>\n"
          ]
        }
      ]
    },
    {
      "cell_type": "code",
      "metadata": {
        "colab": {
          "base_uri": "https://localhost:8080/"
        },
        "id": "zDtwaAxxR4KR",
        "outputId": "8e5e0f94-0c9a-4665-e60e-f4b715f476b6"
      },
      "source": [
        "print(\"Calculo Quantidade Combustivel\")\n",
        "distancia = float(input(\"Informe a distância\"))\n",
        "duracao = float(input(\"Informe a duração em horas\"))\n",
        "litros_usados = distancia / 12\n",
        "velocidade_media = distancia / duracao\n",
        "print(\"Distancia Total em KM->\", distancia)\n",
        "print(\"Duracao em Horas ->\", duracao)\n",
        "print(\"A Velocidade Média em KM/H ->\", velocidade_media)\n",
        "print(\"O Total de Litros Usados ->\", litros_usados)"
      ],
      "execution_count": 18,
      "outputs": [
        {
          "output_type": "stream",
          "name": "stdout",
          "text": [
            "Calculo Quantidade Combustivel\n",
            "Informe a distância1200\n",
            "Informe a duração em horas10\n",
            "Distancia Total em KM-> 1200.0\n",
            "Duracao em Horas -> 10.0\n",
            "A Velocidade Média em KM/H -> 120.0\n",
            "O Total de Litros Usados -> 100.0\n"
          ]
        }
      ]
    }
  ]
}
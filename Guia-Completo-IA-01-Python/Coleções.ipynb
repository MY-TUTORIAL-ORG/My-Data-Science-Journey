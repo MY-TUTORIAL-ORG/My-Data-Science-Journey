{
  "nbformat": 4,
  "nbformat_minor": 0,
  "metadata": {
    "colab": {
      "name": "Coleções.ipynb",
      "provenance": [],
      "collapsed_sections": [],
      "include_colab_link": true
    },
    "kernelspec": {
      "name": "python3",
      "display_name": "Python 3"
    }
  },
  "cells": [
    {
      "cell_type": "markdown",
      "metadata": {
        "id": "view-in-github",
        "colab_type": "text"
      },
      "source": [
        "<a href=\"https://colab.research.google.com/github/DataScience-2021/Guia-Completo-IA-01-Python/blob/main/Cole%C3%A7%C3%B5es.ipynb\" target=\"_parent\"><img src=\"https://colab.research.google.com/assets/colab-badge.svg\" alt=\"Open In Colab\"/></a>"
      ]
    },
    {
      "cell_type": "markdown",
      "metadata": {
        "id": "--0h-g8oKeoy"
      },
      "source": [
        "# Coleções"
      ]
    },
    {
      "cell_type": "markdown",
      "metadata": {
        "id": "SeYvjhqqKg_c"
      },
      "source": [
        "## Tuplas"
      ]
    },
    {
      "cell_type": "code",
      "metadata": {
        "id": "3-eVcVkon0cf"
      },
      "source": [
        "tupla = ('Homo sapiens', 'Canis familiaris', 'Felis catus')"
      ],
      "execution_count": 1,
      "outputs": []
    },
    {
      "cell_type": "code",
      "metadata": {
        "id": "MFQxX8UeoCM8",
        "colab": {
          "base_uri": "https://localhost:8080/"
        },
        "outputId": "4e531fae-04a3-4155-bd93-adbde43e26aa"
      },
      "source": [
        "tupla"
      ],
      "execution_count": 2,
      "outputs": [
        {
          "output_type": "execute_result",
          "data": {
            "text/plain": [
              "('Homo sapiens', 'Canis familiaris', 'Felis catus')"
            ]
          },
          "metadata": {},
          "execution_count": 2
        }
      ]
    },
    {
      "cell_type": "code",
      "metadata": {
        "id": "EzVM_YO-oD4b",
        "colab": {
          "base_uri": "https://localhost:8080/",
          "height": 35
        },
        "outputId": "11cae4ca-49af-4a30-8705-b32fb345ec35"
      },
      "source": [
        "tupla[0]"
      ],
      "execution_count": 3,
      "outputs": [
        {
          "output_type": "execute_result",
          "data": {
            "application/vnd.google.colaboratory.intrinsic+json": {
              "type": "string"
            },
            "text/plain": [
              "'Homo sapiens'"
            ]
          },
          "metadata": {},
          "execution_count": 3
        }
      ]
    },
    {
      "cell_type": "code",
      "metadata": {
        "id": "Ppce8AdNoTK4",
        "colab": {
          "base_uri": "https://localhost:8080/"
        },
        "outputId": "c3ede9b9-f6aa-4e36-ea96-5fa203c00b5c"
      },
      "source": [
        "tupla.index('Canis familiaris')"
      ],
      "execution_count": 4,
      "outputs": [
        {
          "output_type": "execute_result",
          "data": {
            "text/plain": [
              "1"
            ]
          },
          "metadata": {},
          "execution_count": 4
        }
      ]
    },
    {
      "cell_type": "code",
      "metadata": {
        "id": "6d9gkoZyoZ-P",
        "colab": {
          "base_uri": "https://localhost:8080/"
        },
        "outputId": "dcda4bdc-526a-43d7-b06b-fb81f1a1f223"
      },
      "source": [
        "for elemento in tupla:\n",
        "  print(elemento)"
      ],
      "execution_count": 5,
      "outputs": [
        {
          "output_type": "stream",
          "name": "stdout",
          "text": [
            "Homo sapiens\n",
            "Canis familiaris\n",
            "Felis catus\n"
          ]
        }
      ]
    },
    {
      "cell_type": "markdown",
      "metadata": {
        "id": "N7zPJp9PK5lw"
      },
      "source": [
        "## Listas"
      ]
    },
    {
      "cell_type": "code",
      "metadata": {
        "id": "5ytZczB2ommH"
      },
      "source": [
        "l1 = ['Homo sapiens', 'Canis familiaris', 'Felis catus']\n",
        "l2 = ['Xenopus laevis', 'Ailuropoda melanoleuca']"
      ],
      "execution_count": 6,
      "outputs": []
    },
    {
      "cell_type": "code",
      "metadata": {
        "id": "19OHKWNIo2jN",
        "colab": {
          "base_uri": "https://localhost:8080/"
        },
        "outputId": "91598a0b-0b1e-4d90-8acd-97ad1063a729"
      },
      "source": [
        "l3 = l1 + l2\n",
        "print(l3)"
      ],
      "execution_count": 7,
      "outputs": [
        {
          "output_type": "stream",
          "name": "stdout",
          "text": [
            "['Homo sapiens', 'Canis familiaris', 'Felis catus', 'Xenopus laevis', 'Ailuropoda melanoleuca']\n"
          ]
        }
      ]
    },
    {
      "cell_type": "code",
      "metadata": {
        "id": "v4WmPWV6o-hz",
        "colab": {
          "base_uri": "https://localhost:8080/"
        },
        "outputId": "92b6686d-febd-439b-8036-fa6a3c7401c4"
      },
      "source": [
        "l2"
      ],
      "execution_count": 8,
      "outputs": [
        {
          "output_type": "execute_result",
          "data": {
            "text/plain": [
              "['Xenopus laevis', 'Ailuropoda melanoleuca']"
            ]
          },
          "metadata": {},
          "execution_count": 8
        }
      ]
    },
    {
      "cell_type": "code",
      "metadata": {
        "id": "SZR7YfLgpAua",
        "colab": {
          "base_uri": "https://localhost:8080/"
        },
        "outputId": "c21af9c7-a709-43b5-8d36-043b71943ca4"
      },
      "source": [
        "l2_2 = l2 * 2\n",
        "print(l2_2)"
      ],
      "execution_count": 9,
      "outputs": [
        {
          "output_type": "stream",
          "name": "stdout",
          "text": [
            "['Xenopus laevis', 'Ailuropoda melanoleuca', 'Xenopus laevis', 'Ailuropoda melanoleuca']\n"
          ]
        }
      ]
    },
    {
      "cell_type": "code",
      "metadata": {
        "id": "QZtjvcbQpNm3",
        "colab": {
          "base_uri": "https://localhost:8080/",
          "height": 35
        },
        "outputId": "65d9c4a5-fd90-49af-f0d6-3e87d6ad1bb5"
      },
      "source": [
        "l1[0]"
      ],
      "execution_count": 11,
      "outputs": [
        {
          "output_type": "execute_result",
          "data": {
            "application/vnd.google.colaboratory.intrinsic+json": {
              "type": "string"
            },
            "text/plain": [
              "'Homo sapiens'"
            ]
          },
          "metadata": {},
          "execution_count": 11
        }
      ]
    },
    {
      "cell_type": "code",
      "metadata": {
        "id": "0lx0MiBmpQYQ",
        "colab": {
          "base_uri": "https://localhost:8080/"
        },
        "outputId": "7416d909-55e5-49b4-bb3a-e0fd053f3e34"
      },
      "source": [
        "l1"
      ],
      "execution_count": 10,
      "outputs": [
        {
          "output_type": "execute_result",
          "data": {
            "text/plain": [
              "['Homo sapiens', 'Canis familiaris', 'Felis catus']"
            ]
          },
          "metadata": {},
          "execution_count": 10
        }
      ]
    },
    {
      "cell_type": "code",
      "metadata": {
        "id": "IyfdEzispSFx",
        "colab": {
          "base_uri": "https://localhost:8080/"
        },
        "outputId": "4de3bd1e-2362-4431-c270-c715d07d54bc"
      },
      "source": [
        "l1[0:2]"
      ],
      "execution_count": 12,
      "outputs": [
        {
          "output_type": "execute_result",
          "data": {
            "text/plain": [
              "['Homo sapiens', 'Canis familiaris']"
            ]
          },
          "metadata": {},
          "execution_count": 12
        }
      ]
    },
    {
      "cell_type": "code",
      "metadata": {
        "id": "3WUtBPinpaet",
        "colab": {
          "base_uri": "https://localhost:8080/"
        },
        "outputId": "88a99605-84fe-4fb7-d9a2-28d7e0d4f6f4"
      },
      "source": [
        "l1.append('Gorila gorila')\n",
        "print(l1)"
      ],
      "execution_count": 13,
      "outputs": [
        {
          "output_type": "stream",
          "name": "stdout",
          "text": [
            "['Homo sapiens', 'Canis familiaris', 'Felis catus', 'Gorila gorila']\n"
          ]
        }
      ]
    },
    {
      "cell_type": "code",
      "metadata": {
        "id": "6ogEdtAupg8U",
        "colab": {
          "base_uri": "https://localhost:8080/"
        },
        "outputId": "b0049f5d-efd3-486a-f5c5-16a6d6ee8545"
      },
      "source": [
        "l1.remove('Felis catus')\n",
        "print(l1)"
      ],
      "execution_count": 14,
      "outputs": [
        {
          "output_type": "stream",
          "name": "stdout",
          "text": [
            "['Homo sapiens', 'Canis familiaris', 'Gorila gorila']\n"
          ]
        }
      ]
    },
    {
      "cell_type": "code",
      "metadata": {
        "id": "CaO3BVMzpoi9"
      },
      "source": [
        "del(l1)"
      ],
      "execution_count": 15,
      "outputs": []
    },
    {
      "cell_type": "code",
      "metadata": {
        "id": "aCi7FLacpqzS",
        "colab": {
          "base_uri": "https://localhost:8080/",
          "height": 163
        },
        "outputId": "aba0f950-830a-40ba-a43e-16e56979608a"
      },
      "source": [
        "print(l1)"
      ],
      "execution_count": 16,
      "outputs": [
        {
          "output_type": "error",
          "ename": "NameError",
          "evalue": "ignored",
          "traceback": [
            "\u001b[0;31m---------------------------------------------------------------------------\u001b[0m",
            "\u001b[0;31mNameError\u001b[0m                                 Traceback (most recent call last)",
            "\u001b[0;32m<ipython-input-16-9957399d2fc4>\u001b[0m in \u001b[0;36m<module>\u001b[0;34m()\u001b[0m\n\u001b[0;32m----> 1\u001b[0;31m \u001b[0mprint\u001b[0m\u001b[0;34m(\u001b[0m\u001b[0ml1\u001b[0m\u001b[0;34m)\u001b[0m\u001b[0;34m\u001b[0m\u001b[0;34m\u001b[0m\u001b[0m\n\u001b[0m",
            "\u001b[0;31mNameError\u001b[0m: name 'l1' is not defined"
          ]
        }
      ]
    },
    {
      "cell_type": "code",
      "metadata": {
        "id": "6GqeZMgVpt3A",
        "colab": {
          "base_uri": "https://localhost:8080/"
        },
        "outputId": "d86cafbc-3899-4c0c-b9a6-9b0723a8c4e7"
      },
      "source": [
        "for item in l2_2:\n",
        "  print(item)"
      ],
      "execution_count": 17,
      "outputs": [
        {
          "output_type": "stream",
          "name": "stdout",
          "text": [
            "Xenopus laevis\n",
            "Ailuropoda melanoleuca\n",
            "Xenopus laevis\n",
            "Ailuropoda melanoleuca\n"
          ]
        }
      ]
    },
    {
      "cell_type": "markdown",
      "metadata": {
        "id": "Spv86wNVLwTr"
      },
      "source": [
        "## Dicionários"
      ]
    },
    {
      "cell_type": "code",
      "metadata": {
        "id": "Q4A9zcJQqOLl"
      },
      "source": [
        "coleta = {'Aedes aegypt': 32, 'Aedes albopictus': 22, 'Anopheles darlingi': 14}"
      ],
      "execution_count": 18,
      "outputs": []
    },
    {
      "cell_type": "code",
      "metadata": {
        "id": "H0TG_BU-qqYB",
        "colab": {
          "base_uri": "https://localhost:8080/"
        },
        "outputId": "9d38dff5-b0df-4ebe-9303-be3c3529eea8"
      },
      "source": [
        "coleta['Aedes aegypt']"
      ],
      "execution_count": 19,
      "outputs": [
        {
          "output_type": "execute_result",
          "data": {
            "text/plain": [
              "32"
            ]
          },
          "metadata": {},
          "execution_count": 19
        }
      ]
    },
    {
      "cell_type": "code",
      "metadata": {
        "id": "G0Ik3zllq03-"
      },
      "source": [
        "coleta['Rhodnius montenegrensis'] = 11"
      ],
      "execution_count": 20,
      "outputs": []
    },
    {
      "cell_type": "code",
      "metadata": {
        "id": "LShnTPgOrBIP",
        "colab": {
          "base_uri": "https://localhost:8080/"
        },
        "outputId": "111700c6-a609-4ce9-e651-3c488fdbe300"
      },
      "source": [
        "print(coleta)"
      ],
      "execution_count": 21,
      "outputs": [
        {
          "output_type": "stream",
          "name": "stdout",
          "text": [
            "{'Aedes aegypt': 32, 'Aedes albopictus': 22, 'Anopheles darlingi': 14, 'Rhodnius montenegrensis': 11}\n"
          ]
        }
      ]
    },
    {
      "cell_type": "code",
      "metadata": {
        "id": "3zyhSKk4rFxe",
        "colab": {
          "base_uri": "https://localhost:8080/"
        },
        "outputId": "6595b921-df06-40fa-b208-1537c34f2deb"
      },
      "source": [
        "del(coleta)['Aedes albopictus']\n",
        "print(coleta)"
      ],
      "execution_count": 22,
      "outputs": [
        {
          "output_type": "stream",
          "name": "stdout",
          "text": [
            "{'Aedes aegypt': 32, 'Anopheles darlingi': 14, 'Rhodnius montenegrensis': 11}\n"
          ]
        }
      ]
    },
    {
      "cell_type": "code",
      "metadata": {
        "id": "aQf7FunQrPBl",
        "colab": {
          "base_uri": "https://localhost:8080/"
        },
        "outputId": "c7789010-921f-4aee-c958-3ba89ffb9b69"
      },
      "source": [
        "coleta.items()"
      ],
      "execution_count": 23,
      "outputs": [
        {
          "output_type": "execute_result",
          "data": {
            "text/plain": [
              "dict_items([('Aedes aegypt', 32), ('Anopheles darlingi', 14), ('Rhodnius montenegrensis', 11)])"
            ]
          },
          "metadata": {},
          "execution_count": 23
        }
      ]
    },
    {
      "cell_type": "code",
      "metadata": {
        "id": "rBbmf65jrVf6",
        "colab": {
          "base_uri": "https://localhost:8080/"
        },
        "outputId": "5f3332cd-1b7f-49f2-b80c-01c58748ea3a"
      },
      "source": [
        "coleta.keys()"
      ],
      "execution_count": 24,
      "outputs": [
        {
          "output_type": "execute_result",
          "data": {
            "text/plain": [
              "dict_keys(['Aedes aegypt', 'Anopheles darlingi', 'Rhodnius montenegrensis'])"
            ]
          },
          "metadata": {},
          "execution_count": 24
        }
      ]
    },
    {
      "cell_type": "code",
      "metadata": {
        "id": "49PWs_oJrbHg",
        "colab": {
          "base_uri": "https://localhost:8080/"
        },
        "outputId": "a174e74a-22e1-43e8-8302-1dcc535c395d"
      },
      "source": [
        "coleta.values()"
      ],
      "execution_count": 25,
      "outputs": [
        {
          "output_type": "execute_result",
          "data": {
            "text/plain": [
              "dict_values([32, 14, 11])"
            ]
          },
          "metadata": {},
          "execution_count": 25
        }
      ]
    },
    {
      "cell_type": "code",
      "metadata": {
        "id": "1XQe0WHGrgoC",
        "colab": {
          "base_uri": "https://localhost:8080/"
        },
        "outputId": "1dbc81c4-2403-481b-c260-2ac63f6d2da8"
      },
      "source": [
        "coleta2 = {'Anopheles gambiae': 13, 'Anopheles deaneorum': 14}\n",
        "print(coleta2)"
      ],
      "execution_count": 26,
      "outputs": [
        {
          "output_type": "stream",
          "name": "stdout",
          "text": [
            "{'Anopheles gambiae': 13, 'Anopheles deaneorum': 14}\n"
          ]
        }
      ]
    },
    {
      "cell_type": "code",
      "metadata": {
        "id": "ZH7Mfel7ruCP",
        "colab": {
          "base_uri": "https://localhost:8080/"
        },
        "outputId": "4133ed75-8931-4f0e-e246-ea96430977bf"
      },
      "source": [
        "coleta.update(coleta2)\n",
        "print(coleta)"
      ],
      "execution_count": 27,
      "outputs": [
        {
          "output_type": "stream",
          "name": "stdout",
          "text": [
            "{'Aedes aegypt': 32, 'Anopheles darlingi': 14, 'Rhodnius montenegrensis': 11, 'Anopheles gambiae': 13, 'Anopheles deaneorum': 14}\n"
          ]
        }
      ]
    },
    {
      "cell_type": "code",
      "metadata": {
        "id": "oeJdD_--r1sc",
        "colab": {
          "base_uri": "https://localhost:8080/"
        },
        "outputId": "aeced38b-6070-4a83-c75c-fdc09ecfe579"
      },
      "source": [
        "coleta.items()"
      ],
      "execution_count": 28,
      "outputs": [
        {
          "output_type": "execute_result",
          "data": {
            "text/plain": [
              "dict_items([('Aedes aegypt', 32), ('Anopheles darlingi', 14), ('Rhodnius montenegrensis', 11), ('Anopheles gambiae', 13), ('Anopheles deaneorum', 14)])"
            ]
          },
          "metadata": {},
          "execution_count": 28
        }
      ]
    },
    {
      "cell_type": "code",
      "metadata": {
        "id": "JheAqSC7r5YB",
        "colab": {
          "base_uri": "https://localhost:8080/"
        },
        "outputId": "9d560146-2ed9-4a1e-b66f-b1e16709d259"
      },
      "source": [
        "for especie, num_especimes in coleta.items():\n",
        "  print(f'Espécie: {especie}, número de espécimes coletados: {num_especimes}')"
      ],
      "execution_count": 29,
      "outputs": [
        {
          "output_type": "stream",
          "name": "stdout",
          "text": [
            "Espécie: Aedes aegypt, número de espécimes coletados: 32\n",
            "Espécie: Anopheles darlingi, número de espécimes coletados: 14\n",
            "Espécie: Rhodnius montenegrensis, número de espécimes coletados: 11\n",
            "Espécie: Anopheles gambiae, número de espécimes coletados: 13\n",
            "Espécie: Anopheles deaneorum, número de espécimes coletados: 14\n"
          ]
        }
      ]
    },
    {
      "cell_type": "markdown",
      "metadata": {
        "id": "u-3CMPGCMN_C"
      },
      "source": [
        "## Conjuntos (set)"
      ]
    },
    {
      "cell_type": "code",
      "metadata": {
        "id": "-g-6mwxHsW2L"
      },
      "source": [
        "biomeleculas = ('proteína', 'ácidos nucleicos', 'carboidrato', 'lipídeo',\n",
        "                'ácidos nucleicos', 'carboidrato', 'carboidrato', 'carboidrato')"
      ],
      "execution_count": 30,
      "outputs": []
    },
    {
      "cell_type": "code",
      "metadata": {
        "id": "GawdhDILsuDp",
        "colab": {
          "base_uri": "https://localhost:8080/"
        },
        "outputId": "4424fc3e-98b3-4432-ea6f-9a9f8b339c3c"
      },
      "source": [
        "print(biomeleculas)"
      ],
      "execution_count": 31,
      "outputs": [
        {
          "output_type": "stream",
          "name": "stdout",
          "text": [
            "('proteína', 'ácidos nucleicos', 'carboidrato', 'lipídeo', 'ácidos nucleicos', 'carboidrato', 'carboidrato', 'carboidrato')\n"
          ]
        }
      ]
    },
    {
      "cell_type": "code",
      "metadata": {
        "id": "wU8POR0WsxEK",
        "colab": {
          "base_uri": "https://localhost:8080/"
        },
        "outputId": "1c8031f8-a475-49eb-b23d-8e2a0c2d333c"
      },
      "source": [
        "print(set(biomeleculas))"
      ],
      "execution_count": 32,
      "outputs": [
        {
          "output_type": "stream",
          "name": "stdout",
          "text": [
            "{'carboidrato', 'lipídeo', 'proteína', 'ácidos nucleicos'}\n"
          ]
        }
      ]
    },
    {
      "cell_type": "code",
      "metadata": {
        "id": "ap6l5QldtB1l"
      },
      "source": [
        "c1 = {1,2,3,4,5}\n",
        "c2 = {3,4,5,6,7}\n",
        "c3 = c1.intersection(c2)"
      ],
      "execution_count": 33,
      "outputs": []
    },
    {
      "cell_type": "code",
      "metadata": {
        "id": "JT7ip_ZntTHv",
        "colab": {
          "base_uri": "https://localhost:8080/"
        },
        "outputId": "2bfe30ba-69e9-4275-9ef3-84bfb6e3c8a6"
      },
      "source": [
        "print(c3)"
      ],
      "execution_count": 34,
      "outputs": [
        {
          "output_type": "stream",
          "name": "stdout",
          "text": [
            "{3, 4, 5}\n"
          ]
        }
      ]
    },
    {
      "cell_type": "code",
      "metadata": {
        "id": "eOycG2G9tdR9",
        "colab": {
          "base_uri": "https://localhost:8080/"
        },
        "outputId": "0b6f80c6-2346-4577-e834-d1a158dc688b"
      },
      "source": [
        "c1.difference(c2)"
      ],
      "execution_count": 35,
      "outputs": [
        {
          "output_type": "execute_result",
          "data": {
            "text/plain": [
              "{1, 2}"
            ]
          },
          "metadata": {},
          "execution_count": 35
        }
      ]
    },
    {
      "cell_type": "code",
      "metadata": {
        "id": "inpYEBhHtl51",
        "colab": {
          "base_uri": "https://localhost:8080/"
        },
        "outputId": "1a2c3778-e145-4b8b-8d81-4e3e0cac4a4a"
      },
      "source": [
        "c2.difference(c1)"
      ],
      "execution_count": 36,
      "outputs": [
        {
          "output_type": "execute_result",
          "data": {
            "text/plain": [
              "{6, 7}"
            ]
          },
          "metadata": {},
          "execution_count": 36
        }
      ]
    }
  ]
}
{
  "nbformat": 4,
  "nbformat_minor": 0,
  "metadata": {
    "colab": {
      "name": "Módulos personalizados.ipynb",
      "provenance": [],
      "collapsed_sections": [],
      "include_colab_link": true
    },
    "kernelspec": {
      "name": "python3",
      "display_name": "Python 3"
    }
  },
  "cells": [
    {
      "cell_type": "markdown",
      "metadata": {
        "id": "view-in-github",
        "colab_type": "text"
      },
      "source": [
        "<a href=\"https://colab.research.google.com/github/DataScience-2021/Guia-Completo-IA-01-Python/blob/main/M%C3%B3dulos_personalizados.ipynb\" target=\"_parent\"><img src=\"https://colab.research.google.com/assets/colab-badge.svg\" alt=\"Open In Colab\"/></a>"
      ]
    },
    {
      "cell_type": "markdown",
      "metadata": {
        "id": "SWL14HWv5QIB"
      },
      "source": [
        "# Módulos personalizados"
      ]
    },
    {
      "cell_type": "code",
      "metadata": {
        "id": "JHIvjhE8FGfe"
      },
      "source": [
        "import utilitarios4 as ut"
      ],
      "execution_count": 35,
      "outputs": []
    },
    {
      "cell_type": "code",
      "metadata": {
        "id": "gJafHjJnFPj9",
        "colab": {
          "base_uri": "https://localhost:8080/"
        },
        "outputId": "f6696e58-2e0a-4344-d9d0-688956ddf9a9"
      },
      "source": [
        "ut.soma(1, 2, 3)"
      ],
      "execution_count": 36,
      "outputs": [
        {
          "output_type": "execute_result",
          "data": {
            "text/plain": [
              "6"
            ]
          },
          "metadata": {},
          "execution_count": 36
        }
      ]
    },
    {
      "cell_type": "code",
      "metadata": {
        "id": "diGfxcKBFUim",
        "colab": {
          "base_uri": "https://localhost:8080/"
        },
        "outputId": "7d1ff122-d10e-4768-c4a9-5a3ec46dd589"
      },
      "source": [
        "ut.mult(3, 2, 2)"
      ],
      "execution_count": 37,
      "outputs": [
        {
          "output_type": "execute_result",
          "data": {
            "text/plain": [
              "12"
            ]
          },
          "metadata": {},
          "execution_count": 37
        }
      ]
    },
    {
      "cell_type": "code",
      "metadata": {
        "id": "DV4UzPRQFYlM",
        "colab": {
          "base_uri": "https://localhost:8080/"
        },
        "outputId": "2b7153a1-ece9-48f9-e723-7acadbe31186"
      },
      "source": [
        "ut.isPalindromo('abc')"
      ],
      "execution_count": 38,
      "outputs": [
        {
          "output_type": "execute_result",
          "data": {
            "text/plain": [
              "False"
            ]
          },
          "metadata": {},
          "execution_count": 38
        }
      ]
    },
    {
      "cell_type": "code",
      "metadata": {
        "id": "UIU7SljeFcax",
        "colab": {
          "base_uri": "https://localhost:8080/"
        },
        "outputId": "7929ec3c-81fa-4c0d-a462-f2312e913ce3"
      },
      "source": [
        "ut.isPalindromo('abccba')"
      ],
      "execution_count": 39,
      "outputs": [
        {
          "output_type": "execute_result",
          "data": {
            "text/plain": [
              "True"
            ]
          },
          "metadata": {},
          "execution_count": 39
        }
      ]
    },
    {
      "cell_type": "code",
      "metadata": {
        "id": "PF6_f3ctFltr"
      },
      "source": [
        "t = 'abccba'"
      ],
      "execution_count": 40,
      "outputs": []
    },
    {
      "cell_type": "code",
      "metadata": {
        "id": "GvgulgBGFkVf",
        "colab": {
          "base_uri": "https://localhost:8080/",
          "height": 35
        },
        "outputId": "a261f5aa-ba93-4373-87a7-ceda4bed46d6"
      },
      "source": [
        "t[::-1]"
      ],
      "execution_count": 41,
      "outputs": [
        {
          "output_type": "execute_result",
          "data": {
            "application/vnd.google.colaboratory.intrinsic+json": {
              "type": "string"
            },
            "text/plain": [
              "'abccba'"
            ]
          },
          "metadata": {},
          "execution_count": 41
        }
      ]
    },
    {
      "cell_type": "code",
      "metadata": {
        "id": "AzXe3Y9QFyLt",
        "colab": {
          "base_uri": "https://localhost:8080/",
          "height": 35
        },
        "outputId": "ded6e581-467f-4c6a-9554-74c060368faf"
      },
      "source": [
        "t1 = 'abc'\n",
        "t1[::-1]"
      ],
      "execution_count": 42,
      "outputs": [
        {
          "output_type": "execute_result",
          "data": {
            "application/vnd.google.colaboratory.intrinsic+json": {
              "type": "string"
            },
            "text/plain": [
              "'cba'"
            ]
          },
          "metadata": {},
          "execution_count": 42
        }
      ]
    },
    {
      "cell_type": "code",
      "metadata": {
        "id": "EruV4d8gGBMZ",
        "colab": {
          "base_uri": "https://localhost:8080/"
        },
        "outputId": "323ee052-4227-4ae4-95e9-665a1b4cc7ad"
      },
      "source": [
        "ut.divisao(10,2)"
      ],
      "execution_count": 43,
      "outputs": [
        {
          "output_type": "execute_result",
          "data": {
            "text/plain": [
              "5.0"
            ]
          },
          "metadata": {},
          "execution_count": 43
        }
      ]
    }
  ]
}
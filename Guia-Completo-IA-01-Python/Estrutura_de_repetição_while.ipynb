{
  "nbformat": 4,
  "nbformat_minor": 0,
  "metadata": {
    "colab": {
      "name": "Estrutura de repetição - while.ipynb",
      "provenance": [],
      "collapsed_sections": [],
      "include_colab_link": true
    },
    "kernelspec": {
      "name": "python3",
      "display_name": "Python 3"
    }
  },
  "cells": [
    {
      "cell_type": "markdown",
      "metadata": {
        "id": "view-in-github",
        "colab_type": "text"
      },
      "source": [
        "<a href=\"https://colab.research.google.com/github/DataScience-2021/-Programacao-Python-Guia-Completo-IA/blob/main/Estrutura_de_repeti%C3%A7%C3%A3o_while.ipynb\" target=\"_parent\"><img src=\"https://colab.research.google.com/assets/colab-badge.svg\" alt=\"Open In Colab\"/></a>"
      ]
    },
    {
      "cell_type": "markdown",
      "metadata": {
        "id": "5hg58pyZe2oS"
      },
      "source": [
        "# Estruturas de repetição - while"
      ]
    },
    {
      "cell_type": "code",
      "metadata": {
        "id": "97oTadu-WF4t",
        "colab": {
          "base_uri": "https://localhost:8080/"
        },
        "outputId": "bc919760-161f-4be4-c7dc-38d842a1b734"
      },
      "source": [
        "numero = 1\n",
        "while numero < 22:\n",
        "  print(numero)\n",
        "  numero += 1\n",
        "print('---')"
      ],
      "execution_count": 2,
      "outputs": [
        {
          "output_type": "stream",
          "name": "stdout",
          "text": [
            "1\n",
            "2\n",
            "3\n",
            "4\n",
            "5\n",
            "6\n",
            "7\n",
            "8\n",
            "9\n",
            "10\n",
            "11\n",
            "12\n",
            "13\n",
            "14\n",
            "15\n",
            "16\n",
            "17\n",
            "18\n",
            "19\n",
            "20\n",
            "21\n",
            "---\n"
          ]
        }
      ]
    },
    {
      "cell_type": "code",
      "metadata": {
        "id": "aXkrSeO2Wvms",
        "colab": {
          "base_uri": "https://localhost:8080/"
        },
        "outputId": "83b838e9-23a0-455d-9206-6f662173377a"
      },
      "source": [
        "numero = 51\n",
        "while numero > 0:\n",
        "  print(numero)\n",
        "  numero -= 1"
      ],
      "execution_count": 3,
      "outputs": [
        {
          "output_type": "stream",
          "name": "stdout",
          "text": [
            "51\n",
            "50\n",
            "49\n",
            "48\n",
            "47\n",
            "46\n",
            "45\n",
            "44\n",
            "43\n",
            "42\n",
            "41\n",
            "40\n",
            "39\n",
            "38\n",
            "37\n",
            "36\n",
            "35\n",
            "34\n",
            "33\n",
            "32\n",
            "31\n",
            "30\n",
            "29\n",
            "28\n",
            "27\n",
            "26\n",
            "25\n",
            "24\n",
            "23\n",
            "22\n",
            "21\n",
            "20\n",
            "19\n",
            "18\n",
            "17\n",
            "16\n",
            "15\n",
            "14\n",
            "13\n",
            "12\n",
            "11\n",
            "10\n",
            "9\n",
            "8\n",
            "7\n",
            "6\n",
            "5\n",
            "4\n",
            "3\n",
            "2\n",
            "1\n"
          ]
        }
      ]
    },
    {
      "cell_type": "code",
      "metadata": {
        "id": "-nIW4iunW6QQ",
        "colab": {
          "base_uri": "https://localhost:8080/"
        },
        "outputId": "a6e73d81-ff61-4f97-9eb0-3769fc212791"
      },
      "source": [
        "1 + 2 + 3 + 4 + 5"
      ],
      "execution_count": 4,
      "outputs": [
        {
          "output_type": "execute_result",
          "data": {
            "text/plain": [
              "15"
            ]
          },
          "metadata": {},
          "execution_count": 4
        }
      ]
    },
    {
      "cell_type": "code",
      "metadata": {
        "id": "uCoU9t1wW9fG",
        "colab": {
          "base_uri": "https://localhost:8080/"
        },
        "outputId": "8fd813b9-9d4d-4a77-c9b8-f4bd16ec30b2"
      },
      "source": [
        "soma = 0\n",
        "numero = 1\n",
        "while numero < 6:\n",
        "  soma += numero\n",
        "  numero += 1\n",
        "print(soma)"
      ],
      "execution_count": 5,
      "outputs": [
        {
          "output_type": "stream",
          "name": "stdout",
          "text": [
            "15\n"
          ]
        }
      ]
    },
    {
      "cell_type": "code",
      "metadata": {
        "id": "b7oXoYxXXNH6",
        "colab": {
          "base_uri": "https://localhost:8080/"
        },
        "outputId": "172d0990-b2ac-42f5-e4de-f3e4b17a85ea"
      },
      "source": [
        "numero = 12\n",
        "while numero < 1 or numero > 10:\n",
        "  numero = int(input('Digite um número de 1 a 10: '))"
      ],
      "execution_count": 8,
      "outputs": [
        {
          "name": "stdout",
          "output_type": "stream",
          "text": [
            "Digite um número de 1 a 10: 100\n",
            "Digite um número de 1 a 10: 666\n",
            "Digite um número de 1 a 10: 999\n",
            "Digite um número de 1 a 10: 9\n"
          ]
        }
      ]
    }
  ]
}
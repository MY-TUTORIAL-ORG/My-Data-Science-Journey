{
  "nbformat": 4,
  "nbformat_minor": 0,
  "metadata": {
    "colab": {
      "name": "Orientação a Objetos.ipynb",
      "provenance": [],
      "collapsed_sections": [],
      "include_colab_link": true
    },
    "kernelspec": {
      "name": "python3",
      "display_name": "Python 3"
    }
  },
  "cells": [
    {
      "cell_type": "markdown",
      "metadata": {
        "id": "view-in-github",
        "colab_type": "text"
      },
      "source": [
        "<a href=\"https://colab.research.google.com/github/DataScience-2021/Guia-Completo-IA-01-Python/blob/main/Orienta%C3%A7%C3%A3o_a_Objetos_Triangulo.ipynb\" target=\"_parent\"><img src=\"https://colab.research.google.com/assets/colab-badge.svg\" alt=\"Open In Colab\"/></a>"
      ]
    },
    {
      "cell_type": "markdown",
      "metadata": {
        "id": "QlFTfgKfdo2h"
      },
      "source": [
        "# Orientação a Objetos"
      ]
    },
    {
      "cell_type": "code",
      "metadata": {
        "id": "6F0oISzgwJZx"
      },
      "source": [
        "class Triangulo:\n",
        "  def __init__(self, lado1, lado2, lado3, base, altura):\n",
        "    self.lado1 = lado1\n",
        "    self.lado2 = lado2\n",
        "    self.lado3 = lado3\n",
        "    self.base = base\n",
        "    self.altura = altura\n",
        "  \n",
        "  def area(self):\n",
        "    return (self.base * self.altura) / 2\n",
        "\n",
        "  def tipo(self):\n",
        "    if self.lado1 > self.lado2 + self.lado3:\n",
        "      return 'não é um triângulo'\n",
        "    elif self.lado1 == self.lado2 or self.lado1 == self.lado3 or self.lado1 == self.lado2:\n",
        "      return 'triângulo isósceles'\n",
        "    else:\n",
        "      return 'outro tipo de triângulo'"
      ],
      "execution_count": 1,
      "outputs": []
    },
    {
      "cell_type": "code",
      "metadata": {
        "id": "SDq4Y5ZDwx8c"
      },
      "source": [
        "t1 = Triangulo(5, 1, 3, 4, 3)"
      ],
      "execution_count": 2,
      "outputs": []
    },
    {
      "cell_type": "code",
      "metadata": {
        "id": "hq763UNxxApW",
        "colab": {
          "base_uri": "https://localhost:8080/"
        },
        "outputId": "d9791f60-b1b1-43d2-87bd-ff764df961ed"
      },
      "source": [
        "print(t1.lado1, t1.lado2, t1.lado3, t1.base, t1.altura)"
      ],
      "execution_count": 3,
      "outputs": [
        {
          "output_type": "stream",
          "name": "stdout",
          "text": [
            "5 1 3 4 3\n"
          ]
        }
      ]
    },
    {
      "cell_type": "code",
      "metadata": {
        "id": "OzOP8kKPyKus",
        "colab": {
          "base_uri": "https://localhost:8080/"
        },
        "outputId": "49a151b1-ed97-48d4-9072-5abba18c97f7"
      },
      "source": [
        "t1.area()"
      ],
      "execution_count": 4,
      "outputs": [
        {
          "output_type": "execute_result",
          "data": {
            "text/plain": [
              "6.0"
            ]
          },
          "metadata": {},
          "execution_count": 4
        }
      ]
    },
    {
      "cell_type": "code",
      "metadata": {
        "id": "YcGAuLMEzCx-",
        "colab": {
          "base_uri": "https://localhost:8080/",
          "height": 35
        },
        "outputId": "6a206c50-2158-4177-a152-b8ee33599b28"
      },
      "source": [
        "t1.tipo()"
      ],
      "execution_count": 5,
      "outputs": [
        {
          "output_type": "execute_result",
          "data": {
            "application/vnd.google.colaboratory.intrinsic+json": {
              "type": "string"
            },
            "text/plain": [
              "'não é um triângulo'"
            ]
          },
          "metadata": {},
          "execution_count": 5
        }
      ]
    },
    {
      "cell_type": "code",
      "metadata": {
        "id": "3WRbsJ0sxJy-",
        "colab": {
          "base_uri": "https://localhost:8080/"
        },
        "outputId": "6479c598-ab97-4e7b-91db-7f82335306f0"
      },
      "source": [
        "t2 = Triangulo(8, 8, 8, 16, 9)\n",
        "print(t2.lado1, t2.lado2, t2.lado3, t2.base, t2.altura)"
      ],
      "execution_count": 6,
      "outputs": [
        {
          "output_type": "stream",
          "name": "stdout",
          "text": [
            "8 8 8 16 9\n"
          ]
        }
      ]
    },
    {
      "cell_type": "code",
      "metadata": {
        "id": "iBlImwTXyWry",
        "colab": {
          "base_uri": "https://localhost:8080/"
        },
        "outputId": "94b7039b-ea4f-44ce-d880-b63e7c3b4eaa"
      },
      "source": [
        "t2.area()"
      ],
      "execution_count": 7,
      "outputs": [
        {
          "output_type": "execute_result",
          "data": {
            "text/plain": [
              "72.0"
            ]
          },
          "metadata": {},
          "execution_count": 7
        }
      ]
    },
    {
      "cell_type": "code",
      "metadata": {
        "id": "K7aNze6dzG-8",
        "colab": {
          "base_uri": "https://localhost:8080/",
          "height": 35
        },
        "outputId": "84033f43-34de-4578-c22d-0a3ebd547361"
      },
      "source": [
        "t2.tipo()"
      ],
      "execution_count": 8,
      "outputs": [
        {
          "output_type": "execute_result",
          "data": {
            "application/vnd.google.colaboratory.intrinsic+json": {
              "type": "string"
            },
            "text/plain": [
              "'triângulo isósceles'"
            ]
          },
          "metadata": {},
          "execution_count": 8
        }
      ]
    }
  ]
}
{
  "nbformat": 4,
  "nbformat_minor": 0,
  "metadata": {
    "colab": {
      "name": "EXERCICIOS_Tratamento_Erros.ipynb",
      "provenance": [],
      "authorship_tag": "ABX9TyPxRspN3y/oaC+719S903cC",
      "include_colab_link": true
    },
    "kernelspec": {
      "name": "python3",
      "display_name": "Python 3"
    },
    "language_info": {
      "name": "python"
    }
  },
  "cells": [
    {
      "cell_type": "markdown",
      "metadata": {
        "id": "view-in-github",
        "colab_type": "text"
      },
      "source": [
        "<a href=\"https://colab.research.google.com/github/DataScience-2021/Guia-Completo-IA-01-Python/blob/main/EXERCICIOS_Tratamento_Erros.ipynb\" target=\"_parent\"><img src=\"https://colab.research.google.com/assets/colab-badge.svg\" alt=\"Open In Colab\"/></a>"
      ]
    },
    {
      "cell_type": "markdown",
      "metadata": {
        "id": "ayiVthrswou0"
      },
      "source": [
        "# Exercício 01\n"
      ]
    },
    {
      "cell_type": "markdown",
      "metadata": {
        "id": "BcxLRUIAw4BD"
      },
      "source": [
        "Crie uma lista vazia e faça a leitura de dois valores do tipo float, colocando cada um dos valores nas primeiras posições da lista (o valor1 ficará na posição 0 da lista e o valor2 ficará na posição 1 da lista). Faça a divisão dos dois valores e trate as seguintes exceções:\n",
        "- ValueError: se o usuário digitar um caracter\n",
        "- ZeroDivisionError: se o usuário digitar zero e ocorrer erro na divisão\n",
        "- IndexError: caso a divisão seja feita levando em consideração posições que não existem na lista\n",
        "- KeyboardInterrupt: caso o usuário interrompa a execução"
      ]
    },
    {
      "cell_type": "code",
      "metadata": {
        "id": "y3f3SnFXxB7K",
        "colab": {
          "base_uri": "https://localhost:8080/"
        },
        "outputId": "6fa3a167-4e03-4520-dc58-2e8f0843f6e7"
      },
      "source": [
        "#valor1 = float(input('Entre com o valor 1 > '))\n",
        "#valor2 = float(input('Entre com o valor 2 > '))\n",
        "lista = []\n",
        "#lista[0] = valor1\n",
        "#lista[1] = valor2\n",
        "try:\n",
        " lista.append(float(input('Entre com o valor 1 >')))\n",
        " lista.append(float(input('Entre com o valor 2 >')))\n",
        " divisao = lista[0] / lista[1]\n",
        "except ValueError:\n",
        "  print('Erro ! Valor Inválido')\n",
        "except ZeroDivisionError:\n",
        "  print('Erro ! Divisão por Zero')\n",
        "except IndexError:\n",
        "  print('Erro ! Índice Errado')\n",
        "else:\n",
        "  print(f'O valor da divisão é {divisao}')\n"
      ],
      "execution_count": 11,
      "outputs": [
        {
          "output_type": "stream",
          "name": "stdout",
          "text": [
            "Entre com o valor 1 >120\n",
            "Entre com o valor 2 >4\n",
            "Erro ! Índice Errado\n"
          ]
        }
      ]
    },
    {
      "cell_type": "code",
      "metadata": {
        "colab": {
          "base_uri": "https://localhost:8080/"
        },
        "id": "mgHACt-38mAD",
        "outputId": "6e10dfac-e37f-4b12-8462-8b0f7d285f81"
      },
      "source": [
        "lista = []\n",
        "try:\n",
        "  lista.append(float(input('Digite o primeiro valor: ')))\n",
        "  lista.append(float(input('Digite o segundo valor: ')))\n",
        "  divisao = lista[0] / lista[1]\n",
        "except ValueError:\n",
        "  print('Erro! Valor inválido')\n",
        "except ZeroDivisionError:\n",
        "  print('Erro! Divisão por zero')\n",
        "except IndexError:\n",
        "  print('Erro! Índice inválido')\n",
        "except KeyboardInterrupt:\n",
        "  print('Usuário interrompeu a execução')\n",
        "else:\n",
        "  print(f'A divisão é {divisao}')"
      ],
      "execution_count": 3,
      "outputs": [
        {
          "output_type": "stream",
          "name": "stdout",
          "text": [
            "Digite o primeiro valor: 120\n",
            "Digite o segundo valor: 6\n",
            "A divisão é 20.0\n"
          ]
        }
      ]
    },
    {
      "cell_type": "markdown",
      "metadata": {
        "id": "Lpa2bbMew5Xh"
      },
      "source": [
        "# Exercício 02"
      ]
    },
    {
      "cell_type": "markdown",
      "metadata": {
        "id": "t7bF2dAnw9HS"
      },
      "source": [
        "Mostre uma mensagem personalizada na ocorrência de cada um desses erros"
      ]
    },
    {
      "cell_type": "code",
      "metadata": {
        "id": "XP8twPUMxC65",
        "colab": {
          "base_uri": "https://localhost:8080/"
        },
        "outputId": "c8a468a3-0e7f-41f0-c881-521957805ef4"
      },
      "source": [
        "#valor1 = float(input('Entre com o valor 1 > '))\n",
        "#valor2 = float(input('Entre com o valor 2 > '))\n",
        "lista = []\n",
        "#lista[0] = valor1\n",
        "#lista[1] = valor2\n",
        "try:\n",
        " lista.append(float(input('Entre com o valor 1 >')))\n",
        " lista.append(float(input('Entre com o valor 2 >')))\n",
        " divisao = lista[0] / lista[1]\n",
        "except ValueError:\n",
        "  print('Erro ! Valor Inválido')\n",
        "except ZeroDivisionError:\n",
        "  print('Erro ! Divisão por Zero')\n",
        "except IndexError:\n",
        "  print('Erro ! Índice Errado')\n",
        "except KeyboardInterrupt:\n",
        "  print('Usuário interrompeu a execução')\n",
        "else:\n",
        "  print(f'O valor da divisão é {divisao}')\n"
      ],
      "execution_count": 14,
      "outputs": [
        {
          "output_type": "stream",
          "name": "stdout",
          "text": [
            "Usuário interrompeu a execução\n"
          ]
        }
      ]
    }
  ]
}
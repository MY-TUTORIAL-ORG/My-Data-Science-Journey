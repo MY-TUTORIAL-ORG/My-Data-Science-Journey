{
  "nbformat": 4,
  "nbformat_minor": 0,
  "metadata": {
    "colab": {
      "name": "Operadores lógicos e relacionais.ipynb",
      "provenance": [],
      "collapsed_sections": [],
      "include_colab_link": true
    },
    "kernelspec": {
      "name": "python3",
      "display_name": "Python 3"
    }
  },
  "cells": [
    {
      "cell_type": "markdown",
      "metadata": {
        "id": "view-in-github",
        "colab_type": "text"
      },
      "source": [
        "<a href=\"https://colab.research.google.com/github/DataScience-2021/-Programacao-Python-Guia-Completo-IA/blob/main/Operadores_l%C3%B3gicos_e_relacionais.ipynb\" target=\"_parent\"><img src=\"https://colab.research.google.com/assets/colab-badge.svg\" alt=\"Open In Colab\"/></a>"
      ]
    },
    {
      "cell_type": "markdown",
      "metadata": {
        "id": "GY09z1-ia5g8"
      },
      "source": [
        "# Operadores lógicos e relacionais\n",
        "\n",
        "\n"
      ]
    },
    {
      "cell_type": "markdown",
      "metadata": {
        "id": "HI4JJHvBa8vR"
      },
      "source": [
        "## Operadores lógicos"
      ]
    },
    {
      "cell_type": "code",
      "metadata": {
        "id": "rzfRhacJ5SKw"
      },
      "source": [
        "a = True\n",
        "b = False"
      ],
      "execution_count": 1,
      "outputs": []
    },
    {
      "cell_type": "code",
      "metadata": {
        "id": "4X7HAtz65dax",
        "colab": {
          "base_uri": "https://localhost:8080/"
        },
        "outputId": "4763d5f0-7255-4e7b-e09f-1a932c8a2607"
      },
      "source": [
        "print(a, b)"
      ],
      "execution_count": 2,
      "outputs": [
        {
          "output_type": "stream",
          "name": "stdout",
          "text": [
            "True False\n"
          ]
        }
      ]
    },
    {
      "cell_type": "code",
      "metadata": {
        "id": "etBezuil5j5w",
        "colab": {
          "base_uri": "https://localhost:8080/"
        },
        "outputId": "4c637b17-9b65-4205-c119-e550dc249e90"
      },
      "source": [
        "a and b"
      ],
      "execution_count": 3,
      "outputs": [
        {
          "output_type": "execute_result",
          "data": {
            "text/plain": [
              "False"
            ]
          },
          "metadata": {},
          "execution_count": 3
        }
      ]
    },
    {
      "cell_type": "code",
      "metadata": {
        "id": "UtWISDG45rdf",
        "colab": {
          "base_uri": "https://localhost:8080/"
        },
        "outputId": "456551d9-7cb8-4162-d817-f54f876f2c7b"
      },
      "source": [
        "a & b"
      ],
      "execution_count": 4,
      "outputs": [
        {
          "output_type": "execute_result",
          "data": {
            "text/plain": [
              "False"
            ]
          },
          "metadata": {},
          "execution_count": 4
        }
      ]
    },
    {
      "cell_type": "code",
      "metadata": {
        "id": "V5z_jiGH5zpJ",
        "colab": {
          "base_uri": "https://localhost:8080/"
        },
        "outputId": "e6767e85-7558-41da-d4d6-c035e8b15b30"
      },
      "source": [
        "c = a and b\n",
        "print(\"'A' e 'B' são iguais é\", c)"
      ],
      "execution_count": 6,
      "outputs": [
        {
          "output_type": "stream",
          "name": "stdout",
          "text": [
            "'A' e 'B' são iguais é False\n"
          ]
        }
      ]
    },
    {
      "cell_type": "code",
      "metadata": {
        "id": "pYv-F6Uo6Jik",
        "colab": {
          "base_uri": "https://localhost:8080/"
        },
        "outputId": "075e3859-5883-40d9-a15f-045e38ad64ee"
      },
      "source": [
        "a or b"
      ],
      "execution_count": 8,
      "outputs": [
        {
          "output_type": "execute_result",
          "data": {
            "text/plain": [
              "True"
            ]
          },
          "metadata": {},
          "execution_count": 8
        }
      ]
    },
    {
      "cell_type": "code",
      "metadata": {
        "id": "IX_vZaDm6Pwf",
        "colab": {
          "base_uri": "https://localhost:8080/"
        },
        "outputId": "21079cdb-88d9-47c0-af1d-8ae65644adbf"
      },
      "source": [
        "a | b"
      ],
      "execution_count": 10,
      "outputs": [
        {
          "output_type": "execute_result",
          "data": {
            "text/plain": [
              "True"
            ]
          },
          "metadata": {},
          "execution_count": 10
        }
      ]
    },
    {
      "cell_type": "code",
      "metadata": {
        "id": "TtqH9SuN6WYc",
        "colab": {
          "base_uri": "https://localhost:8080/"
        },
        "outputId": "e56d25e3-ade3-4565-f7f6-1f2c1a0b7fbc"
      },
      "source": [
        "d = a or b\n",
        "print(\"'A' ou 'B' é igual a\", d)"
      ],
      "execution_count": 12,
      "outputs": [
        {
          "output_type": "stream",
          "name": "stdout",
          "text": [
            "'A' ou 'B' é igual a True\n"
          ]
        }
      ]
    },
    {
      "cell_type": "code",
      "metadata": {
        "id": "pEfaRFzZ6fNZ",
        "colab": {
          "base_uri": "https://localhost:8080/"
        },
        "outputId": "23ab2205-a3e9-4bf0-daf9-384d4d0d168f"
      },
      "source": [
        "not a"
      ],
      "execution_count": 13,
      "outputs": [
        {
          "output_type": "execute_result",
          "data": {
            "text/plain": [
              "False"
            ]
          },
          "metadata": {},
          "execution_count": 13
        }
      ]
    },
    {
      "cell_type": "code",
      "metadata": {
        "id": "IIvESI1X6lrp",
        "colab": {
          "base_uri": "https://localhost:8080/"
        },
        "outputId": "e19edf68-f92b-4516-b3c7-57db78c3c202"
      },
      "source": [
        "not b"
      ],
      "execution_count": 14,
      "outputs": [
        {
          "output_type": "execute_result",
          "data": {
            "text/plain": [
              "True"
            ]
          },
          "metadata": {},
          "execution_count": 14
        }
      ]
    },
    {
      "cell_type": "markdown",
      "metadata": {
        "id": "dsJcxHQxcIdd"
      },
      "source": [
        "## Operadores relacionais"
      ]
    },
    {
      "cell_type": "code",
      "metadata": {
        "id": "hV8lQ68M6osG",
        "colab": {
          "base_uri": "https://localhost:8080/"
        },
        "outputId": "6c3d6c8b-6b1b-4250-c783-48679b0c7b3e"
      },
      "source": [
        "5 > 3"
      ],
      "execution_count": 15,
      "outputs": [
        {
          "output_type": "execute_result",
          "data": {
            "text/plain": [
              "True"
            ]
          },
          "metadata": {},
          "execution_count": 15
        }
      ]
    },
    {
      "cell_type": "code",
      "metadata": {
        "id": "bnrB8kMC6ttx",
        "colab": {
          "base_uri": "https://localhost:8080/"
        },
        "outputId": "ea60f495-b056-4917-dd83-c6353f1d921e"
      },
      "source": [
        "5 < 3"
      ],
      "execution_count": 16,
      "outputs": [
        {
          "output_type": "execute_result",
          "data": {
            "text/plain": [
              "False"
            ]
          },
          "metadata": {},
          "execution_count": 16
        }
      ]
    },
    {
      "cell_type": "code",
      "metadata": {
        "id": "TCupjJD86v6T",
        "colab": {
          "base_uri": "https://localhost:8080/"
        },
        "outputId": "b639c1d3-ffc9-4550-b2b4-e52d28d080b0"
      },
      "source": [
        "5 >= 5"
      ],
      "execution_count": 17,
      "outputs": [
        {
          "output_type": "execute_result",
          "data": {
            "text/plain": [
              "True"
            ]
          },
          "metadata": {},
          "execution_count": 17
        }
      ]
    },
    {
      "cell_type": "code",
      "metadata": {
        "id": "HgmwL04662Pp",
        "colab": {
          "base_uri": "https://localhost:8080/"
        },
        "outputId": "dfaaa378-542d-48e7-adbf-2e2472a24c8c"
      },
      "source": [
        "5 <= 3"
      ],
      "execution_count": 18,
      "outputs": [
        {
          "output_type": "execute_result",
          "data": {
            "text/plain": [
              "False"
            ]
          },
          "metadata": {},
          "execution_count": 18
        }
      ]
    },
    {
      "cell_type": "code",
      "metadata": {
        "id": "n5Tagg3c65wR",
        "colab": {
          "base_uri": "https://localhost:8080/"
        },
        "outputId": "a6959b0e-0550-4e34-969c-32d8d72d6f3e"
      },
      "source": [
        "5 == 3"
      ],
      "execution_count": 19,
      "outputs": [
        {
          "output_type": "execute_result",
          "data": {
            "text/plain": [
              "False"
            ]
          },
          "metadata": {},
          "execution_count": 19
        }
      ]
    },
    {
      "cell_type": "code",
      "metadata": {
        "id": "1fAPptVK7Bu_",
        "colab": {
          "base_uri": "https://localhost:8080/"
        },
        "outputId": "ef454c8f-0842-4e68-e7c2-2260b0aa4552"
      },
      "source": [
        "5 != 3"
      ],
      "execution_count": 20,
      "outputs": [
        {
          "output_type": "execute_result",
          "data": {
            "text/plain": [
              "True"
            ]
          },
          "metadata": {},
          "execution_count": 20
        }
      ]
    }
  ]
}
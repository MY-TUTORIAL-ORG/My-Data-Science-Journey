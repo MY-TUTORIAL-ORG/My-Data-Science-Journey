{
  "nbformat": 4,
  "nbformat_minor": 0,
  "metadata": {
    "colab": {
      "name": "Cópia de Vetor ordenado.ipynb",
      "provenance": [],
      "collapsed_sections": [],
      "include_colab_link": true
    },
    "kernelspec": {
      "name": "python3",
      "display_name": "Python 3"
    }
  },
  "cells": [
    {
      "cell_type": "markdown",
      "metadata": {
        "id": "view-in-github",
        "colab_type": "text"
      },
      "source": [
        "<a href=\"https://colab.research.google.com/github/viannaandreBR/My-Data-Science-Journey/blob/main/C%C3%B3pia_de_Vetor_ordenado.ipynb\" target=\"_parent\"><img src=\"https://colab.research.google.com/assets/colab-badge.svg\" alt=\"Open In Colab\"/></a>"
      ]
    },
    {
      "cell_type": "markdown",
      "metadata": {
        "id": "3L3hMZxPloS9"
      },
      "source": [
        "# Vetor ordenado"
      ]
    },
    {
      "cell_type": "code",
      "metadata": {
        "id": "ilKOzbksUosx"
      },
      "source": [
        "import numpy as np"
      ],
      "execution_count": 1,
      "outputs": []
    },
    {
      "cell_type": "code",
      "metadata": {
        "id": "EI9-ginDUr7z"
      },
      "source": [
        "class VetorOrdenado:\n",
        "  \n",
        "  def __init__(self, capacidade):\n",
        "    self.capacidade = capacidade\n",
        "    self.ultima_posicao = -1\n",
        "    self.valores = np.empty(self.capacidade, dtype=int)\n",
        "\n",
        "  # O(n)\n",
        "  def imprime(self):\n",
        "    if self.ultima_posicao == -1:\n",
        "      print('O vetor está vazio')\n",
        "    else:\n",
        "      for i in range(self.ultima_posicao + 1):\n",
        "        print(i, ' - ', self.valores[i])\n",
        "\n",
        "  # O(n)\n",
        "  def insere(self, valor):\n",
        "    if self.ultima_posicao == self.capacidade - 1:\n",
        "      print('Capacidade máxima atingida')\n",
        "      return\n",
        "\n",
        "    posicao = 0\n",
        "    for i in range(self.ultima_posicao + 1):\n",
        "      posicao = i\n",
        "      if self.valores[i] > valor:\n",
        "        break\n",
        "      if i == self.ultima_posicao:\n",
        "        posicao = i + 1\n",
        "\n",
        "    x = self.ultima_posicao\n",
        "    while x >= posicao:\n",
        "      self.valores[x + 1] = self.valores[x]\n",
        "      x -= 1\n",
        "\n",
        "    self.valores[posicao] = valor\n",
        "    self.ultima_posicao += 1\n",
        "\n",
        "  # O(n)\n",
        "  def pesquisa_linear(self, valor):\n",
        "    for i in range(self.ultima_posicao + 1):\n",
        "      if self.valores[i] > valor:\n",
        "        return -1\n",
        "      if self.valores[i] == valor:\n",
        "        return i\n",
        "      if i == self.ultima_posicao:\n",
        "        return -1\n",
        "\n",
        "  # O(log n)\n",
        "  def pesquisa_binaria(self, valor):\n",
        "    limite_inferior = 0\n",
        "    limite_superior = self.ultima_posicao\n",
        "\n",
        "    while True:\n",
        "      posicao_atual = int((limite_inferior + limite_superior) / 2)\n",
        "      # Se achou na primeira tentativa\n",
        "      if self.valores[posicao_atual] == valor:\n",
        "        return posicao_atual\n",
        "      # Se não achou\n",
        "      elif limite_inferior > limite_superior:\n",
        "        return -1\n",
        "      # Divide os limites\n",
        "      else:\n",
        "        # Limite inferior\n",
        "        if self.valores[posicao_atual] < valor:\n",
        "          limite_inferior = posicao_atual + 1\n",
        "        # Limite superior\n",
        "        else:\n",
        "          limite_superior = posicao_atual - 1\n",
        "\n",
        "  # O(n)\n",
        "  def excluir(self, valor):\n",
        "    #posicao = self.pesquisar(valor)\n",
        "    posicao = self.pesquisa_binaria(valor)\n",
        "    if posicao == -1:\n",
        "      return -1\n",
        "    else:\n",
        "      for i in range(posicao, self.ultima_posicao):\n",
        "        self.valores[i] = self.valores[i + 1]\n",
        "      \n",
        "      self.ultima_posicao -= 1"
      ],
      "execution_count": 22,
      "outputs": []
    },
    {
      "cell_type": "code",
      "metadata": {
        "id": "stsNs_K8nn4r",
        "colab": {
          "base_uri": "https://localhost:8080/"
        },
        "outputId": "fc489a6f-c6ae-415e-c5dc-cd43f62c9022"
      },
      "source": [
        "vetor = VetorOrdenado(10)\n",
        "vetor.imprime()"
      ],
      "execution_count": 23,
      "outputs": [
        {
          "output_type": "stream",
          "name": "stdout",
          "text": [
            "O vetor está vazio\n"
          ]
        }
      ]
    },
    {
      "cell_type": "code",
      "metadata": {
        "id": "6OQR86hMnr74",
        "colab": {
          "base_uri": "https://localhost:8080/"
        },
        "outputId": "99c3566a-14e0-4c69-c9bf-2e902ff7ee16"
      },
      "source": [
        "vetor.insere(6)\n",
        "vetor.imprime()"
      ],
      "execution_count": 24,
      "outputs": [
        {
          "output_type": "stream",
          "name": "stdout",
          "text": [
            "0  -  6\n"
          ]
        }
      ]
    },
    {
      "cell_type": "code",
      "metadata": {
        "id": "2SD9iJjrnzpB",
        "colab": {
          "base_uri": "https://localhost:8080/"
        },
        "outputId": "11093dfa-edc9-4b81-8f84-14f2e4ffd91f"
      },
      "source": [
        "vetor.insere(4)\n",
        "vetor.imprime()"
      ],
      "execution_count": 25,
      "outputs": [
        {
          "output_type": "stream",
          "name": "stdout",
          "text": [
            "0  -  4\n",
            "1  -  6\n"
          ]
        }
      ]
    },
    {
      "cell_type": "code",
      "metadata": {
        "id": "UZiJuluyn4iq",
        "colab": {
          "base_uri": "https://localhost:8080/"
        },
        "outputId": "d91587e3-b561-44a8-b264-19947e606e62"
      },
      "source": [
        "vetor.insere(3)\n",
        "vetor.imprime()"
      ],
      "execution_count": 26,
      "outputs": [
        {
          "output_type": "stream",
          "name": "stdout",
          "text": [
            "0  -  3\n",
            "1  -  4\n",
            "2  -  6\n"
          ]
        }
      ]
    },
    {
      "cell_type": "code",
      "metadata": {
        "id": "-EtyqP3ln--6",
        "colab": {
          "base_uri": "https://localhost:8080/"
        },
        "outputId": "8e3a5b9d-5286-49bd-c0e7-751841ffd90e"
      },
      "source": [
        "vetor.insere(5)\n",
        "vetor.imprime()"
      ],
      "execution_count": 27,
      "outputs": [
        {
          "output_type": "stream",
          "name": "stdout",
          "text": [
            "0  -  3\n",
            "1  -  4\n",
            "2  -  5\n",
            "3  -  6\n"
          ]
        }
      ]
    },
    {
      "cell_type": "code",
      "metadata": {
        "id": "Ij44GQWRoE8-",
        "colab": {
          "base_uri": "https://localhost:8080/"
        },
        "outputId": "7bb3da8f-4450-4c05-831f-2b18a4eeae9b"
      },
      "source": [
        "vetor.insere(1)\n",
        "vetor.imprime()"
      ],
      "execution_count": 28,
      "outputs": [
        {
          "output_type": "stream",
          "name": "stdout",
          "text": [
            "0  -  1\n",
            "1  -  3\n",
            "2  -  4\n",
            "3  -  5\n",
            "4  -  6\n"
          ]
        }
      ]
    },
    {
      "cell_type": "code",
      "metadata": {
        "id": "PHQuMp8aoKX3",
        "colab": {
          "base_uri": "https://localhost:8080/"
        },
        "outputId": "14363774-0838-4248-9089-bffef12d0f32"
      },
      "source": [
        "vetor.insere(8)\n",
        "vetor.imprime()"
      ],
      "execution_count": 29,
      "outputs": [
        {
          "output_type": "stream",
          "name": "stdout",
          "text": [
            "0  -  1\n",
            "1  -  3\n",
            "2  -  4\n",
            "3  -  5\n",
            "4  -  6\n",
            "5  -  8\n"
          ]
        }
      ]
    },
    {
      "cell_type": "code",
      "metadata": {
        "id": "u4RWmfsgpoUu",
        "colab": {
          "base_uri": "https://localhost:8080/"
        },
        "outputId": "c587501a-b297-40c6-83ee-921c079c8c8c"
      },
      "source": [
        "#vetor.pesquisar(3)\n",
        "vetor.pesquisa_binaria(3)"
      ],
      "execution_count": 30,
      "outputs": [
        {
          "output_type": "execute_result",
          "data": {
            "text/plain": [
              "1"
            ]
          },
          "metadata": {},
          "execution_count": 30
        }
      ]
    },
    {
      "cell_type": "code",
      "metadata": {
        "colab": {
          "base_uri": "https://localhost:8080/"
        },
        "id": "7JZFSqsrMVkU",
        "outputId": "39adc018-f688-440a-a1f1-80d0522da067"
      },
      "source": [
        "vetor.pesquisa_linear(3)"
      ],
      "execution_count": 31,
      "outputs": [
        {
          "output_type": "execute_result",
          "data": {
            "text/plain": [
              "1"
            ]
          },
          "metadata": {},
          "execution_count": 31
        }
      ]
    },
    {
      "cell_type": "code",
      "metadata": {
        "id": "JN_G7sRHp6ZD",
        "colab": {
          "base_uri": "https://localhost:8080/"
        },
        "outputId": "8785c3c1-f001-4397-dd5f-5db4b113fd2a"
      },
      "source": [
        "vetor.pesquisa_linear(2)"
      ],
      "execution_count": 32,
      "outputs": [
        {
          "output_type": "execute_result",
          "data": {
            "text/plain": [
              "-1"
            ]
          },
          "metadata": {},
          "execution_count": 32
        }
      ]
    },
    {
      "cell_type": "code",
      "metadata": {
        "id": "g7Qy3DOpqIEQ",
        "colab": {
          "base_uri": "https://localhost:8080/"
        },
        "outputId": "e35454f9-62e4-433f-db89-1c892c36eef6"
      },
      "source": [
        "vetor.pesquisa_binaria(8)"
      ],
      "execution_count": 33,
      "outputs": [
        {
          "output_type": "execute_result",
          "data": {
            "text/plain": [
              "5"
            ]
          },
          "metadata": {},
          "execution_count": 33
        }
      ]
    },
    {
      "cell_type": "code",
      "metadata": {
        "id": "TIyNYvRprA6i",
        "colab": {
          "base_uri": "https://localhost:8080/"
        },
        "outputId": "2ba0378c-3eeb-4e72-9ee3-c6576af40814"
      },
      "source": [
        "vetor.imprime()"
      ],
      "execution_count": 34,
      "outputs": [
        {
          "output_type": "stream",
          "name": "stdout",
          "text": [
            "0  -  1\n",
            "1  -  3\n",
            "2  -  4\n",
            "3  -  5\n",
            "4  -  6\n",
            "5  -  8\n"
          ]
        }
      ]
    },
    {
      "cell_type": "code",
      "metadata": {
        "id": "890RvJJZrC-N",
        "colab": {
          "base_uri": "https://localhost:8080/"
        },
        "outputId": "0aae1241-8463-43e0-e780-dcc16d883b4d"
      },
      "source": [
        "vetor.excluir(5)\n",
        "vetor.imprime()"
      ],
      "execution_count": 35,
      "outputs": [
        {
          "output_type": "stream",
          "name": "stdout",
          "text": [
            "0  -  1\n",
            "1  -  3\n",
            "2  -  4\n",
            "3  -  6\n",
            "4  -  8\n"
          ]
        }
      ]
    },
    {
      "cell_type": "code",
      "metadata": {
        "id": "tJZZj3dcrINv",
        "colab": {
          "base_uri": "https://localhost:8080/"
        },
        "outputId": "da2ea0d6-d7c1-4bc0-c195-b04f5505d3b1"
      },
      "source": [
        "vetor.excluir(1)\n",
        "vetor.imprime()"
      ],
      "execution_count": 36,
      "outputs": [
        {
          "output_type": "stream",
          "name": "stdout",
          "text": [
            "0  -  3\n",
            "1  -  4\n",
            "2  -  6\n",
            "3  -  8\n"
          ]
        }
      ]
    },
    {
      "cell_type": "code",
      "metadata": {
        "id": "XIshZYD7rOrC",
        "colab": {
          "base_uri": "https://localhost:8080/"
        },
        "outputId": "e2d75eb1-1e9d-4c67-f857-d4d649049c74"
      },
      "source": [
        "vetor.excluir(8)\n",
        "vetor.imprime()"
      ],
      "execution_count": 37,
      "outputs": [
        {
          "output_type": "stream",
          "name": "stdout",
          "text": [
            "0  -  3\n",
            "1  -  4\n",
            "2  -  6\n"
          ]
        }
      ]
    },
    {
      "cell_type": "code",
      "metadata": {
        "id": "yK-W-NZ_rTBv",
        "colab": {
          "base_uri": "https://localhost:8080/"
        },
        "outputId": "ca34a24a-08d0-4c8f-a484-13336b8d8f8d"
      },
      "source": [
        "vetor.excluir(9)"
      ],
      "execution_count": 38,
      "outputs": [
        {
          "output_type": "execute_result",
          "data": {
            "text/plain": [
              "-1"
            ]
          },
          "metadata": {},
          "execution_count": 38
        }
      ]
    },
    {
      "cell_type": "code",
      "metadata": {
        "id": "VhiG4jtDZmsl",
        "colab": {
          "base_uri": "https://localhost:8080/"
        },
        "outputId": "d67b439e-8b79-429f-dc8e-c24a1bc81a9d"
      },
      "source": [
        "vetor = VetorOrdenado(10)\n",
        "vetor.insere(8)\n",
        "vetor.insere(9)\n",
        "vetor.insere(4)\n",
        "vetor.insere(1)\n",
        "vetor.insere(5)\n",
        "vetor.insere(7)\n",
        "vetor.insere(11)\n",
        "vetor.insere(13)\n",
        "vetor.insere(2)\n",
        "vetor.imprime()"
      ],
      "execution_count": 39,
      "outputs": [
        {
          "output_type": "stream",
          "name": "stdout",
          "text": [
            "0  -  1\n",
            "1  -  2\n",
            "2  -  4\n",
            "3  -  5\n",
            "4  -  7\n",
            "5  -  8\n",
            "6  -  9\n",
            "7  -  11\n",
            "8  -  13\n"
          ]
        }
      ]
    },
    {
      "cell_type": "code",
      "metadata": {
        "id": "ThZslAO2Z01A",
        "colab": {
          "base_uri": "https://localhost:8080/"
        },
        "outputId": "81ea66ea-d233-46a5-d253-83b0c80e281d"
      },
      "source": [
        "vetor.pesquisa_binaria(7)"
      ],
      "execution_count": 40,
      "outputs": [
        {
          "output_type": "execute_result",
          "data": {
            "text/plain": [
              "4"
            ]
          },
          "metadata": {},
          "execution_count": 40
        }
      ]
    },
    {
      "cell_type": "code",
      "metadata": {
        "id": "H7O2aeQCZ5dU",
        "colab": {
          "base_uri": "https://localhost:8080/"
        },
        "outputId": "1749b6a9-b28c-4919-9548-290d55dd49f7"
      },
      "source": [
        "vetor.pesquisa_binaria(5)"
      ],
      "execution_count": 41,
      "outputs": [
        {
          "output_type": "execute_result",
          "data": {
            "text/plain": [
              "3"
            ]
          },
          "metadata": {},
          "execution_count": 41
        }
      ]
    },
    {
      "cell_type": "code",
      "metadata": {
        "id": "v-fqvDvkZ-ln",
        "colab": {
          "base_uri": "https://localhost:8080/"
        },
        "outputId": "a6e0e5a0-6cc2-46ff-ccf0-64cbb9373fd1"
      },
      "source": [
        "vetor.pesquisa_binaria(13)"
      ],
      "execution_count": 42,
      "outputs": [
        {
          "output_type": "execute_result",
          "data": {
            "text/plain": [
              "8"
            ]
          },
          "metadata": {},
          "execution_count": 42
        }
      ]
    },
    {
      "cell_type": "code",
      "metadata": {
        "id": "0weYsscRaBeK",
        "colab": {
          "base_uri": "https://localhost:8080/"
        },
        "outputId": "9a2cc287-fc0b-4878-e3c1-8b5c35c7f2bb"
      },
      "source": [
        "vetor.pesquisa_binaria(20)"
      ],
      "execution_count": 43,
      "outputs": [
        {
          "output_type": "execute_result",
          "data": {
            "text/plain": [
              "-1"
            ]
          },
          "metadata": {},
          "execution_count": 43
        }
      ]
    }
  ]
}
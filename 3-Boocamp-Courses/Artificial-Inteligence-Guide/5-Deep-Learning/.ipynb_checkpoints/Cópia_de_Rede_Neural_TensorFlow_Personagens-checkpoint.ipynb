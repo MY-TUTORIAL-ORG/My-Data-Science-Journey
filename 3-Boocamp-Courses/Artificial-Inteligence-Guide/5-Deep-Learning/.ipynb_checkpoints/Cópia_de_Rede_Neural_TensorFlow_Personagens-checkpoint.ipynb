{
 "cells": [
  {
   "cell_type": "markdown",
   "metadata": {
    "colab_type": "text",
    "id": "view-in-github"
   },
   "source": [
    "<a href=\"https://colab.research.google.com/github/viannaandreBR/My-Data-Science-Journey/blob/main/C%C3%B3pia_de_Rede_Neural_TensorFlow_Personagens.ipynb\" target=\"_parent\"><img src=\"https://colab.research.google.com/assets/colab-badge.svg\" alt=\"Open In Colab\"/></a>"
   ]
  },
  {
   "cell_type": "markdown",
   "metadata": {
    "id": "Sd_h453YseEx"
   },
   "source": [
    "# Rede Neural com TensorFlow - Personagens"
   ]
  },
  {
   "cell_type": "markdown",
   "metadata": {
    "id": "nA9a2AFmsiFJ"
   },
   "source": [
    "## Importação das bibliotecas"
   ]
  },
  {
   "cell_type": "code",
   "execution_count": 2,
   "metadata": {},
   "outputs": [
    {
     "name": "stdout",
     "output_type": "stream",
     "text": [
      "Collecting seaborn\n",
      "  Downloading seaborn-0.11.2-py3-none-any.whl (292 kB)\n",
      "\u001b[K     |████████████████████████████████| 292 kB 1.3 MB/s eta 0:00:01\n",
      "\u001b[?25hRequirement already satisfied: numpy>=1.15 in /home/biolabs/anaconda3/lib/python3.8/site-packages (from seaborn) (1.20.3)\n",
      "Requirement already satisfied: scipy>=1.0 in /home/biolabs/anaconda3/lib/python3.8/site-packages (from seaborn) (1.7.1)\n",
      "Requirement already satisfied: matplotlib>=2.2 in /home/biolabs/anaconda3/lib/python3.8/site-packages (from seaborn) (3.4.3)\n",
      "Requirement already satisfied: pandas>=0.23 in /home/biolabs/.local/lib/python3.8/site-packages (from seaborn) (1.3.4)\n",
      "Requirement already satisfied: cycler>=0.10 in /home/biolabs/anaconda3/lib/python3.8/site-packages (from matplotlib>=2.2->seaborn) (0.10.0)\n",
      "Requirement already satisfied: kiwisolver>=1.0.1 in /home/biolabs/anaconda3/lib/python3.8/site-packages (from matplotlib>=2.2->seaborn) (1.3.1)\n",
      "Requirement already satisfied: pillow>=6.2.0 in /home/biolabs/anaconda3/lib/python3.8/site-packages (from matplotlib>=2.2->seaborn) (8.4.0)\n",
      "Requirement already satisfied: python-dateutil>=2.7 in /home/biolabs/anaconda3/lib/python3.8/site-packages (from matplotlib>=2.2->seaborn) (2.8.2)\n",
      "Requirement already satisfied: pyparsing>=2.2.1 in /home/biolabs/.local/lib/python3.8/site-packages (from matplotlib>=2.2->seaborn) (2.4.7)\n",
      "Requirement already satisfied: six in /home/biolabs/anaconda3/lib/python3.8/site-packages (from cycler>=0.10->matplotlib>=2.2->seaborn) (1.16.0)\n",
      "Requirement already satisfied: pytz>=2017.3 in /home/biolabs/anaconda3/lib/python3.8/site-packages (from pandas>=0.23->seaborn) (2021.3)\n",
      "Installing collected packages: seaborn\n",
      "Successfully installed seaborn-0.11.2\n"
     ]
    }
   ],
   "source": [
    "!pip3 install seaborn"
   ]
  },
  {
   "cell_type": "code",
   "execution_count": 3,
   "metadata": {
    "colab": {
     "base_uri": "https://localhost:8080/",
     "height": 35
    },
    "id": "PXXSgPpi1gwj",
    "outputId": "7cfdc341-f2e4-468b-a51e-3430f00d6d8b"
   },
   "outputs": [
    {
     "data": {
      "text/plain": [
       "'2.4.1'"
      ]
     },
     "execution_count": 3,
     "metadata": {},
     "output_type": "execute_result"
    }
   ],
   "source": [
    "import tensorflow as tf\n",
    "import pandas as pd\n",
    "import numpy as np\n",
    "import seaborn as sns\n",
    "import matplotlib.pyplot as plt\n",
    "tf.__version__"
   ]
  },
  {
   "cell_type": "markdown",
   "metadata": {
    "id": "kI34B4iXt6tF"
   },
   "source": [
    "## Carregamento da base de dados"
   ]
  },
  {
   "cell_type": "code",
   "execution_count": 4,
   "metadata": {
    "id": "wHD56A292Qh-"
   },
   "outputs": [],
   "source": [
    "dataset = pd.read_csv('personagens.csv')"
   ]
  },
  {
   "cell_type": "code",
   "execution_count": 5,
   "metadata": {
    "colab": {
     "base_uri": "https://localhost:8080/"
    },
    "id": "mUeW7FCd2l6Q",
    "outputId": "f1a81fb2-b33c-410d-bc6c-0765b5f64a5e"
   },
   "outputs": [
    {
     "data": {
      "text/plain": [
       "(293, 7)"
      ]
     },
     "execution_count": 5,
     "metadata": {},
     "output_type": "execute_result"
    }
   ],
   "source": [
    "dataset.shape"
   ]
  },
  {
   "cell_type": "code",
   "execution_count": 6,
   "metadata": {
    "colab": {
     "base_uri": "https://localhost:8080/",
     "height": 204
    },
    "id": "Rv-4fgXx2uct",
    "outputId": "2600b61c-5d41-4af3-b14c-a276c2870bc4"
   },
   "outputs": [
    {
     "data": {
      "text/html": [
       "<div>\n",
       "<style scoped>\n",
       "    .dataframe tbody tr th:only-of-type {\n",
       "        vertical-align: middle;\n",
       "    }\n",
       "\n",
       "    .dataframe tbody tr th {\n",
       "        vertical-align: top;\n",
       "    }\n",
       "\n",
       "    .dataframe thead th {\n",
       "        text-align: right;\n",
       "    }\n",
       "</style>\n",
       "<table border=\"1\" class=\"dataframe\">\n",
       "  <thead>\n",
       "    <tr style=\"text-align: right;\">\n",
       "      <th></th>\n",
       "      <th>laranja_camisa_bart</th>\n",
       "      <th>azul_calcao_bart</th>\n",
       "      <th>azul_sapato_bart</th>\n",
       "      <th>marrom_boca_homer</th>\n",
       "      <th>azul_calca_homer</th>\n",
       "      <th>cinza_sapato_homer</th>\n",
       "      <th>classe</th>\n",
       "    </tr>\n",
       "  </thead>\n",
       "  <tbody>\n",
       "    <tr>\n",
       "      <th>0</th>\n",
       "      <td>6.886102</td>\n",
       "      <td>3.495204</td>\n",
       "      <td>1.484984</td>\n",
       "      <td>0.000000</td>\n",
       "      <td>0.0</td>\n",
       "      <td>0.062954</td>\n",
       "      <td>Bart</td>\n",
       "    </tr>\n",
       "    <tr>\n",
       "      <th>1</th>\n",
       "      <td>5.004901</td>\n",
       "      <td>3.183889</td>\n",
       "      <td>1.000142</td>\n",
       "      <td>0.000000</td>\n",
       "      <td>0.0</td>\n",
       "      <td>0.033024</td>\n",
       "      <td>Bart</td>\n",
       "    </tr>\n",
       "    <tr>\n",
       "      <th>2</th>\n",
       "      <td>5.264620</td>\n",
       "      <td>5.029683</td>\n",
       "      <td>0.283567</td>\n",
       "      <td>0.000000</td>\n",
       "      <td>0.0</td>\n",
       "      <td>0.151573</td>\n",
       "      <td>Bart</td>\n",
       "    </tr>\n",
       "    <tr>\n",
       "      <th>3</th>\n",
       "      <td>0.000000</td>\n",
       "      <td>0.000000</td>\n",
       "      <td>0.000000</td>\n",
       "      <td>0.480168</td>\n",
       "      <td>0.0</td>\n",
       "      <td>0.021164</td>\n",
       "      <td>Bart</td>\n",
       "    </tr>\n",
       "    <tr>\n",
       "      <th>4</th>\n",
       "      <td>8.978929</td>\n",
       "      <td>3.459119</td>\n",
       "      <td>0.000000</td>\n",
       "      <td>0.000000</td>\n",
       "      <td>0.0</td>\n",
       "      <td>0.011593</td>\n",
       "      <td>Bart</td>\n",
       "    </tr>\n",
       "  </tbody>\n",
       "</table>\n",
       "</div>"
      ],
      "text/plain": [
       "   laranja_camisa_bart  azul_calcao_bart  azul_sapato_bart  marrom_boca_homer  \\\n",
       "0             6.886102          3.495204          1.484984           0.000000   \n",
       "1             5.004901          3.183889          1.000142           0.000000   \n",
       "2             5.264620          5.029683          0.283567           0.000000   \n",
       "3             0.000000          0.000000          0.000000           0.480168   \n",
       "4             8.978929          3.459119          0.000000           0.000000   \n",
       "\n",
       "   azul_calca_homer  cinza_sapato_homer classe  \n",
       "0               0.0            0.062954   Bart  \n",
       "1               0.0            0.033024   Bart  \n",
       "2               0.0            0.151573   Bart  \n",
       "3               0.0            0.021164   Bart  \n",
       "4               0.0            0.011593   Bart  "
      ]
     },
     "execution_count": 6,
     "metadata": {},
     "output_type": "execute_result"
    }
   ],
   "source": [
    "dataset.head()"
   ]
  },
  {
   "cell_type": "code",
   "execution_count": 7,
   "metadata": {
    "colab": {
     "base_uri": "https://localhost:8080/",
     "height": 204
    },
    "id": "_osbJtc12z7C",
    "outputId": "41f4a7a6-20f0-4e86-e4d9-c6e24cde1406"
   },
   "outputs": [
    {
     "data": {
      "text/html": [
       "<div>\n",
       "<style scoped>\n",
       "    .dataframe tbody tr th:only-of-type {\n",
       "        vertical-align: middle;\n",
       "    }\n",
       "\n",
       "    .dataframe tbody tr th {\n",
       "        vertical-align: top;\n",
       "    }\n",
       "\n",
       "    .dataframe thead th {\n",
       "        text-align: right;\n",
       "    }\n",
       "</style>\n",
       "<table border=\"1\" class=\"dataframe\">\n",
       "  <thead>\n",
       "    <tr style=\"text-align: right;\">\n",
       "      <th></th>\n",
       "      <th>laranja_camisa_bart</th>\n",
       "      <th>azul_calcao_bart</th>\n",
       "      <th>azul_sapato_bart</th>\n",
       "      <th>marrom_boca_homer</th>\n",
       "      <th>azul_calca_homer</th>\n",
       "      <th>cinza_sapato_homer</th>\n",
       "      <th>classe</th>\n",
       "    </tr>\n",
       "  </thead>\n",
       "  <tbody>\n",
       "    <tr>\n",
       "      <th>288</th>\n",
       "      <td>0.0</td>\n",
       "      <td>0.0</td>\n",
       "      <td>0.0</td>\n",
       "      <td>0.000000</td>\n",
       "      <td>6.485412</td>\n",
       "      <td>0.093921</td>\n",
       "      <td>Homer</td>\n",
       "    </tr>\n",
       "    <tr>\n",
       "      <th>289</th>\n",
       "      <td>0.0</td>\n",
       "      <td>0.0</td>\n",
       "      <td>0.0</td>\n",
       "      <td>0.000000</td>\n",
       "      <td>0.000000</td>\n",
       "      <td>0.042194</td>\n",
       "      <td>Homer</td>\n",
       "    </tr>\n",
       "    <tr>\n",
       "      <th>290</th>\n",
       "      <td>0.0</td>\n",
       "      <td>0.0</td>\n",
       "      <td>0.0</td>\n",
       "      <td>0.000000</td>\n",
       "      <td>4.263629</td>\n",
       "      <td>0.076761</td>\n",
       "      <td>Homer</td>\n",
       "    </tr>\n",
       "    <tr>\n",
       "      <th>291</th>\n",
       "      <td>0.0</td>\n",
       "      <td>0.0</td>\n",
       "      <td>0.0</td>\n",
       "      <td>0.000000</td>\n",
       "      <td>1.429134</td>\n",
       "      <td>0.017013</td>\n",
       "      <td>Homer</td>\n",
       "    </tr>\n",
       "    <tr>\n",
       "      <th>292</th>\n",
       "      <td>0.0</td>\n",
       "      <td>0.0</td>\n",
       "      <td>0.0</td>\n",
       "      <td>13.744248</td>\n",
       "      <td>0.853902</td>\n",
       "      <td>0.063546</td>\n",
       "      <td>Homer</td>\n",
       "    </tr>\n",
       "  </tbody>\n",
       "</table>\n",
       "</div>"
      ],
      "text/plain": [
       "     laranja_camisa_bart  azul_calcao_bart  azul_sapato_bart  \\\n",
       "288                  0.0               0.0               0.0   \n",
       "289                  0.0               0.0               0.0   \n",
       "290                  0.0               0.0               0.0   \n",
       "291                  0.0               0.0               0.0   \n",
       "292                  0.0               0.0               0.0   \n",
       "\n",
       "     marrom_boca_homer  azul_calca_homer  cinza_sapato_homer classe  \n",
       "288           0.000000          6.485412            0.093921  Homer  \n",
       "289           0.000000          0.000000            0.042194  Homer  \n",
       "290           0.000000          4.263629            0.076761  Homer  \n",
       "291           0.000000          1.429134            0.017013  Homer  \n",
       "292          13.744248          0.853902            0.063546  Homer  "
      ]
     },
     "execution_count": 7,
     "metadata": {},
     "output_type": "execute_result"
    }
   ],
   "source": [
    "dataset.tail()"
   ]
  },
  {
   "cell_type": "code",
   "execution_count": 8,
   "metadata": {
    "colab": {
     "base_uri": "https://localhost:8080/",
     "height": 296
    },
    "id": "AeuZ77E6278Y",
    "outputId": "baeb72a0-18bd-43e7-ec72-ca4aed976b90"
   },
   "outputs": [
    {
     "data": {
      "text/plain": [
       "<AxesSubplot:xlabel='classe', ylabel='count'>"
      ]
     },
     "execution_count": 8,
     "metadata": {},
     "output_type": "execute_result"
    },
    {
     "data": {
      "image/png": "[encoded data removed]",
      "text/plain": [
       "<Figure size 432x288 with 1 Axes>"
      ]
     },
     "metadata": {
      "needs_background": "light"
     },
     "output_type": "display_data"
    }
   ],
   "source": [
    "sns.countplot(x = 'classe', data=dataset)"
   ]
  },
  {
   "cell_type": "code",
   "execution_count": 9,
   "metadata": {
    "colab": {
     "base_uri": "https://localhost:8080/",
     "height": 382
    },
    "id": "FXCsZAFK3Ivb",
    "outputId": "e9bbc017-2e3b-4cdf-b51f-3096747cf6a2"
   },
   "outputs": [
    {
     "data": {
      "text/plain": [
       "<AxesSubplot:>"
      ]
     },
     "execution_count": 9,
     "metadata": {},
     "output_type": "execute_result"
    },
    {
     "data": {
      "image/png": "[encoded data removed]",
      "text/plain": [
       "<Figure size 432x288 with 2 Axes>"
      ]
     },
     "metadata": {
      "needs_background": "light"
     },
     "output_type": "display_data"
    }
   ],
   "source": [
    "sns.heatmap(dataset.corr(), annot=True)"
   ]
  },
  {
   "cell_type": "code",
   "execution_count": 10,
   "metadata": {
    "colab": {
     "base_uri": "https://localhost:8080/"
    },
    "id": "URFxdySuk3iI",
    "outputId": "b07e8139-8559-49b7-e52d-c07e057d3851"
   },
   "outputs": [
    {
     "data": {
      "text/plain": [
       "(293, 7)"
      ]
     },
     "execution_count": 10,
     "metadata": {},
     "output_type": "execute_result"
    }
   ],
   "source": [
    "dataset.shape"
   ]
  },
  {
   "cell_type": "code",
   "execution_count": 11,
   "metadata": {
    "colab": {
     "base_uri": "https://localhost:8080/"
    },
    "id": "p-UCO6M74F4a",
    "outputId": "fbad20ac-fd60-46fa-bbf3-6460bdf5ab1d"
   },
   "outputs": [
    {
     "data": {
      "text/plain": [
       "array([[ 6.886102  ,  3.4952044 ,  1.4849836 ,  0.        ,  0.        ,\n",
       "         0.06295441],\n",
       "       [ 5.004901  ,  3.1838887 ,  1.0001415 ,  0.        ,  0.        ,\n",
       "         0.03302354],\n",
       "       [ 5.2646203 ,  5.0296826 ,  0.283567  ,  0.        ,  0.        ,\n",
       "         0.15157256],\n",
       "       ...,\n",
       "       [ 0.        ,  0.        ,  0.        ,  0.        ,  4.2636285 ,\n",
       "         0.07676148],\n",
       "       [ 0.        ,  0.        ,  0.        ,  0.        ,  1.4291335 ,\n",
       "         0.01701349],\n",
       "       [ 0.        ,  0.        ,  0.        , 13.744248  ,  0.853902  ,\n",
       "         0.0635462 ]])"
      ]
     },
     "execution_count": 11,
     "metadata": {},
     "output_type": "execute_result"
    }
   ],
   "source": [
    "X = dataset.iloc[:, 0:6].values\n",
    "X"
   ]
  },
  {
   "cell_type": "code",
   "execution_count": 12,
   "metadata": {
    "colab": {
     "base_uri": "https://localhost:8080/"
    },
    "id": "AreJwWlZ4aOp",
    "outputId": "a7e305bd-e4bb-4c28-e94c-47f0f3abaf5e"
   },
   "outputs": [
    {
     "data": {
      "text/plain": [
       "array(['Bart', 'Bart', 'Bart', 'Bart', 'Bart', 'Bart', 'Bart', 'Bart',\n",
       "       'Bart', 'Bart', 'Bart', 'Bart', 'Bart', 'Bart', 'Bart', 'Bart',\n",
       "       'Bart', 'Bart', 'Bart', 'Bart', 'Bart', 'Bart', 'Bart', 'Bart',\n",
       "       'Bart', 'Bart', 'Bart', 'Bart', 'Bart', 'Bart', 'Bart', 'Bart',\n",
       "       'Bart', 'Bart', 'Bart', 'Bart', 'Bart', 'Bart', 'Bart', 'Bart',\n",
       "       'Bart', 'Bart', 'Bart', 'Bart', 'Bart', 'Bart', 'Bart', 'Bart',\n",
       "       'Bart', 'Bart', 'Bart', 'Bart', 'Bart', 'Bart', 'Bart', 'Bart',\n",
       "       'Bart', 'Bart', 'Bart', 'Bart', 'Bart', 'Bart', 'Bart', 'Bart',\n",
       "       'Bart', 'Bart', 'Bart', 'Bart', 'Bart', 'Bart', 'Bart', 'Bart',\n",
       "       'Bart', 'Bart', 'Bart', 'Bart', 'Bart', 'Bart', 'Bart', 'Bart',\n",
       "       'Bart', 'Bart', 'Bart', 'Bart', 'Bart', 'Bart', 'Bart', 'Bart',\n",
       "       'Bart', 'Bart', 'Bart', 'Bart', 'Bart', 'Bart', 'Bart', 'Bart',\n",
       "       'Bart', 'Bart', 'Bart', 'Bart', 'Bart', 'Bart', 'Bart', 'Bart',\n",
       "       'Bart', 'Bart', 'Bart', 'Bart', 'Bart', 'Bart', 'Bart', 'Bart',\n",
       "       'Bart', 'Bart', 'Bart', 'Bart', 'Bart', 'Bart', 'Bart', 'Bart',\n",
       "       'Bart', 'Bart', 'Bart', 'Bart', 'Bart', 'Bart', 'Bart', 'Bart',\n",
       "       'Bart', 'Bart', 'Bart', 'Bart', 'Bart', 'Bart', 'Bart', 'Bart',\n",
       "       'Bart', 'Bart', 'Bart', 'Bart', 'Bart', 'Bart', 'Bart', 'Bart',\n",
       "       'Bart', 'Bart', 'Bart', 'Bart', 'Bart', 'Bart', 'Bart', 'Bart',\n",
       "       'Bart', 'Bart', 'Bart', 'Bart', 'Bart', 'Bart', 'Bart', 'Bart',\n",
       "       'Bart', 'Bart', 'Bart', 'Bart', 'Bart', 'Bart', 'Bart', 'Bart',\n",
       "       'Bart', 'Homer', 'Homer', 'Homer', 'Homer', 'Homer', 'Homer',\n",
       "       'Homer', 'Homer', 'Homer', 'Homer', 'Homer', 'Homer', 'Homer',\n",
       "       'Homer', 'Homer', 'Homer', 'Homer', 'Homer', 'Homer', 'Homer',\n",
       "       'Homer', 'Homer', 'Homer', 'Homer', 'Homer', 'Homer', 'Homer',\n",
       "       'Homer', 'Homer', 'Homer', 'Homer', 'Homer', 'Homer', 'Homer',\n",
       "       'Homer', 'Homer', 'Homer', 'Homer', 'Homer', 'Homer', 'Homer',\n",
       "       'Homer', 'Homer', 'Homer', 'Homer', 'Homer', 'Homer', 'Homer',\n",
       "       'Homer', 'Homer', 'Homer', 'Homer', 'Homer', 'Homer', 'Homer',\n",
       "       'Homer', 'Homer', 'Homer', 'Homer', 'Homer', 'Homer', 'Homer',\n",
       "       'Homer', 'Homer', 'Homer', 'Homer', 'Homer', 'Homer', 'Homer',\n",
       "       'Homer', 'Homer', 'Homer', 'Homer', 'Homer', 'Homer', 'Homer',\n",
       "       'Homer', 'Homer', 'Homer', 'Homer', 'Homer', 'Homer', 'Homer',\n",
       "       'Homer', 'Homer', 'Homer', 'Homer', 'Homer', 'Homer', 'Homer',\n",
       "       'Homer', 'Homer', 'Homer', 'Homer', 'Homer', 'Homer', 'Homer',\n",
       "       'Homer', 'Homer', 'Homer', 'Homer', 'Homer', 'Homer', 'Homer',\n",
       "       'Homer', 'Homer', 'Homer', 'Homer', 'Homer', 'Homer', 'Homer',\n",
       "       'Homer', 'Homer', 'Homer', 'Homer', 'Homer', 'Homer', 'Homer',\n",
       "       'Homer', 'Homer', 'Homer', 'Homer', 'Homer', 'Homer'], dtype=object)"
      ]
     },
     "execution_count": 12,
     "metadata": {},
     "output_type": "execute_result"
    }
   ],
   "source": [
    "y = dataset.iloc[:, 6].values\n",
    "y"
   ]
  },
  {
   "cell_type": "code",
   "execution_count": 13,
   "metadata": {
    "colab": {
     "base_uri": "https://localhost:8080/"
    },
    "id": "IyoYARSd4rkT",
    "outputId": "edc86831-3226-46ca-9366-4b42b4e2bdc5"
   },
   "outputs": [
    {
     "data": {
      "text/plain": [
       "array([False, False, False, False, False, False, False, False, False,\n",
       "       False, False, False, False, False, False, False, False, False,\n",
       "       False, False, False, False, False, False, False, False, False,\n",
       "       False, False, False, False, False, False, False, False, False,\n",
       "       False, False, False, False, False, False, False, False, False,\n",
       "       False, False, False, False, False, False, False, False, False,\n",
       "       False, False, False, False, False, False, False, False, False,\n",
       "       False, False, False, False, False, False, False, False, False,\n",
       "       False, False, False, False, False, False, False, False, False,\n",
       "       False, False, False, False, False, False, False, False, False,\n",
       "       False, False, False, False, False, False, False, False, False,\n",
       "       False, False, False, False, False, False, False, False, False,\n",
       "       False, False, False, False, False, False, False, False, False,\n",
       "       False, False, False, False, False, False, False, False, False,\n",
       "       False, False, False, False, False, False, False, False, False,\n",
       "       False, False, False, False, False, False, False, False, False,\n",
       "       False, False, False, False, False, False, False, False, False,\n",
       "       False, False, False, False, False, False, False, False, False,\n",
       "       False, False, False, False, False, False, False,  True,  True,\n",
       "        True,  True,  True,  True,  True,  True,  True,  True,  True,\n",
       "        True,  True,  True,  True,  True,  True,  True,  True,  True,\n",
       "        True,  True,  True,  True,  True,  True,  True,  True,  True,\n",
       "        True,  True,  True,  True,  True,  True,  True,  True,  True,\n",
       "        True,  True,  True,  True,  True,  True,  True,  True,  True,\n",
       "        True,  True,  True,  True,  True,  True,  True,  True,  True,\n",
       "        True,  True,  True,  True,  True,  True,  True,  True,  True,\n",
       "        True,  True,  True,  True,  True,  True,  True,  True,  True,\n",
       "        True,  True,  True,  True,  True,  True,  True,  True,  True,\n",
       "        True,  True,  True,  True,  True,  True,  True,  True,  True,\n",
       "        True,  True,  True,  True,  True,  True,  True,  True,  True,\n",
       "        True,  True,  True,  True,  True,  True,  True,  True,  True,\n",
       "        True,  True,  True,  True,  True,  True,  True,  True,  True,\n",
       "        True,  True,  True,  True,  True])"
      ]
     },
     "execution_count": 13,
     "metadata": {},
     "output_type": "execute_result"
    }
   ],
   "source": [
    "y = (y == 'Homer')\n",
    "y\n",
    "#y1 = (y == 'Bart')\n",
    "#y1"
   ]
  },
  {
   "cell_type": "code",
   "execution_count": null,
   "metadata": {
    "colab": {
     "base_uri": "https://localhost:8080/"
    },
    "id": "WOogDk_VkEtA",
    "outputId": "f79cec7b-6e19-4219-d0de-789f5f263c9e"
   },
   "outputs": [],
   "source": [
    "#y2 = (y == 'Homer')\n",
    "#y2"
   ]
  },
  {
   "cell_type": "code",
   "execution_count": 14,
   "metadata": {
    "id": "qLJJ4b1O42Cu"
   },
   "outputs": [],
   "source": [
    "from sklearn.model_selection import train_test_split\n",
    "X_treinamento, X_teste, y_treinamento, y_teste = train_test_split(X, y, test_size = 0.2)"
   ]
  },
  {
   "cell_type": "code",
   "execution_count": 15,
   "metadata": {
    "colab": {
     "base_uri": "https://localhost:8080/"
    },
    "id": "R5C7cQXu5MtO",
    "outputId": "df10224a-e004-4de8-aa44-53002bc654b0"
   },
   "outputs": [
    {
     "data": {
      "text/plain": [
       "((234, 6), (234,))"
      ]
     },
     "execution_count": 15,
     "metadata": {},
     "output_type": "execute_result"
    }
   ],
   "source": [
    "X_treinamento.shape, y_treinamento.shape"
   ]
  },
  {
   "cell_type": "code",
   "execution_count": 16,
   "metadata": {
    "colab": {
     "base_uri": "https://localhost:8080/"
    },
    "id": "_q29-Iev5Ykc",
    "outputId": "c433602f-25da-4538-da39-c7e34dad1e73"
   },
   "outputs": [
    {
     "data": {
      "text/plain": [
       "((59, 6), (59,))"
      ]
     },
     "execution_count": 16,
     "metadata": {},
     "output_type": "execute_result"
    }
   ],
   "source": [
    "X_teste.shape, y_teste.shape"
   ]
  },
  {
   "cell_type": "markdown",
   "metadata": {
    "id": "tYrSmoKVvRD9"
   },
   "source": [
    "## Construção e treinamento da rede neural"
   ]
  },
  {
   "cell_type": "code",
   "execution_count": 17,
   "metadata": {
    "colab": {
     "base_uri": "https://localhost:8080/"
    },
    "id": "ZZgwri6S6RXS",
    "outputId": "07ac941f-e5f3-44ef-c5f6-dbabb06a2764"
   },
   "outputs": [
    {
     "data": {
      "text/plain": [
       "3.5"
      ]
     },
     "execution_count": 17,
     "metadata": {},
     "output_type": "execute_result"
    }
   ],
   "source": [
    "(6 + 1) / 2"
   ]
  },
  {
   "cell_type": "code",
   "execution_count": null,
   "metadata": {
    "id": "0w9cclV66Dc7"
   },
   "outputs": [],
   "source": [
    "# (entradas + saídas) / 2\n",
    "# 6 -> 4 -> 4 -> 4 -> 1"
   ]
  },
  {
   "cell_type": "code",
   "execution_count": 18,
   "metadata": {
    "id": "vTXmpyQT6gTa"
   },
   "outputs": [
    {
     "name": "stderr",
     "output_type": "stream",
     "text": [
      "2021-11-03 13:59:50.090967: I tensorflow/compiler/jit/xla_cpu_device.cc:41] Not creating XLA devices, tf_xla_enable_xla_devices not set\n",
      "2021-11-03 13:59:50.091352: W tensorflow/stream_executor/platform/default/dso_loader.cc:60] Could not load dynamic library 'libcuda.so.1'; dlerror: libcuda.so.1: cannot open shared object file: No such file or directory\n",
      "2021-11-03 13:59:50.091365: W tensorflow/stream_executor/cuda/cuda_driver.cc:326] failed call to cuInit: UNKNOWN ERROR (303)\n",
      "2021-11-03 13:59:50.091379: I tensorflow/stream_executor/cuda/cuda_diagnostics.cc:156] kernel driver does not appear to be running on this host (Lenovo-Yoga): /proc/driver/nvidia/version does not exist\n",
      "2021-11-03 13:59:50.091620: I tensorflow/core/platform/cpu_feature_guard.cc:142] This TensorFlow binary is optimized with oneAPI Deep Neural Network Library (oneDNN) to use the following CPU instructions in performance-critical operations:  SSE4.1 SSE4.2 AVX AVX2 FMA\n",
      "To enable them in other operations, rebuild TensorFlow with the appropriate compiler flags.\n",
      "2021-11-03 13:59:50.091780: I tensorflow/compiler/jit/xla_gpu_device.cc:99] Not creating XLA devices, tf_xla_enable_xla_devices not set\n"
     ]
    }
   ],
   "source": [
    "rede_neural = tf.keras.models.Sequential()\n",
    "rede_neural.add(tf.keras.layers.Dense(units=4, activation='relu', input_shape=(6,)))\n",
    "rede_neural.add(tf.keras.layers.Dense(units=4, activation='relu'))\n",
    "rede_neural.add(tf.keras.layers.Dense(units=4, activation='relu'))\n",
    "rede_neural.add(tf.keras.layers.Dense(units=1, activation='sigmoid'))"
   ]
  },
  {
   "cell_type": "code",
   "execution_count": 19,
   "metadata": {
    "colab": {
     "base_uri": "https://localhost:8080/"
    },
    "id": "CAJjmKJ77XCg",
    "outputId": "724feb57-c82e-4027-c40d-5d91343e1136"
   },
   "outputs": [
    {
     "name": "stdout",
     "output_type": "stream",
     "text": [
      "Model: \"sequential\"\n",
      "_________________________________________________________________\n",
      "Layer (type)                 Output Shape              Param #   \n",
      "=================================================================\n",
      "dense (Dense)                (None, 4)                 28        \n",
      "_________________________________________________________________\n",
      "dense_1 (Dense)              (None, 4)                 20        \n",
      "_________________________________________________________________\n",
      "dense_2 (Dense)              (None, 4)                 20        \n",
      "_________________________________________________________________\n",
      "dense_3 (Dense)              (None, 1)                 5         \n",
      "=================================================================\n",
      "Total params: 73\n",
      "Trainable params: 73\n",
      "Non-trainable params: 0\n",
      "_________________________________________________________________\n"
     ]
    }
   ],
   "source": [
    "rede_neural.summary()"
   ]
  },
  {
   "cell_type": "code",
   "execution_count": 20,
   "metadata": {
    "id": "LEXtNCPf7ffI"
   },
   "outputs": [],
   "source": [
    "# Otimizador Adam\n",
    "rede_neural.compile(optimizer='Adam', loss='binary_crossentropy', metrics = ['accuracy'])\n",
    "\n",
    "# Otimizador SGD\n",
    "#rede_neural.compile(optimizer='sgd', loss='binary_crossentropy', metrics = ['accuracy'])"
   ]
  },
  {
   "cell_type": "code",
   "execution_count": null,
   "metadata": {
    "colab": {
     "base_uri": "https://localhost:8080/",
     "height": 163
    },
    "id": "rK7BObgPr4ff",
    "outputId": "a9fec8bf-feb3-46e1-8749-45792ed6e9ef"
   },
   "outputs": [],
   "source": [
    "rede_neural.tf.strings.to_number(x, out_type=tf.float32)"
   ]
  },
  {
   "cell_type": "code",
   "execution_count": 32,
   "metadata": {
    "colab": {
     "base_uri": "https://localhost:8080/",
     "height": 1000
    },
    "id": "k4kcFjJ577OG",
    "outputId": "a075ed75-8aa3-402f-8a6c-5784ff6f2c97"
   },
   "outputs": [
    {
     "name": "stdout",
     "output_type": "stream",
     "text": [
      "Epoch 1/50\n",
      "7/7 [==============================] - 0s 16ms/step - loss: 0.6935 - accuracy: 0.4952 - val_loss: 0.6894 - val_accuracy: 0.5833\n",
      "Epoch 2/50\n",
      "7/7 [==============================] - 0s 9ms/step - loss: 0.6928 - accuracy: 0.5000 - val_loss: 0.6883 - val_accuracy: 0.5833\n",
      "Epoch 3/50\n",
      "7/7 [==============================] - 0s 10ms/step - loss: 0.6920 - accuracy: 0.5048 - val_loss: 0.6873 - val_accuracy: 0.6250\n",
      "Epoch 4/50\n",
      "7/7 [==============================] - 0s 9ms/step - loss: 0.6914 - accuracy: 0.5095 - val_loss: 0.6861 - val_accuracy: 0.6250\n",
      "Epoch 5/50\n",
      "7/7 [==============================] - 0s 9ms/step - loss: 0.6907 - accuracy: 0.5095 - val_loss: 0.6852 - val_accuracy: 0.6250\n",
      "Epoch 6/50\n",
      "7/7 [==============================] - 0s 7ms/step - loss: 0.6902 - accuracy: 0.5143 - val_loss: 0.6838 - val_accuracy: 0.6250\n",
      "Epoch 7/50\n",
      "7/7 [==============================] - 0s 7ms/step - loss: 0.6896 - accuracy: 0.5143 - val_loss: 0.6827 - val_accuracy: 0.6250\n",
      "Epoch 8/50\n",
      "7/7 [==============================] - 0s 8ms/step - loss: 0.6888 - accuracy: 0.5190 - val_loss: 0.6819 - val_accuracy: 0.6250\n",
      "Epoch 9/50\n",
      "7/7 [==============================] - 0s 9ms/step - loss: 0.6883 - accuracy: 0.5190 - val_loss: 0.6809 - val_accuracy: 0.6250\n",
      "Epoch 10/50\n",
      "7/7 [==============================] - 0s 9ms/step - loss: 0.6879 - accuracy: 0.5238 - val_loss: 0.6798 - val_accuracy: 0.6250\n",
      "Epoch 11/50\n",
      "7/7 [==============================] - 0s 9ms/step - loss: 0.6872 - accuracy: 0.5286 - val_loss: 0.6790 - val_accuracy: 0.6250\n",
      "Epoch 12/50\n",
      "7/7 [==============================] - 0s 9ms/step - loss: 0.6867 - accuracy: 0.5333 - val_loss: 0.6780 - val_accuracy: 0.6250\n",
      "Epoch 13/50\n",
      "7/7 [==============================] - 0s 9ms/step - loss: 0.6862 - accuracy: 0.5333 - val_loss: 0.6770 - val_accuracy: 0.6250\n",
      "Epoch 14/50\n",
      "7/7 [==============================] - 0s 8ms/step - loss: 0.6857 - accuracy: 0.5333 - val_loss: 0.6759 - val_accuracy: 0.6250\n",
      "Epoch 15/50\n",
      "7/7 [==============================] - 0s 9ms/step - loss: 0.6852 - accuracy: 0.5333 - val_loss: 0.6749 - val_accuracy: 0.6250\n",
      "Epoch 16/50\n",
      "7/7 [==============================] - 0s 9ms/step - loss: 0.6846 - accuracy: 0.5333 - val_loss: 0.6739 - val_accuracy: 0.6250\n",
      "Epoch 17/50\n",
      "7/7 [==============================] - 0s 7ms/step - loss: 0.6841 - accuracy: 0.5333 - val_loss: 0.6730 - val_accuracy: 0.6250\n",
      "Epoch 18/50\n",
      "7/7 [==============================] - 0s 8ms/step - loss: 0.6837 - accuracy: 0.5333 - val_loss: 0.6719 - val_accuracy: 0.6250\n",
      "Epoch 19/50\n",
      "7/7 [==============================] - 0s 8ms/step - loss: 0.6832 - accuracy: 0.5333 - val_loss: 0.6710 - val_accuracy: 0.6250\n",
      "Epoch 20/50\n",
      "7/7 [==============================] - 0s 7ms/step - loss: 0.6826 - accuracy: 0.5333 - val_loss: 0.6702 - val_accuracy: 0.6250\n",
      "Epoch 21/50\n",
      "7/7 [==============================] - 0s 7ms/step - loss: 0.6822 - accuracy: 0.5333 - val_loss: 0.6690 - val_accuracy: 0.6250\n",
      "Epoch 22/50\n",
      "7/7 [==============================] - 0s 10ms/step - loss: 0.6816 - accuracy: 0.5333 - val_loss: 0.6679 - val_accuracy: 0.6250\n",
      "Epoch 23/50\n",
      "7/7 [==============================] - 0s 8ms/step - loss: 0.6811 - accuracy: 0.5333 - val_loss: 0.6665 - val_accuracy: 0.6250\n",
      "Epoch 24/50\n",
      "7/7 [==============================] - 0s 7ms/step - loss: 0.6804 - accuracy: 0.5333 - val_loss: 0.6655 - val_accuracy: 0.6250\n",
      "Epoch 25/50\n",
      "7/7 [==============================] - 0s 8ms/step - loss: 0.6798 - accuracy: 0.5333 - val_loss: 0.6645 - val_accuracy: 0.6250\n",
      "Epoch 26/50\n",
      "7/7 [==============================] - 0s 9ms/step - loss: 0.6792 - accuracy: 0.5333 - val_loss: 0.6634 - val_accuracy: 0.6250\n",
      "Epoch 27/50\n",
      "7/7 [==============================] - 0s 9ms/step - loss: 0.6787 - accuracy: 0.5333 - val_loss: 0.6624 - val_accuracy: 0.6250\n",
      "Epoch 28/50\n",
      "7/7 [==============================] - 0s 10ms/step - loss: 0.6782 - accuracy: 0.5333 - val_loss: 0.6613 - val_accuracy: 0.6250\n",
      "Epoch 29/50\n",
      "7/7 [==============================] - 0s 9ms/step - loss: 0.6777 - accuracy: 0.5381 - val_loss: 0.6602 - val_accuracy: 0.6250\n",
      "Epoch 30/50\n",
      "7/7 [==============================] - 0s 9ms/step - loss: 0.6771 - accuracy: 0.5381 - val_loss: 0.6592 - val_accuracy: 0.6250\n",
      "Epoch 31/50\n",
      "7/7 [==============================] - 0s 9ms/step - loss: 0.6766 - accuracy: 0.5381 - val_loss: 0.6582 - val_accuracy: 0.6250\n",
      "Epoch 32/50\n",
      "7/7 [==============================] - 0s 9ms/step - loss: 0.6760 - accuracy: 0.5381 - val_loss: 0.6571 - val_accuracy: 0.6250\n",
      "Epoch 33/50\n",
      "7/7 [==============================] - 0s 17ms/step - loss: 0.6752 - accuracy: 0.5381 - val_loss: 0.6559 - val_accuracy: 0.6250\n",
      "Epoch 34/50\n",
      "7/7 [==============================] - 0s 12ms/step - loss: 0.6742 - accuracy: 0.5381 - val_loss: 0.6546 - val_accuracy: 0.6250\n",
      "Epoch 35/50\n",
      "7/7 [==============================] - 0s 8ms/step - loss: 0.6731 - accuracy: 0.5381 - val_loss: 0.6534 - val_accuracy: 0.6250\n",
      "Epoch 36/50\n",
      "7/7 [==============================] - 0s 10ms/step - loss: 0.6724 - accuracy: 0.5381 - val_loss: 0.6523 - val_accuracy: 0.6250\n",
      "Epoch 37/50\n",
      "7/7 [==============================] - 0s 10ms/step - loss: 0.6717 - accuracy: 0.5381 - val_loss: 0.6513 - val_accuracy: 0.6250\n",
      "Epoch 38/50\n",
      "7/7 [==============================] - 0s 10ms/step - loss: 0.6709 - accuracy: 0.5381 - val_loss: 0.6502 - val_accuracy: 0.6250\n",
      "Epoch 39/50\n",
      "7/7 [==============================] - 0s 9ms/step - loss: 0.6703 - accuracy: 0.5381 - val_loss: 0.6490 - val_accuracy: 0.6250\n",
      "Epoch 40/50\n",
      "7/7 [==============================] - 0s 10ms/step - loss: 0.6697 - accuracy: 0.5381 - val_loss: 0.6478 - val_accuracy: 0.6250\n",
      "Epoch 41/50\n",
      "7/7 [==============================] - 0s 10ms/step - loss: 0.6689 - accuracy: 0.5381 - val_loss: 0.6469 - val_accuracy: 0.6250\n",
      "Epoch 42/50\n",
      "7/7 [==============================] - 0s 9ms/step - loss: 0.6683 - accuracy: 0.5381 - val_loss: 0.6462 - val_accuracy: 0.6250\n",
      "Epoch 43/50\n",
      "7/7 [==============================] - 0s 10ms/step - loss: 0.6677 - accuracy: 0.5381 - val_loss: 0.6454 - val_accuracy: 0.6250\n",
      "Epoch 44/50\n",
      "7/7 [==============================] - 0s 15ms/step - loss: 0.6672 - accuracy: 0.5381 - val_loss: 0.6444 - val_accuracy: 0.6250\n",
      "Epoch 45/50\n",
      "7/7 [==============================] - 0s 11ms/step - loss: 0.6665 - accuracy: 0.5381 - val_loss: 0.6437 - val_accuracy: 0.6250\n",
      "Epoch 46/50\n",
      "7/7 [==============================] - 0s 10ms/step - loss: 0.6658 - accuracy: 0.5381 - val_loss: 0.6427 - val_accuracy: 0.6250\n",
      "Epoch 47/50\n",
      "7/7 [==============================] - 0s 10ms/step - loss: 0.6651 - accuracy: 0.5381 - val_loss: 0.6415 - val_accuracy: 0.6250\n",
      "Epoch 48/50\n",
      "7/7 [==============================] - 0s 10ms/step - loss: 0.6642 - accuracy: 0.5381 - val_loss: 0.6404 - val_accuracy: 0.6250\n",
      "Epoch 49/50\n",
      "7/7 [==============================] - 0s 12ms/step - loss: 0.6634 - accuracy: 0.5381 - val_loss: 0.6388 - val_accuracy: 0.6250\n",
      "Epoch 50/50\n",
      "7/7 [==============================] - 0s 10ms/step - loss: 0.6625 - accuracy: 0.5381 - val_loss: 0.6371 - val_accuracy: 0.6250\n"
     ]
    }
   ],
   "source": [
    "#model.fit(X_train, y_train, nb_epoch=3, batch_size=16, verbose=1)\n",
    "#historico = rede_neural.fit(X_treinamento, y_treinamento, epochs=50, validation_split=0.1)\n",
    "\n",
    "historico = rede_neural.fit(X_treinamento, y_treinamento, epochs=50, validation_split=0.1)"
   ]
  },
  {
   "cell_type": "markdown",
   "metadata": {
    "id": "P-qMzGAQwZVM"
   },
   "source": [
    "## Avaliação da rede neural"
   ]
  },
  {
   "cell_type": "code",
   "execution_count": 33,
   "metadata": {
    "id": "E5ffRZGK9Q6I"
   },
   "outputs": [
    {
     "data": {
      "text/plain": [
       "dict_keys(['loss', 'accuracy', 'val_loss', 'val_accuracy'])"
      ]
     },
     "execution_count": 33,
     "metadata": {},
     "output_type": "execute_result"
    }
   ],
   "source": [
    "historico.history.keys()"
   ]
  },
  {
   "cell_type": "code",
   "execution_count": 34,
   "metadata": {
    "id": "kK_H5gDi9Xm9"
   },
   "outputs": [
    {
     "data": {
      "text/plain": [
       "[<matplotlib.lines.Line2D at 0x7f382bee4370>]"
      ]
     },
     "execution_count": 34,
     "metadata": {},
     "output_type": "execute_result"
    },
    {
     "data": {
      "image/png": "[encoded data removed]",
      "text/plain": [
       "<Figure size 432x288 with 1 Axes>"
      ]
     },
     "metadata": {
      "needs_background": "light"
     },
     "output_type": "display_data"
    }
   ],
   "source": [
    "plt.plot(historico.history['val_loss'])"
   ]
  },
  {
   "cell_type": "code",
   "execution_count": 35,
   "metadata": {
    "id": "6l6rGgUc9n2L"
   },
   "outputs": [
    {
     "data": {
      "text/plain": [
       "[<matplotlib.lines.Line2D at 0x7f382b666940>]"
      ]
     },
     "execution_count": 35,
     "metadata": {},
     "output_type": "execute_result"
    },
    {
     "data": {
      "image/png": "[encoded data removed]",
      "text/plain": [
       "<Figure size 432x288 with 1 Axes>"
      ]
     },
     "metadata": {
      "needs_background": "light"
     },
     "output_type": "display_data"
    }
   ],
   "source": [
    "plt.plot(historico.history['val_accuracy'])"
   ]
  },
  {
   "cell_type": "code",
   "execution_count": 36,
   "metadata": {
    "id": "yT0imr8W9yBa"
   },
   "outputs": [
    {
     "data": {
      "text/plain": [
       "array([[0.48283365],\n",
       "       [0.41435617],\n",
       "       [0.41435617],\n",
       "       [0.47241506],\n",
       "       [0.45158   ],\n",
       "       [0.44274563],\n",
       "       [0.49286145],\n",
       "       [0.457576  ],\n",
       "       [0.41435617],\n",
       "       [0.41435617],\n",
       "       [0.45198902],\n",
       "       [0.41435617],\n",
       "       [0.4515516 ],\n",
       "       [0.41435617],\n",
       "       [0.41435617],\n",
       "       [0.44978648],\n",
       "       [0.45103028],\n",
       "       [0.4509061 ],\n",
       "       [0.49286145],\n",
       "       [0.44820067],\n",
       "       [0.41435617],\n",
       "       [0.49286145],\n",
       "       [0.49286145],\n",
       "       [0.41435617],\n",
       "       [0.41435617],\n",
       "       [0.45209804],\n",
       "       [0.49286145],\n",
       "       [0.41435617],\n",
       "       [0.45182317],\n",
       "       [0.41435617],\n",
       "       [0.45172703],\n",
       "       [0.49286145],\n",
       "       [0.41435617],\n",
       "       [0.41435617],\n",
       "       [0.41435617],\n",
       "       [0.49286145],\n",
       "       [0.41435617],\n",
       "       [0.41435617],\n",
       "       [0.47730264],\n",
       "       [0.41435617],\n",
       "       [0.4493992 ],\n",
       "       [0.49286145],\n",
       "       [0.41435617],\n",
       "       [0.41435617],\n",
       "       [0.41435617],\n",
       "       [0.41435617],\n",
       "       [0.41435617],\n",
       "       [0.41435617],\n",
       "       [0.41435617],\n",
       "       [0.41435617],\n",
       "       [0.4517765 ],\n",
       "       [0.44893366],\n",
       "       [0.41435617],\n",
       "       [0.49286145],\n",
       "       [0.44228098],\n",
       "       [0.45227695],\n",
       "       [0.41435617],\n",
       "       [0.45209986],\n",
       "       [0.41435617]], dtype=float32)"
      ]
     },
     "execution_count": 36,
     "metadata": {},
     "output_type": "execute_result"
    }
   ],
   "source": [
    "previsoes = rede_neural.predict(X_teste)\n",
    "previsoes"
   ]
  },
  {
   "cell_type": "code",
   "execution_count": 37,
   "metadata": {
    "id": "--kBZHRt-Si9"
   },
   "outputs": [],
   "source": [
    "# 1 True - Bart\n",
    "# 0 False - Homer"
   ]
  },
  {
   "cell_type": "code",
   "execution_count": 38,
   "metadata": {
    "id": "XZj9imeG-cyy"
   },
   "outputs": [
    {
     "data": {
      "text/plain": [
       "array([[False],\n",
       "       [False],\n",
       "       [False],\n",
       "       [False],\n",
       "       [False],\n",
       "       [False],\n",
       "       [False],\n",
       "       [False],\n",
       "       [False],\n",
       "       [False],\n",
       "       [False],\n",
       "       [False],\n",
       "       [False],\n",
       "       [False],\n",
       "       [False],\n",
       "       [False],\n",
       "       [False],\n",
       "       [False],\n",
       "       [False],\n",
       "       [False],\n",
       "       [False],\n",
       "       [False],\n",
       "       [False],\n",
       "       [False],\n",
       "       [False],\n",
       "       [False],\n",
       "       [False],\n",
       "       [False],\n",
       "       [False],\n",
       "       [False],\n",
       "       [False],\n",
       "       [False],\n",
       "       [False],\n",
       "       [False],\n",
       "       [False],\n",
       "       [False],\n",
       "       [False],\n",
       "       [False],\n",
       "       [False],\n",
       "       [False],\n",
       "       [False],\n",
       "       [False],\n",
       "       [False],\n",
       "       [False],\n",
       "       [False],\n",
       "       [False],\n",
       "       [False],\n",
       "       [False],\n",
       "       [False],\n",
       "       [False],\n",
       "       [False],\n",
       "       [False],\n",
       "       [False],\n",
       "       [False],\n",
       "       [False],\n",
       "       [False],\n",
       "       [False],\n",
       "       [False],\n",
       "       [False]])"
      ]
     },
     "execution_count": 38,
     "metadata": {},
     "output_type": "execute_result"
    }
   ],
   "source": [
    "previsoes = (previsoes > 0.5)\n",
    "previsoes"
   ]
  },
  {
   "cell_type": "code",
   "execution_count": 28,
   "metadata": {
    "id": "_ELq2pJ6-xKL"
   },
   "outputs": [
    {
     "data": {
      "text/plain": [
       "array([ True,  True, False, False, False, False,  True,  True, False,\n",
       "       False, False, False, False,  True, False, False, False,  True,\n",
       "        True, False, False, False,  True,  True, False, False,  True,\n",
       "       False, False, False, False,  True, False, False, False,  True,\n",
       "        True, False, False, False, False,  True,  True, False, False,\n",
       "       False, False, False, False,  True,  True, False, False,  True,\n",
       "       False, False, False, False, False])"
      ]
     },
     "execution_count": 28,
     "metadata": {},
     "output_type": "execute_result"
    }
   ],
   "source": [
    "y_teste"
   ]
  },
  {
   "cell_type": "code",
   "execution_count": 39,
   "metadata": {
    "id": "tDT4-v0b-_qJ"
   },
   "outputs": [
    {
     "data": {
      "text/plain": [
       "0.6949152542372882"
      ]
     },
     "execution_count": 39,
     "metadata": {},
     "output_type": "execute_result"
    }
   ],
   "source": [
    "from sklearn.metrics import accuracy_score\n",
    "accuracy_score(previsoes, y_teste)"
   ]
  },
  {
   "cell_type": "code",
   "execution_count": 40,
   "metadata": {
    "id": "003Bc2Rh_Izf"
   },
   "outputs": [
    {
     "data": {
      "text/plain": [
       "array([[41,  0],\n",
       "       [18,  0]])"
      ]
     },
     "execution_count": 40,
     "metadata": {},
     "output_type": "execute_result"
    }
   ],
   "source": [
    "from sklearn.metrics import confusion_matrix\n",
    "cm = confusion_matrix(y_teste, previsoes)\n",
    "cm"
   ]
  },
  {
   "cell_type": "code",
   "execution_count": 41,
   "metadata": {
    "id": "2XRRlMmY_RQ1"
   },
   "outputs": [
    {
     "data": {
      "text/plain": [
       "<AxesSubplot:>"
      ]
     },
     "execution_count": 41,
     "metadata": {},
     "output_type": "execute_result"
    },
    {
     "data": {
      "image/png": "[encoded data removed]",
      "text/plain": [
       "<Figure size 432x288 with 2 Axes>"
      ]
     },
     "metadata": {
      "needs_background": "light"
     },
     "output_type": "display_data"
    }
   ],
   "source": [
    "sns.heatmap(cm, annot=True)"
   ]
  }
 ],
 "metadata": {
  "colab": {
   "include_colab_link": true,
   "name": "Cópia de Rede Neural TensorFlow Personagens.ipynb",
   "provenance": []
  },
  "kernelspec": {
   "display_name": "Python 3 (ipykernel)",
   "language": "python",
   "name": "python3"
  },
  "language_info": {
   "codemirror_mode": {
    "name": "ipython",
    "version": 3
   },
   "file_extension": ".py",
   "mimetype": "text/x-python",
   "name": "python",
   "nbconvert_exporter": "python",
   "pygments_lexer": "ipython3",
   "version": "3.8.8"
  }
 },
 "nbformat": 4,
 "nbformat_minor": 4
}

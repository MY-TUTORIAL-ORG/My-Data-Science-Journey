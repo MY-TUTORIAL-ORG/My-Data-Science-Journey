{
  "nbformat": 4,
  "nbformat_minor": 0,
  "metadata": {
    "colab": {
      "name": "Exercício Tratamento de erros e exceções.ipynb",
      "provenance": [],
      "collapsed_sections": [],
      "include_colab_link": true
    },
    "kernelspec": {
      "name": "python3",
      "display_name": "Python 3"
    }
  },
  "cells": [
    {
      "cell_type": "markdown",
      "metadata": {
        "id": "view-in-github",
        "colab_type": "text"
      },
      "source": [
        "<a href=\"https://colab.research.google.com/github/DataScience-2021/Guia-Completo-IA-01-Python/blob/main/Exerc%C3%ADcio_Tratamento_de_erros_e_exce%C3%A7%C3%B5es.ipynb\" target=\"_parent\"><img src=\"https://colab.research.google.com/assets/colab-badge.svg\" alt=\"Open In Colab\"/></a>"
      ]
    },
    {
      "cell_type": "markdown",
      "metadata": {
        "id": "OsYdsrx-AVXI"
      },
      "source": [
        "# Exercício 1\n",
        "\n",
        "Crie uma lista vazia e faça a leitura de dois valores do tipo float, colocando cada um dos valores nas primeiras posições da lista (o valor1 ficará na posição 0 da lista e o valor2 ficará na posição 1 da lista). Faça a divisão dos dois valores e trate as seguintes exceções\n",
        "- ValueError: se o usuário digitar um caracter\n",
        "- ZeroDivisionError: se o usuário digitar zero e ocorrer erro na divisão\n",
        "- IndexError: caso a divisão seja feita levando em consideração posições que não existem na lista\n",
        "- KeyboardInterrupt: caso o usuário interrompa a execução\n",
        "\n",
        "Mostra uma mensagem personalizada na ocorrência de cada um desses erros"
      ]
    },
    {
      "cell_type": "code",
      "metadata": {
        "id": "UHlExDgoMK6Z",
        "colab": {
          "base_uri": "https://localhost:8080/"
        },
        "outputId": "6fa3c897-f0e9-4b08-dd29-9ab5d9f4abed"
      },
      "source": [
        "lista = []\n",
        "try:\n",
        "  lista.append(float(input('Digite o primeiro valor: ')))\n",
        "  lista.append(float(input('Digite o segundo valor: ')))\n",
        "  divisao = lista[0] / lista[1]\n",
        "except ValueError:\n",
        "  print('Erro! Valor inválido')\n",
        "except ZeroDivisionError:\n",
        "  print('Erro! Divisão por zero')\n",
        "except IndexError:\n",
        "  print('Erro! Índice inválido')\n",
        "except KeyboardInterrupt:\n",
        "  print('Usuário interrompeu a execução')\n",
        "else:\n",
        "  print(f'A divisão é {divisao}')"
      ],
      "execution_count": 1,
      "outputs": [
        {
          "output_type": "stream",
          "name": "stdout",
          "text": [
            "Digite o primeiro valor: 100\n",
            "Digite o segundo valor: 5\n",
            "A divisão é 20.0\n"
          ]
        }
      ]
    }
  ]
}
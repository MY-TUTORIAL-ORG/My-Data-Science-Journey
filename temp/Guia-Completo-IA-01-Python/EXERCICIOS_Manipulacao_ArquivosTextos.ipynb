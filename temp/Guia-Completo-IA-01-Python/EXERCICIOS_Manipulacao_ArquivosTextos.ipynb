{
  "nbformat": 4,
  "nbformat_minor": 0,
  "metadata": {
    "colab": {
      "name": "Exercicios_Manipulacao_ArquivosTextos.ipynb",
      "provenance": [],
      "authorship_tag": "ABX9TyPKYAfi3/lMxijA/iopNgO7",
      "include_colab_link": true
    },
    "kernelspec": {
      "name": "python3",
      "display_name": "Python 3"
    },
    "language_info": {
      "name": "python"
    }
  },
  "cells": [
    {
      "cell_type": "markdown",
      "metadata": {
        "id": "view-in-github",
        "colab_type": "text"
      },
      "source": [
        "<a href=\"https://colab.research.google.com/github/DataScience-2021/Guia-Completo-IA-01-Python/blob/main/EXERCICIOS_Manipulacao_ArquivosTextos.ipynb\" target=\"_parent\"><img src=\"https://colab.research.google.com/assets/colab-badge.svg\" alt=\"Open In Colab\"/></a>"
      ]
    },
    {
      "cell_type": "markdown",
      "metadata": {
        "id": "IV87r8kCCeFM"
      },
      "source": [
        "# Exercício 01\n"
      ]
    },
    {
      "cell_type": "markdown",
      "metadata": {
        "id": "mgNtkGogCias"
      },
      "source": [
        "Considerando o dicionário com o nome dos alunos e suas respectivas notas abaixo, crie uma estrutura de repetição para percorrer cada elemento do dicionário para gravar cada aluno em um novo arquivo de texto\n",
        "- Cada aluno deve ocupar uma linha do novo arquivo de texto\n",
        "- O formato deve ser: nome,nota (Pedro,8.0)\n",
        "- Após a criação do arquivo de texto, faça a leitura do arquivo e mostre todos os alunos\n",
        "\n",
        "alunos = {'Pedro': 8.0, 'Maria': 10.0, 'Amilton': 7.5}"
      ]
    },
    {
      "cell_type": "code",
      "metadata": {
        "id": "Evj0QfVk2WJM"
      },
      "source": [
        "alunos = {'Pedro': 8.0, 'Maria': 10.0, 'Amilton': 7.5}"
      ],
      "execution_count": 6,
      "outputs": []
    },
    {
      "cell_type": "code",
      "metadata": {
        "id": "W3G3hlt22Z2S",
        "outputId": "d155f8ec-4337-4ab9-d649-bdf09ddbd5b1",
        "colab": {
          "base_uri": "https://localhost:8080/"
        }
      },
      "source": [
        "alunos"
      ],
      "execution_count": 7,
      "outputs": [
        {
          "output_type": "execute_result",
          "data": {
            "text/plain": [
              "{'Amilton': 7.5, 'Maria': 10.0, 'Pedro': 8.0}"
            ]
          },
          "metadata": {},
          "execution_count": 7
        }
      ]
    },
    {
      "cell_type": "code",
      "metadata": {
        "id": "plQj73IG3-Rk"
      },
      "source": [
        "alunos['Andre']=5.5"
      ],
      "execution_count": 11,
      "outputs": []
    },
    {
      "cell_type": "code",
      "metadata": {
        "id": "K2WR15I64XPM"
      },
      "source": [
        "alunos['Luiz']=6.5\n",
        "alunos['Durval']=6.5\n",
        "alunos['Marilda']=6.5\n"
      ],
      "execution_count": 13,
      "outputs": []
    },
    {
      "cell_type": "code",
      "metadata": {
        "id": "YuqpXDsw2n1z"
      },
      "source": [
        "with open('arquivo.txt', mode='w') as arquivo:\n",
        "  for aluno,nota in alunos.items():\n",
        "    arquivo.write(f'{aluno},{nota}\\n')"
      ],
      "execution_count": 15,
      "outputs": []
    },
    {
      "cell_type": "code",
      "metadata": {
        "id": "H4odGYf93qWT",
        "outputId": "73843d02-588b-4871-d663-3be38ade2703",
        "colab": {
          "base_uri": "https://localhost:8080/"
        }
      },
      "source": [
        "with open('arquivo.txt', mode='r') as arquivo1:\n",
        "  for linha in arquivo1:\n",
        "    print(linha)\n"
      ],
      "execution_count": 16,
      "outputs": [
        {
          "output_type": "stream",
          "name": "stdout",
          "text": [
            "Pedro,8.0\n",
            "\n",
            "Maria,10.0\n",
            "\n",
            "Amilton,7.5\n",
            "\n",
            "Andre,5.5\n",
            "\n",
            "Luiz,6.5\n",
            "\n",
            "Durval,6.5\n",
            "\n",
            "Marilda,6.5\n",
            "\n"
          ]
        }
      ]
    },
    {
      "cell_type": "markdown",
      "metadata": {
        "id": "jKSzPqs-2adK"
      },
      "source": [
        "----------------------------------------------------------------- Rascunho\n"
      ]
    },
    {
      "cell_type": "markdown",
      "metadata": {
        "id": "VjWU0RpI3d2z"
      },
      "source": [
        "# Rascunho"
      ]
    },
    {
      "cell_type": "code",
      "metadata": {
        "id": "LacoBrjcCjYa"
      },
      "source": [
        "alunos={}"
      ],
      "execution_count": 5,
      "outputs": []
    },
    {
      "cell_type": "code",
      "metadata": {
        "id": "ogsni0x1zwPz"
      },
      "source": [
        "nome=input('Entre com o nome do aluno  > ')\n",
        "nota=input('Entre com a nota do aluno  > ')\n",
        "alunos.append(nome:nota)"
      ],
      "execution_count": null,
      "outputs": []
    },
    {
      "cell_type": "code",
      "metadata": {
        "id": "7Va62u4S0Xjs",
        "outputId": "122fbf3e-23c0-4406-f1d0-3a2328668316",
        "colab": {
          "base_uri": "https://localhost:8080/"
        }
      },
      "source": [
        "my_dict = {\"Name\":[],\"Address\":[],\"Age\":[]};\n",
        "\n",
        "my_dict[\"Name\"].append(\"Guru\")\n",
        "my_dict[\"Address\"].append(\"Mumbai\")\n",
        "my_dict[\"Age\"].append(30)\t\n",
        "print(my_dict)"
      ],
      "execution_count": 3,
      "outputs": [
        {
          "output_type": "stream",
          "name": "stdout",
          "text": [
            "{'Name': ['Guru'], 'Address': ['Mumbai'], 'Age': [30]}\n"
          ]
        }
      ]
    },
    {
      "cell_type": "code",
      "metadata": {
        "id": "KpEcKYFR0obM",
        "outputId": "013c63dd-dc97-4711-b89d-3715b5818820",
        "colab": {
          "base_uri": "https://localhost:8080/"
        }
      },
      "source": [
        "my_dict = {\"username\": \"XYZ\", \"email\": \"xyz@gmail.com\", \"location\":\"Mumbai\"}\n",
        "print(\"username :\", my_dict['username'])\n",
        "print(\"email : \", my_dict[\"email\"])\n",
        "print(\"location : \", my_dict[\"location\"])"
      ],
      "execution_count": 4,
      "outputs": [
        {
          "output_type": "stream",
          "name": "stdout",
          "text": [
            "username : XYZ\n",
            "email :  xyz@gmail.com\n",
            "location :  Mumbai\n"
          ]
        }
      ]
    }
  ]
}
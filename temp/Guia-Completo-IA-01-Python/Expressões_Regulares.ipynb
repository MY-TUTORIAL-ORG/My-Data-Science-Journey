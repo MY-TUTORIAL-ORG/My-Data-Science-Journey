{
  "nbformat": 4,
  "nbformat_minor": 0,
  "metadata": {
    "colab": {
      "name": "Expressões Regulares.ipynb",
      "provenance": [],
      "collapsed_sections": [],
      "include_colab_link": true
    },
    "kernelspec": {
      "name": "python3",
      "display_name": "Python 3"
    }
  },
  "cells": [
    {
      "cell_type": "markdown",
      "metadata": {
        "id": "view-in-github",
        "colab_type": "text"
      },
      "source": [
        "<a href=\"https://colab.research.google.com/github/DataScience-2021/Guia-Completo-IA-01-Python/blob/main/Express%C3%B5es_Regulares.ipynb\" target=\"_parent\"><img src=\"https://colab.research.google.com/assets/colab-badge.svg\" alt=\"Open In Colab\"/></a>"
      ]
    },
    {
      "cell_type": "markdown",
      "metadata": {
        "id": "WvOV4VN9sHvj"
      },
      "source": [
        "# Expressões regulares"
      ]
    },
    {
      "cell_type": "markdown",
      "metadata": {
        "id": "Nk_w40LW0itn"
      },
      "source": [
        "## Função search"
      ]
    },
    {
      "cell_type": "code",
      "metadata": {
        "id": "Aj1dc_c2uZDl"
      },
      "source": [
        "import re"
      ],
      "execution_count": 1,
      "outputs": []
    },
    {
      "cell_type": "code",
      "metadata": {
        "id": "hFhDZWgGsKQO"
      },
      "source": [
        "frase = 'Olá, meu número de telefone é (42)666136-69171 (21)0000-0000'"
      ],
      "execution_count": 31,
      "outputs": []
    },
    {
      "cell_type": "code",
      "metadata": {
        "id": "VwySoStwUwDx"
      },
      "source": [
        "email1='gabrielcosta@hotmail.com'\n",
        "email2='felipearruda@gmail.com'\n",
        "email3='joaosilva@yahoo.com.br'"
      ],
      "execution_count": 3,
      "outputs": []
    },
    {
      "cell_type": "code",
      "metadata": {
        "id": "o9YK4zkYU_aI"
      },
      "source": [
        "teste=re.search('\\w+@+\\w+\\.w+',email1)"
      ],
      "execution_count": 5,
      "outputs": []
    },
    {
      "cell_type": "code",
      "metadata": {
        "id": "YN4SeCwEVZzw"
      },
      "source": [
        "teste"
      ],
      "execution_count": 6,
      "outputs": []
    },
    {
      "cell_type": "code",
      "metadata": {
        "id": "qPnO9HmAReeL",
        "colab": {
          "base_uri": "https://localhost:8080/"
        },
        "outputId": "c4f4206f-0a6f-4326-9468-74624aa9713a"
      },
      "source": [
        "re.search('\\(\\d{2}\\)\\d{4,5}-\\d{4}', frase)"
      ],
      "execution_count": 32,
      "outputs": [
        {
          "output_type": "execute_result",
          "data": {
            "text/plain": [
              "<re.Match object; span=(47, 60), match='(21)0000-0000'>"
            ]
          },
          "metadata": {},
          "execution_count": 32
        }
      ]
    },
    {
      "cell_type": "code",
      "metadata": {
        "id": "LitwIAjDwRXM"
      },
      "source": [
        "frase = 'A placa de carro que eu anotei durante o acidente foi FrT-1998'"
      ],
      "execution_count": 33,
      "outputs": []
    },
    {
      "cell_type": "markdown",
      "metadata": {
        "id": "Mu0-yFkNYQIJ"
      },
      "source": [
        ""
      ]
    },
    {
      "cell_type": "code",
      "metadata": {
        "id": "Yy50jNO9SYU6",
        "colab": {
          "base_uri": "https://localhost:8080/"
        },
        "outputId": "482ec468-7d5e-4575-f7b6-8dd43d4dae96"
      },
      "source": [
        "re.search('[A-Za-z]{3}-\\d{4}', frase)"
      ],
      "execution_count": 34,
      "outputs": [
        {
          "output_type": "execute_result",
          "data": {
            "text/plain": [
              "<re.Match object; span=(54, 62), match='FrT-1998'>"
            ]
          },
          "metadata": {},
          "execution_count": 34
        }
      ]
    },
    {
      "cell_type": "code",
      "metadata": {
        "id": "JZ9iXCw4w4o7"
      },
      "source": [
        "email = 'Entre em contato, meu email é teste@teste.com andre@yxi#com andre@yxi.com teste1@teste1.com teste2@teste2.com teste3@teste3.com '"
      ],
      "execution_count": 44,
      "outputs": []
    },
    {
      "cell_type": "code",
      "metadata": {
        "id": "Jf9J4PZYSv3_",
        "colab": {
          "base_uri": "https://localhost:8080/"
        },
        "outputId": "42769d7c-e955-4670-af9d-cadea9a78c4a"
      },
      "source": [
        "re.search('\\w+@\\w+\\.com', email)"
      ],
      "execution_count": 40,
      "outputs": [
        {
          "output_type": "execute_result",
          "data": {
            "text/plain": [
              "<re.Match object; span=(60, 73), match='andre@yxi.com'>"
            ]
          },
          "metadata": {},
          "execution_count": 40
        }
      ]
    },
    {
      "cell_type": "code",
      "metadata": {
        "id": "1ueayJJPY5xg",
        "outputId": "ae1413b5-2359-4a79-8fa8-929be98da870",
        "colab": {
          "base_uri": "https://localhost:8080/"
        }
      },
      "source": [
        "re.findall('\\w+@\\w+\\.com', email)"
      ],
      "execution_count": 45,
      "outputs": [
        {
          "output_type": "execute_result",
          "data": {
            "text/plain": [
              "['teste@teste.com',\n",
              " 'andre@yxi.com',\n",
              " 'teste1@teste1.com',\n",
              " 'teste2@teste2.com',\n",
              " 'teste3@teste3.com']"
            ]
          },
          "metadata": {},
          "execution_count": 45
        }
      ]
    },
    {
      "cell_type": "markdown",
      "metadata": {
        "id": "wZziwezSxZNR"
      },
      "source": [
        "## Função match"
      ]
    },
    {
      "cell_type": "code",
      "metadata": {
        "id": "q2MZ-5urxep0"
      },
      "source": [
        "frase = 'A placa de carro que eu anotei durante a batida foi FRT-1998'"
      ],
      "execution_count": 13,
      "outputs": []
    },
    {
      "cell_type": "code",
      "metadata": {
        "id": "esPXSYM6TMIt",
        "colab": {
          "base_uri": "https://localhost:8080/"
        },
        "outputId": "f7ccf6c6-020d-4f42-cc9f-f6010a262799"
      },
      "source": [
        "print(re.match('[A-Za-z]{3}-\\d{4}', frase))"
      ],
      "execution_count": 14,
      "outputs": [
        {
          "output_type": "stream",
          "name": "stdout",
          "text": [
            "None\n"
          ]
        }
      ]
    },
    {
      "cell_type": "code",
      "metadata": {
        "id": "ahPvZA8Ax5E8"
      },
      "source": [
        "frase2 = 'FRT-1998 é a placa do carro'"
      ],
      "execution_count": 15,
      "outputs": []
    },
    {
      "cell_type": "code",
      "metadata": {
        "id": "GgVEH8sjTVqh",
        "colab": {
          "base_uri": "https://localhost:8080/"
        },
        "outputId": "d6ceace7-ba39-4b69-c3b9-43d5e64b0f0b"
      },
      "source": [
        "print(re.match('[A-Za-z]{3}-\\d{4}', frase2))"
      ],
      "execution_count": 16,
      "outputs": [
        {
          "output_type": "stream",
          "name": "stdout",
          "text": [
            "<re.Match object; span=(0, 8), match='FRT-1998'>\n"
          ]
        }
      ]
    },
    {
      "cell_type": "markdown",
      "metadata": {
        "id": "7OJHsCbkyzV6"
      },
      "source": [
        "## Função findall"
      ]
    },
    {
      "cell_type": "code",
      "metadata": {
        "id": "nAiqJkNJy-gs"
      },
      "source": [
        "frase3 = 'Meu número de telefone atual é (42)0000-0000. O número (56)1111-1111 é o antigo'"
      ],
      "execution_count": 46,
      "outputs": []
    },
    {
      "cell_type": "code",
      "metadata": {
        "id": "7wUHKwFuTj9P",
        "colab": {
          "base_uri": "https://localhost:8080/"
        },
        "outputId": "b022852b-4b7d-4207-acb3-c267def24610"
      },
      "source": [
        "re.findall('\\(\\d{2}\\)\\d{4,5}-\\d{4}', frase3)"
      ],
      "execution_count": 47,
      "outputs": [
        {
          "output_type": "execute_result",
          "data": {
            "text/plain": [
              "['(42)0000-0000', '(56)1111-1111']"
            ]
          },
          "metadata": {},
          "execution_count": 47
        }
      ]
    },
    {
      "cell_type": "code",
      "metadata": {
        "id": "UwyR0ezBzkqj"
      },
      "source": [
        "emails = '''Nome: Teste 1\n",
        "email: teste1@teste.com\n",
        "Nome: Teste 2\n",
        "email: teste2@teste.com\n",
        "Nome: Teste 3\n",
        "email: teste3@teste.com.br\n",
        "'''"
      ],
      "execution_count": 48,
      "outputs": []
    },
    {
      "cell_type": "code",
      "metadata": {
        "id": "-nGbc57NTvaT",
        "colab": {
          "base_uri": "https://localhost:8080/"
        },
        "outputId": "d9793f48-f117-46f5-caff-a8f33c15c29b"
      },
      "source": [
        "re.findall('\\w+@\\w+\\.\\w*', emails)"
      ],
      "execution_count": 49,
      "outputs": [
        {
          "output_type": "execute_result",
          "data": {
            "text/plain": [
              "['teste1@teste.com', 'teste2@teste.com', 'teste3@teste.com']"
            ]
          },
          "metadata": {},
          "execution_count": 49
        }
      ]
    }
  ]
}
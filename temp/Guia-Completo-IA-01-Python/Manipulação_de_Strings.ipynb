{
  "nbformat": 4,
  "nbformat_minor": 0,
  "metadata": {
    "colab": {
      "name": "Manipulação de Strings.ipynb",
      "provenance": [],
      "collapsed_sections": [],
      "include_colab_link": true
    },
    "kernelspec": {
      "name": "python3",
      "display_name": "Python 3"
    }
  },
  "cells": [
    {
      "cell_type": "markdown",
      "metadata": {
        "id": "view-in-github",
        "colab_type": "text"
      },
      "source": [
        "<a href=\"https://colab.research.google.com/github/DataScience-2021/-Programacao-Python-Guia-Completo-IA/blob/main/Manipula%C3%A7%C3%A3o_de_Strings.ipynb\" target=\"_parent\"><img src=\"https://colab.research.google.com/assets/colab-badge.svg\" alt=\"Open In Colab\"/></a>"
      ]
    },
    {
      "cell_type": "markdown",
      "metadata": {
        "id": "eJbkoKIhVtuf"
      },
      "source": [
        "# Manipulação de strings"
      ]
    },
    {
      "cell_type": "code",
      "metadata": {
        "id": "TspZ9SRGqF1l",
        "colab": {
          "base_uri": "https://localhost:8080/"
        },
        "outputId": "2ee7c28f-d5ce-4ac0-d7c9-a82b896bdd0c"
      },
      "source": [
        "a = 'casacao'\n",
        "print(a)"
      ],
      "execution_count": 2,
      "outputs": [
        {
          "output_type": "stream",
          "name": "stdout",
          "text": [
            "casacao\n"
          ]
        }
      ]
    },
    {
      "cell_type": "code",
      "metadata": {
        "id": "ECcuB0rPqNLV",
        "colab": {
          "base_uri": "https://localhost:8080/"
        },
        "outputId": "9062bf12-7a31-42c6-912b-7329b272d369"
      },
      "source": [
        "maiuscula = a.upper()\n",
        "print(maiuscula)"
      ],
      "execution_count": 3,
      "outputs": [
        {
          "output_type": "stream",
          "name": "stdout",
          "text": [
            "CASACAO\n"
          ]
        }
      ]
    },
    {
      "cell_type": "code",
      "metadata": {
        "id": "Y7ew8u5nqa0s",
        "colab": {
          "base_uri": "https://localhost:8080/"
        },
        "outputId": "b7db7d64-7547-4e5a-b542-184f972e7b93"
      },
      "source": [
        "minuscula = maiuscula.lower()\n",
        "print(minuscula)"
      ],
      "execution_count": 4,
      "outputs": [
        {
          "output_type": "stream",
          "name": "stdout",
          "text": [
            "casacao\n"
          ]
        }
      ]
    },
    {
      "cell_type": "code",
      "metadata": {
        "id": "_n4eG1K3qjIG",
        "colab": {
          "base_uri": "https://localhost:8080/"
        },
        "outputId": "2b8a1354-6b27-4bb1-fe5d-fd84a2a3ac85"
      },
      "source": [
        "capital = a.capitalize()\n",
        "print(capital)"
      ],
      "execution_count": 5,
      "outputs": [
        {
          "output_type": "stream",
          "name": "stdout",
          "text": [
            "Casacao\n"
          ]
        }
      ]
    },
    {
      "cell_type": "code",
      "metadata": {
        "id": "7cb8yYi_qukU",
        "colab": {
          "base_uri": "https://localhost:8080/"
        },
        "outputId": "45e0cea0-d915-45fe-811b-0f94ec725975"
      },
      "source": [
        "metade_palavra = a[0:4]\n",
        "print(metade_palavra)"
      ],
      "execution_count": 6,
      "outputs": [
        {
          "output_type": "stream",
          "name": "stdout",
          "text": [
            "casa\n"
          ]
        }
      ]
    },
    {
      "cell_type": "code",
      "metadata": {
        "id": "M0zabxMJrIfI",
        "colab": {
          "base_uri": "https://localhost:8080/"
        },
        "outputId": "f7b83076-f2a9-4105-c7ec-0716b5efc69e"
      },
      "source": [
        "ultimas_letras = a[3:]\n",
        "print(ultimas_letras)"
      ],
      "execution_count": 7,
      "outputs": [
        {
          "output_type": "stream",
          "name": "stdout",
          "text": [
            "acao\n"
          ]
        }
      ]
    },
    {
      "cell_type": "code",
      "metadata": {
        "id": "F4VyXvoWrT1y",
        "colab": {
          "base_uri": "https://localhost:8080/"
        },
        "outputId": "493c059c-4c0c-4ae0-e97b-12f5e00247d3"
      },
      "source": [
        "b = a.replace('acao', 'inha')\n",
        "print(a)\n",
        "print(b)"
      ],
      "execution_count": 9,
      "outputs": [
        {
          "output_type": "stream",
          "name": "stdout",
          "text": [
            "casacao\n",
            "casinha\n"
          ]
        }
      ]
    },
    {
      "cell_type": "code",
      "metadata": {
        "id": "wKLt-VwLrk8F",
        "colab": {
          "base_uri": "https://localhost:8080/"
        },
        "outputId": "42206a92-2410-401b-b629-7828f9aa2ecf"
      },
      "source": [
        "c = a.replace('o', 'a')\n",
        "print(c)"
      ],
      "execution_count": 10,
      "outputs": [
        {
          "output_type": "stream",
          "name": "stdout",
          "text": [
            "casacaa\n"
          ]
        }
      ]
    },
    {
      "cell_type": "code",
      "metadata": {
        "id": "2k0QLQmirwVa",
        "colab": {
          "base_uri": "https://localhost:8080/"
        },
        "outputId": "41a8c924-20f6-4135-a98d-ced5ad1a9817"
      },
      "source": [
        "c.find('s')"
      ],
      "execution_count": 11,
      "outputs": [
        {
          "output_type": "execute_result",
          "data": {
            "text/plain": [
              "2"
            ]
          },
          "metadata": {},
          "execution_count": 11
        }
      ]
    },
    {
      "cell_type": "code",
      "metadata": {
        "id": "4NANRZUyr6Yu",
        "colab": {
          "base_uri": "https://localhost:8080/"
        },
        "outputId": "280e3dae-8446-473f-cfab-8efbf8693760"
      },
      "source": [
        "c.find('a')"
      ],
      "execution_count": 12,
      "outputs": [
        {
          "output_type": "execute_result",
          "data": {
            "text/plain": [
              "1"
            ]
          },
          "metadata": {},
          "execution_count": 12
        }
      ]
    },
    {
      "cell_type": "code",
      "metadata": {
        "id": "HKvr0t0Ar_gH",
        "colab": {
          "base_uri": "https://localhost:8080/"
        },
        "outputId": "5b97e48d-c81d-4ffe-84d5-02372aacd64d"
      },
      "source": [
        "c.find('s')"
      ],
      "execution_count": 14,
      "outputs": [
        {
          "output_type": "execute_result",
          "data": {
            "text/plain": [
              "2"
            ]
          },
          "metadata": {},
          "execution_count": 14
        }
      ]
    },
    {
      "cell_type": "code",
      "metadata": {
        "id": "fdYqKZ0bsQoH",
        "colab": {
          "base_uri": "https://localhost:8080/"
        },
        "outputId": "d2fdaef8-78bd-455f-9ff4-b73101f61145"
      },
      "source": [
        "e = '    casacao'\n",
        "print(len(e))"
      ],
      "execution_count": 18,
      "outputs": [
        {
          "output_type": "stream",
          "name": "stdout",
          "text": [
            "11\n"
          ]
        }
      ]
    },
    {
      "cell_type": "code",
      "metadata": {
        "id": "Hk1OiifYsbwt",
        "colab": {
          "base_uri": "https://localhost:8080/"
        },
        "outputId": "0333d909-f4d8-436f-d408-75ac14bd43fb"
      },
      "source": [
        "f = e.strip()\n",
        "print(f)"
      ],
      "execution_count": 19,
      "outputs": [
        {
          "output_type": "stream",
          "name": "stdout",
          "text": [
            "casacao\n"
          ]
        }
      ]
    },
    {
      "cell_type": "code",
      "metadata": {
        "id": "Kalq5EZAsive",
        "colab": {
          "base_uri": "https://localhost:8080/"
        },
        "outputId": "4e5f7e28-524f-4733-b70b-8dabe8fc5b5d"
      },
      "source": [
        "print(len(f))"
      ],
      "execution_count": 20,
      "outputs": [
        {
          "output_type": "stream",
          "name": "stdout",
          "text": [
            "7\n"
          ]
        }
      ]
    },
    {
      "cell_type": "code",
      "metadata": {
        "id": "dAiQ-Tvvsq5w"
      },
      "source": [
        "n1 = 14\n",
        "n2 = 16"
      ],
      "execution_count": 21,
      "outputs": []
    },
    {
      "cell_type": "code",
      "metadata": {
        "id": "790k0NTEsuiq",
        "colab": {
          "base_uri": "https://localhost:8080/"
        },
        "outputId": "f8d5239f-78a8-4d13-ebdc-abcd9aef9f31"
      },
      "source": [
        "print(f'Dividindo {n1} por {n2} o resultado é {n1/n2}')"
      ],
      "execution_count": 22,
      "outputs": [
        {
          "output_type": "stream",
          "name": "stdout",
          "text": [
            "Dividindo 14 por 16 o resultado é 0.875\n"
          ]
        }
      ]
    }
  ]
}
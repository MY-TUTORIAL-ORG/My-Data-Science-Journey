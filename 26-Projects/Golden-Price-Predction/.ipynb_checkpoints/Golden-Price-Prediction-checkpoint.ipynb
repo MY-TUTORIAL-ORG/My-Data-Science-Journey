{
 "cells": [
  {
   "cell_type": "markdown",
   "id": "ba0ba228-8d19-4ed7-af62-2d2846346e83",
   "metadata": {},
   "source": [
    "# Golden Price Predction"
   ]
  },
  {
   "cell_type": "markdown",
   "id": "3620605e-ad09-49ef-9d16-c85b96175e93",
   "metadata": {},
   "source": [
    "---"
   ]
  },
  {
   "cell_type": "markdown",
   "id": "6dd0ddf0-313d-4f2a-8f89-fe885510391f",
   "metadata": {},
   "source": [
    "## Import the Python Libraries"
   ]
  },
  {
   "cell_type": "code",
   "execution_count": 1,
   "id": "1ade2f61-33cc-44ae-9911-fc329f041616",
   "metadata": {},
   "outputs": [],
   "source": [
    "import numpy as np\n",
    "import pandas as pd\n",
    "import matplotlib.pyplot as plt\n",
    "import seaborn as sns\n",
    "from sklearn.model_selection import train_test_split\n",
    "from sklearn.ensemble import RandomForestRegressor\n",
    "from sklearn import metrics"
   ]
  },
  {
   "cell_type": "markdown",
   "id": "f9ad225d-48de-4775-b93d-5a193bcfe295",
   "metadata": {},
   "source": [
    "## Data Collection & Processing"
   ]
  },
  {
   "cell_type": "code",
   "execution_count": 7,
   "id": "f2a5754e-b9b7-4a3a-bcb5-e63d63e4d553",
   "metadata": {},
   "outputs": [],
   "source": [
    "# Loading the csv data to a Pandas Dataframe\n",
    "gold_data = pd.read_csv('gld_price_data.csv')"
   ]
  },
  {
   "cell_type": "code",
   "execution_count": 8,
   "id": "3133e5c0-0e1a-4066-93e1-89b0e8c86a4a",
   "metadata": {},
   "outputs": [
    {
     "data": {
      "text/html": [
       "<div>\n",
       "<style scoped>\n",
       "    .dataframe tbody tr th:only-of-type {\n",
       "        vertical-align: middle;\n",
       "    }\n",
       "\n",
       "    .dataframe tbody tr th {\n",
       "        vertical-align: top;\n",
       "    }\n",
       "\n",
       "    .dataframe thead th {\n",
       "        text-align: right;\n",
       "    }\n",
       "</style>\n",
       "<table border=\"1\" class=\"dataframe\">\n",
       "  <thead>\n",
       "    <tr style=\"text-align: right;\">\n",
       "      <th></th>\n",
       "      <th>Date</th>\n",
       "      <th>SPX</th>\n",
       "      <th>GLD</th>\n",
       "      <th>USO</th>\n",
       "      <th>SLV</th>\n",
       "      <th>EUR/USD</th>\n",
       "    </tr>\n",
       "  </thead>\n",
       "  <tbody>\n",
       "    <tr>\n",
       "      <th>0</th>\n",
       "      <td>1/2/2008</td>\n",
       "      <td>1447.160034</td>\n",
       "      <td>84.860001</td>\n",
       "      <td>78.470001</td>\n",
       "      <td>15.180</td>\n",
       "      <td>1.471692</td>\n",
       "    </tr>\n",
       "    <tr>\n",
       "      <th>1</th>\n",
       "      <td>1/3/2008</td>\n",
       "      <td>1447.160034</td>\n",
       "      <td>85.570000</td>\n",
       "      <td>78.370003</td>\n",
       "      <td>15.285</td>\n",
       "      <td>1.474491</td>\n",
       "    </tr>\n",
       "    <tr>\n",
       "      <th>2</th>\n",
       "      <td>1/4/2008</td>\n",
       "      <td>1411.630005</td>\n",
       "      <td>85.129997</td>\n",
       "      <td>77.309998</td>\n",
       "      <td>15.167</td>\n",
       "      <td>1.475492</td>\n",
       "    </tr>\n",
       "    <tr>\n",
       "      <th>3</th>\n",
       "      <td>1/7/2008</td>\n",
       "      <td>1416.180054</td>\n",
       "      <td>84.769997</td>\n",
       "      <td>75.500000</td>\n",
       "      <td>15.053</td>\n",
       "      <td>1.468299</td>\n",
       "    </tr>\n",
       "    <tr>\n",
       "      <th>4</th>\n",
       "      <td>1/8/2008</td>\n",
       "      <td>1390.189941</td>\n",
       "      <td>86.779999</td>\n",
       "      <td>76.059998</td>\n",
       "      <td>15.590</td>\n",
       "      <td>1.557099</td>\n",
       "    </tr>\n",
       "  </tbody>\n",
       "</table>\n",
       "</div>"
      ],
      "text/plain": [
       "       Date          SPX        GLD        USO     SLV   EUR/USD\n",
       "0  1/2/2008  1447.160034  84.860001  78.470001  15.180  1.471692\n",
       "1  1/3/2008  1447.160034  85.570000  78.370003  15.285  1.474491\n",
       "2  1/4/2008  1411.630005  85.129997  77.309998  15.167  1.475492\n",
       "3  1/7/2008  1416.180054  84.769997  75.500000  15.053  1.468299\n",
       "4  1/8/2008  1390.189941  86.779999  76.059998  15.590  1.557099"
      ]
     },
     "execution_count": 8,
     "metadata": {},
     "output_type": "execute_result"
    }
   ],
   "source": [
    "gold_data.head()"
   ]
  },
  {
   "cell_type": "code",
   "execution_count": 9,
   "id": "dd818ed8-2c23-4d2c-a243-7cc8af4ddad7",
   "metadata": {},
   "outputs": [
    {
     "data": {
      "text/html": [
       "<div>\n",
       "<style scoped>\n",
       "    .dataframe tbody tr th:only-of-type {\n",
       "        vertical-align: middle;\n",
       "    }\n",
       "\n",
       "    .dataframe tbody tr th {\n",
       "        vertical-align: top;\n",
       "    }\n",
       "\n",
       "    .dataframe thead th {\n",
       "        text-align: right;\n",
       "    }\n",
       "</style>\n",
       "<table border=\"1\" class=\"dataframe\">\n",
       "  <thead>\n",
       "    <tr style=\"text-align: right;\">\n",
       "      <th></th>\n",
       "      <th>Date</th>\n",
       "      <th>SPX</th>\n",
       "      <th>GLD</th>\n",
       "      <th>USO</th>\n",
       "      <th>SLV</th>\n",
       "      <th>EUR/USD</th>\n",
       "    </tr>\n",
       "  </thead>\n",
       "  <tbody>\n",
       "    <tr>\n",
       "      <th>2285</th>\n",
       "      <td>5/8/2018</td>\n",
       "      <td>2671.919922</td>\n",
       "      <td>124.589996</td>\n",
       "      <td>14.0600</td>\n",
       "      <td>15.5100</td>\n",
       "      <td>1.186789</td>\n",
       "    </tr>\n",
       "    <tr>\n",
       "      <th>2286</th>\n",
       "      <td>5/9/2018</td>\n",
       "      <td>2697.790039</td>\n",
       "      <td>124.330002</td>\n",
       "      <td>14.3700</td>\n",
       "      <td>15.5300</td>\n",
       "      <td>1.184722</td>\n",
       "    </tr>\n",
       "    <tr>\n",
       "      <th>2287</th>\n",
       "      <td>5/10/2018</td>\n",
       "      <td>2723.070068</td>\n",
       "      <td>125.180000</td>\n",
       "      <td>14.4100</td>\n",
       "      <td>15.7400</td>\n",
       "      <td>1.191753</td>\n",
       "    </tr>\n",
       "    <tr>\n",
       "      <th>2288</th>\n",
       "      <td>5/14/2018</td>\n",
       "      <td>2730.129883</td>\n",
       "      <td>124.489998</td>\n",
       "      <td>14.3800</td>\n",
       "      <td>15.5600</td>\n",
       "      <td>1.193118</td>\n",
       "    </tr>\n",
       "    <tr>\n",
       "      <th>2289</th>\n",
       "      <td>5/16/2018</td>\n",
       "      <td>2725.780029</td>\n",
       "      <td>122.543800</td>\n",
       "      <td>14.4058</td>\n",
       "      <td>15.4542</td>\n",
       "      <td>1.182033</td>\n",
       "    </tr>\n",
       "  </tbody>\n",
       "</table>\n",
       "</div>"
      ],
      "text/plain": [
       "           Date          SPX         GLD      USO      SLV   EUR/USD\n",
       "2285   5/8/2018  2671.919922  124.589996  14.0600  15.5100  1.186789\n",
       "2286   5/9/2018  2697.790039  124.330002  14.3700  15.5300  1.184722\n",
       "2287  5/10/2018  2723.070068  125.180000  14.4100  15.7400  1.191753\n",
       "2288  5/14/2018  2730.129883  124.489998  14.3800  15.5600  1.193118\n",
       "2289  5/16/2018  2725.780029  122.543800  14.4058  15.4542  1.182033"
      ]
     },
     "execution_count": 9,
     "metadata": {},
     "output_type": "execute_result"
    }
   ],
   "source": [
    "gold_data.tail()"
   ]
  },
  {
   "cell_type": "code",
   "execution_count": 11,
   "id": "79644f37-da45-4db5-be07-5bb2979deec5",
   "metadata": {},
   "outputs": [
    {
     "data": {
      "text/plain": [
       "(2290, 6)"
      ]
     },
     "execution_count": 11,
     "metadata": {},
     "output_type": "execute_result"
    }
   ],
   "source": [
    "gold_data.shape"
   ]
  },
  {
   "cell_type": "code",
   "execution_count": 10,
   "id": "7bbd2a6c-ed33-4d9d-9462-b5242c342e3c",
   "metadata": {},
   "outputs": [
    {
     "name": "stdout",
     "output_type": "stream",
     "text": [
      "<class 'pandas.core.frame.DataFrame'>\n",
      "RangeIndex: 2290 entries, 0 to 2289\n",
      "Data columns (total 6 columns):\n",
      " #   Column   Non-Null Count  Dtype  \n",
      "---  ------   --------------  -----  \n",
      " 0   Date     2290 non-null   object \n",
      " 1   SPX      2290 non-null   float64\n",
      " 2   GLD      2290 non-null   float64\n",
      " 3   USO      2290 non-null   float64\n",
      " 4   SLV      2290 non-null   float64\n",
      " 5   EUR/USD  2290 non-null   float64\n",
      "dtypes: float64(5), object(1)\n",
      "memory usage: 107.5+ KB\n"
     ]
    }
   ],
   "source": [
    "gold_data.info()"
   ]
  },
  {
   "cell_type": "code",
   "execution_count": 12,
   "id": "68022573-3262-417a-beb3-761ab702a75f",
   "metadata": {},
   "outputs": [
    {
     "data": {
      "text/plain": [
       "Date       0\n",
       "SPX        0\n",
       "GLD        0\n",
       "USO        0\n",
       "SLV        0\n",
       "EUR/USD    0\n",
       "dtype: int64"
      ]
     },
     "execution_count": 12,
     "metadata": {},
     "output_type": "execute_result"
    }
   ],
   "source": [
    "gold_data.isnull().sum()"
   ]
  },
  {
   "cell_type": "code",
   "execution_count": 13,
   "id": "c6694866-dee0-44d2-9c8a-22c85725fac0",
   "metadata": {},
   "outputs": [
    {
     "data": {
      "text/html": [
       "<div>\n",
       "<style scoped>\n",
       "    .dataframe tbody tr th:only-of-type {\n",
       "        vertical-align: middle;\n",
       "    }\n",
       "\n",
       "    .dataframe tbody tr th {\n",
       "        vertical-align: top;\n",
       "    }\n",
       "\n",
       "    .dataframe thead th {\n",
       "        text-align: right;\n",
       "    }\n",
       "</style>\n",
       "<table border=\"1\" class=\"dataframe\">\n",
       "  <thead>\n",
       "    <tr style=\"text-align: right;\">\n",
       "      <th></th>\n",
       "      <th>SPX</th>\n",
       "      <th>GLD</th>\n",
       "      <th>USO</th>\n",
       "      <th>SLV</th>\n",
       "      <th>EUR/USD</th>\n",
       "    </tr>\n",
       "  </thead>\n",
       "  <tbody>\n",
       "    <tr>\n",
       "      <th>count</th>\n",
       "      <td>2290.000000</td>\n",
       "      <td>2290.000000</td>\n",
       "      <td>2290.000000</td>\n",
       "      <td>2290.000000</td>\n",
       "      <td>2290.000000</td>\n",
       "    </tr>\n",
       "    <tr>\n",
       "      <th>mean</th>\n",
       "      <td>1654.315776</td>\n",
       "      <td>122.732875</td>\n",
       "      <td>31.842221</td>\n",
       "      <td>20.084997</td>\n",
       "      <td>1.283653</td>\n",
       "    </tr>\n",
       "    <tr>\n",
       "      <th>std</th>\n",
       "      <td>519.111540</td>\n",
       "      <td>23.283346</td>\n",
       "      <td>19.523517</td>\n",
       "      <td>7.092566</td>\n",
       "      <td>0.131547</td>\n",
       "    </tr>\n",
       "    <tr>\n",
       "      <th>min</th>\n",
       "      <td>676.530029</td>\n",
       "      <td>70.000000</td>\n",
       "      <td>7.960000</td>\n",
       "      <td>8.850000</td>\n",
       "      <td>1.039047</td>\n",
       "    </tr>\n",
       "    <tr>\n",
       "      <th>25%</th>\n",
       "      <td>1239.874969</td>\n",
       "      <td>109.725000</td>\n",
       "      <td>14.380000</td>\n",
       "      <td>15.570000</td>\n",
       "      <td>1.171313</td>\n",
       "    </tr>\n",
       "    <tr>\n",
       "      <th>50%</th>\n",
       "      <td>1551.434998</td>\n",
       "      <td>120.580002</td>\n",
       "      <td>33.869999</td>\n",
       "      <td>17.268500</td>\n",
       "      <td>1.303297</td>\n",
       "    </tr>\n",
       "    <tr>\n",
       "      <th>75%</th>\n",
       "      <td>2073.010070</td>\n",
       "      <td>132.840004</td>\n",
       "      <td>37.827501</td>\n",
       "      <td>22.882500</td>\n",
       "      <td>1.369971</td>\n",
       "    </tr>\n",
       "    <tr>\n",
       "      <th>max</th>\n",
       "      <td>2872.870117</td>\n",
       "      <td>184.589996</td>\n",
       "      <td>117.480003</td>\n",
       "      <td>47.259998</td>\n",
       "      <td>1.598798</td>\n",
       "    </tr>\n",
       "  </tbody>\n",
       "</table>\n",
       "</div>"
      ],
      "text/plain": [
       "               SPX          GLD          USO          SLV      EUR/USD\n",
       "count  2290.000000  2290.000000  2290.000000  2290.000000  2290.000000\n",
       "mean   1654.315776   122.732875    31.842221    20.084997     1.283653\n",
       "std     519.111540    23.283346    19.523517     7.092566     0.131547\n",
       "min     676.530029    70.000000     7.960000     8.850000     1.039047\n",
       "25%    1239.874969   109.725000    14.380000    15.570000     1.171313\n",
       "50%    1551.434998   120.580002    33.869999    17.268500     1.303297\n",
       "75%    2073.010070   132.840004    37.827501    22.882500     1.369971\n",
       "max    2872.870117   184.589996   117.480003    47.259998     1.598798"
      ]
     },
     "execution_count": 13,
     "metadata": {},
     "output_type": "execute_result"
    }
   ],
   "source": [
    "gold_data.describe()"
   ]
  },
  {
   "cell_type": "code",
   "execution_count": 14,
   "id": "39734e54-e3a4-425f-a7de-3344f430d63b",
   "metadata": {},
   "outputs": [
    {
     "data": {
      "text/html": [
       "<div>\n",
       "<style scoped>\n",
       "    .dataframe tbody tr th:only-of-type {\n",
       "        vertical-align: middle;\n",
       "    }\n",
       "\n",
       "    .dataframe tbody tr th {\n",
       "        vertical-align: top;\n",
       "    }\n",
       "\n",
       "    .dataframe thead th {\n",
       "        text-align: right;\n",
       "    }\n",
       "</style>\n",
       "<table border=\"1\" class=\"dataframe\">\n",
       "  <thead>\n",
       "    <tr style=\"text-align: right;\">\n",
       "      <th></th>\n",
       "      <th>count</th>\n",
       "      <th>mean</th>\n",
       "      <th>std</th>\n",
       "      <th>min</th>\n",
       "      <th>25%</th>\n",
       "      <th>50%</th>\n",
       "      <th>75%</th>\n",
       "      <th>max</th>\n",
       "    </tr>\n",
       "  </thead>\n",
       "  <tbody>\n",
       "    <tr>\n",
       "      <th>SPX</th>\n",
       "      <td>2290.0</td>\n",
       "      <td>1654.315776</td>\n",
       "      <td>519.111540</td>\n",
       "      <td>676.530029</td>\n",
       "      <td>1239.874969</td>\n",
       "      <td>1551.434998</td>\n",
       "      <td>2073.010070</td>\n",
       "      <td>2872.870117</td>\n",
       "    </tr>\n",
       "    <tr>\n",
       "      <th>GLD</th>\n",
       "      <td>2290.0</td>\n",
       "      <td>122.732875</td>\n",
       "      <td>23.283346</td>\n",
       "      <td>70.000000</td>\n",
       "      <td>109.725000</td>\n",
       "      <td>120.580002</td>\n",
       "      <td>132.840004</td>\n",
       "      <td>184.589996</td>\n",
       "    </tr>\n",
       "    <tr>\n",
       "      <th>USO</th>\n",
       "      <td>2290.0</td>\n",
       "      <td>31.842221</td>\n",
       "      <td>19.523517</td>\n",
       "      <td>7.960000</td>\n",
       "      <td>14.380000</td>\n",
       "      <td>33.869999</td>\n",
       "      <td>37.827501</td>\n",
       "      <td>117.480003</td>\n",
       "    </tr>\n",
       "    <tr>\n",
       "      <th>SLV</th>\n",
       "      <td>2290.0</td>\n",
       "      <td>20.084997</td>\n",
       "      <td>7.092566</td>\n",
       "      <td>8.850000</td>\n",
       "      <td>15.570000</td>\n",
       "      <td>17.268500</td>\n",
       "      <td>22.882500</td>\n",
       "      <td>47.259998</td>\n",
       "    </tr>\n",
       "    <tr>\n",
       "      <th>EUR/USD</th>\n",
       "      <td>2290.0</td>\n",
       "      <td>1.283653</td>\n",
       "      <td>0.131547</td>\n",
       "      <td>1.039047</td>\n",
       "      <td>1.171313</td>\n",
       "      <td>1.303297</td>\n",
       "      <td>1.369971</td>\n",
       "      <td>1.598798</td>\n",
       "    </tr>\n",
       "  </tbody>\n",
       "</table>\n",
       "</div>"
      ],
      "text/plain": [
       "          count         mean         std         min          25%  \\\n",
       "SPX      2290.0  1654.315776  519.111540  676.530029  1239.874969   \n",
       "GLD      2290.0   122.732875   23.283346   70.000000   109.725000   \n",
       "USO      2290.0    31.842221   19.523517    7.960000    14.380000   \n",
       "SLV      2290.0    20.084997    7.092566    8.850000    15.570000   \n",
       "EUR/USD  2290.0     1.283653    0.131547    1.039047     1.171313   \n",
       "\n",
       "                 50%          75%          max  \n",
       "SPX      1551.434998  2073.010070  2872.870117  \n",
       "GLD       120.580002   132.840004   184.589996  \n",
       "USO        33.869999    37.827501   117.480003  \n",
       "SLV        17.268500    22.882500    47.259998  \n",
       "EUR/USD     1.303297     1.369971     1.598798  "
      ]
     },
     "execution_count": 14,
     "metadata": {},
     "output_type": "execute_result"
    }
   ],
   "source": [
    "gold_data.describe().T"
   ]
  },
  {
   "cell_type": "markdown",
   "id": "0bfb616a-d8ab-47dc-a14e-af7e334c8cb2",
   "metadata": {},
   "source": [
    "## Corretation\n",
    "### 1. Positive Correlation\n",
    "### 2. Negative Correlation"
   ]
  },
  {
   "cell_type": "code",
   "execution_count": 15,
   "id": "e24c015d-4c43-4b59-88fe-4cd59e84d350",
   "metadata": {},
   "outputs": [],
   "source": [
    "correlation = gold_data.corr()"
   ]
  },
  {
   "cell_type": "code",
   "execution_count": 19,
   "id": "b7fbe912-7006-46a4-bdfb-e26ab5dc8248",
   "metadata": {},
   "outputs": [
    {
     "data": {
      "text/plain": [
       "<AxesSubplot:>"
      ]
     },
     "execution_count": 19,
     "metadata": {},
     "output_type": "execute_result"
    },
    {
     "data": {
      "image/png": "[encoded data removed]",
      "text/plain": [
       "<Figure size 576x576 with 2 Axes>"
      ]
     },
     "metadata": {
      "needs_background": "light"
     },
     "output_type": "display_data"
    }
   ],
   "source": [
    "# Construction a heatmap to undestand the correlation\n",
    "plt.figure(figsize= (8,8))\n",
    "sns.heatmap(correlation, cbar=True, square=True, fmt='.1f', annot=True, annot_kws={'size':8}, cmap='Blues')"
   ]
  },
  {
   "cell_type": "code",
   "execution_count": 20,
   "id": "de6bff8b-7dfe-403b-b115-81727859ddb9",
   "metadata": {},
   "outputs": [
    {
     "name": "stdout",
     "output_type": "stream",
     "text": [
      "SPX        0.049345\n",
      "GLD        1.000000\n",
      "USO       -0.186360\n",
      "SLV        0.866632\n",
      "EUR/USD   -0.024375\n",
      "Name: GLD, dtype: float64\n"
     ]
    }
   ],
   "source": [
    "# correlation values of Gold\n",
    "print(correlation['GLD'])"
   ]
  },
  {
   "cell_type": "code",
   "execution_count": 22,
   "id": "74d98693-734f-4c07-81eb-f37d2040ca8e",
   "metadata": {},
   "outputs": [
    {
     "name": "stderr",
     "output_type": "stream",
     "text": [
      "/home/biolabs/anaconda3/lib/python3.8/site-packages/seaborn/distributions.py:2619: FutureWarning: `distplot` is a deprecated function and will be removed in a future version. Please adapt your code to use either `displot` (a figure-level function with similar flexibility) or `histplot` (an axes-level function for histograms).\n",
      "  warnings.warn(msg, FutureWarning)\n"
     ]
    },
    {
     "data": {
      "text/plain": [
       "<AxesSubplot:xlabel='GLD', ylabel='Density'>"
      ]
     },
     "execution_count": 22,
     "metadata": {},
     "output_type": "execute_result"
    },
    {
     "data": {
      "image/png": "[encoded data removed]",
      "text/plain": [
       "<Figure size 432x288 with 1 Axes>"
      ]
     },
     "metadata": {
      "needs_background": "light"
     },
     "output_type": "display_data"
    }
   ],
   "source": [
    "#checking the distribution of the Gold Price\n",
    "sns.distplot(gold_data['GLD'], color='green')"
   ]
  },
  {
   "cell_type": "markdown",
   "id": "cf603349-ebfc-4c54-a351-8d1ba2aa6fab",
   "metadata": {},
   "source": [
    "## Spliting the Features and Target"
   ]
  },
  {
   "cell_type": "code",
   "execution_count": 23,
   "id": "863f3ae4-e686-4c88-9937-295a06865f11",
   "metadata": {},
   "outputs": [],
   "source": [
    "X = gold_data.drop(['Date', 'GLD'], axis=1)\n",
    "Y = gold_data['GLD']"
   ]
  },
  {
   "cell_type": "code",
   "execution_count": 24,
   "id": "cd88a455-116b-4588-9256-7e84fb6e2abb",
   "metadata": {},
   "outputs": [
    {
     "name": "stdout",
     "output_type": "stream",
     "text": [
      "              SPX        USO      SLV   EUR/USD\n",
      "0     1447.160034  78.470001  15.1800  1.471692\n",
      "1     1447.160034  78.370003  15.2850  1.474491\n",
      "2     1411.630005  77.309998  15.1670  1.475492\n",
      "3     1416.180054  75.500000  15.0530  1.468299\n",
      "4     1390.189941  76.059998  15.5900  1.557099\n",
      "...           ...        ...      ...       ...\n",
      "2285  2671.919922  14.060000  15.5100  1.186789\n",
      "2286  2697.790039  14.370000  15.5300  1.184722\n",
      "2287  2723.070068  14.410000  15.7400  1.191753\n",
      "2288  2730.129883  14.380000  15.5600  1.193118\n",
      "2289  2725.780029  14.405800  15.4542  1.182033\n",
      "\n",
      "[2290 rows x 4 columns]\n"
     ]
    }
   ],
   "source": [
    "print(X)"
   ]
  },
  {
   "cell_type": "markdown",
   "id": "2a2add1c-e775-40e0-adf6-fa15212936c6",
   "metadata": {},
   "source": [
    "## Spliting into Training data and Test Data"
   ]
  },
  {
   "cell_type": "code",
   "execution_count": 25,
   "id": "57f2d045-78a3-42eb-b67f-58c8801a139a",
   "metadata": {},
   "outputs": [],
   "source": [
    "X_train, X_test, Y_train, Y_test = train_test_split(X, Y, test_size= 0.2, random_state=2)"
   ]
  },
  {
   "cell_type": "markdown",
   "id": "c2760846-c637-4729-8e9b-afd893a03b89",
   "metadata": {},
   "source": [
    "## Model Training: Random Forest Regressor"
   ]
  },
  {
   "cell_type": "code",
   "execution_count": 28,
   "id": "a0306e38-4527-4f72-b7ac-14a3751dedb6",
   "metadata": {},
   "outputs": [],
   "source": [
    "regressor = RandomForestRegressor(n_estimators=100)"
   ]
  },
  {
   "cell_type": "code",
   "execution_count": 29,
   "id": "65e3f855-d870-49dd-8cc7-8c68423d7698",
   "metadata": {},
   "outputs": [
    {
     "data": {
      "text/plain": [
       "RandomForestRegressor()"
      ]
     },
     "execution_count": 29,
     "metadata": {},
     "output_type": "execute_result"
    }
   ],
   "source": [
    "regressor"
   ]
  },
  {
   "cell_type": "code",
   "execution_count": 30,
   "id": "d29317ce-3499-4725-8f17-abb748328cdf",
   "metadata": {},
   "outputs": [
    {
     "data": {
      "text/plain": [
       "RandomForestRegressor()"
      ]
     },
     "execution_count": 30,
     "metadata": {},
     "output_type": "execute_result"
    }
   ],
   "source": [
    "# training the model\n",
    "regressor.fit(X_train, Y_train)"
   ]
  },
  {
   "cell_type": "markdown",
   "id": "98386866-b071-48ec-aa81-f7ed1fd9c005",
   "metadata": {},
   "source": [
    "## Model Evalutation"
   ]
  },
  {
   "cell_type": "code",
   "execution_count": 31,
   "id": "6ea7017d-6829-4ec0-9fe2-938a1934aaa7",
   "metadata": {},
   "outputs": [],
   "source": [
    "# prediction on Test Data\n",
    "test_data_prediction = regressor.predict(X_test)"
   ]
  },
  {
   "cell_type": "code",
   "execution_count": 32,
   "id": "cabc531e-7011-4cbc-bf31-84406d61fd4c",
   "metadata": {},
   "outputs": [
    {
     "name": "stdout",
     "output_type": "stream",
     "text": [
      "[168.42479919  82.06259996 116.14020028 127.57010074 121.02470092\n",
      " 154.72479707 150.09909832 126.12820014 117.50189868 125.9122011\n",
      " 116.77710087 172.17030087 140.96179831 167.954698   115.19840027\n",
      " 117.4638007  137.85900315 170.19920138 159.91290311 160.23679984\n",
      " 155.11980037 125.16470013 175.08859977 157.38680376 125.20430015\n",
      "  93.64179958  77.88940014 120.76430015 119.10699904 167.53539933\n",
      "  88.28780039 125.1732      91.10410057 117.76860012 121.02489919\n",
      " 136.61050069 115.41480142 115.31940069 147.40949979 107.43980104\n",
      " 104.26310254  87.25019806 126.32560047 118.0880999  152.28039856\n",
      " 119.6610001  108.32659973 108.38419842  93.24290047 127.15229768\n",
      "  75.00660037 113.66439883 121.17130018 111.23069924 118.80589877\n",
      " 120.64299929 159.36799966 168.60040142 146.71019652  86.081699\n",
      "  94.67290044  86.73969915  90.41829996 118.82320125 126.36160072\n",
      " 127.55410033 169.82630113 122.29039898 117.36649853  98.51460027\n",
      " 168.75000155 142.82629828 132.05300261 121.25410239 121.10759965\n",
      " 119.72430049 114.51230134 118.23140039 107.08470106 127.95210088\n",
      " 113.86259953 107.77209979 116.73690071 119.60349903  88.88670047\n",
      "  88.21829868 147.17150264 127.10910005 113.23780047 110.00369833\n",
      " 108.34949899  77.8019992  169.8851019  114.0514989  121.6363991\n",
      " 128.06610169 155.0328975   91.58259924 135.72740118 159.70280324\n",
      " 125.57970071 125.26160066 130.6091022  114.71890114 119.72430006\n",
      "  92.09079973 110.07859865 168.66180042 156.08719989 114.20669949\n",
      " 106.48370133  79.16930023 113.27100039 125.8648006  106.97599932\n",
      " 119.48630074 155.26770327 159.7167994  120.55100017 135.7072021\n",
      " 101.24789995 117.51959817 119.29460024 112.83810055 102.78209918\n",
      " 159.7634982   98.5782003  148.30299993 125.45730101 169.2369991\n",
      " 125.53809939 127.39659743 127.34390093 113.82879972 113.11030061\n",
      " 123.56489921 102.07909904  89.28159978 124.30159967 101.27969927\n",
      " 107.15409924 113.02970056 117.26560042  98.94929954 121.81960056\n",
      " 162.87859853  87.49779905 106.75990002 117.38810074 127.70900117\n",
      " 124.22890081  80.85519943 120.45000066 158.01259784  88.05789973\n",
      " 110.4328992  118.80989894 172.61779913 102.98609872 105.34840028\n",
      " 122.68020032 158.67059737  87.61309828  92.93450057 112.68290019\n",
      " 177.01509981 114.22949977 119.40229992  94.64770092 125.70450066\n",
      " 166.03860059 114.8423008  116.92110134  88.29579872 148.70340087\n",
      " 120.47149917  89.46599977 112.46770014 116.90049983 118.72080118\n",
      "  88.12539937  94.02469988 116.96890026 118.71090156 120.15650039\n",
      " 126.70939843 121.97569969 149.56820034 165.57190065 118.44409983\n",
      " 120.30280127 150.73280016 118.89909903 172.6700994  105.42199909\n",
      " 105.06800164 149.35540097 113.89930064 124.80650125 148.12690006\n",
      " 119.59430136 115.39970041 112.7659001  113.58980191 140.80330177\n",
      " 117.8281977  102.94430043 115.98840118 103.64500206  98.5706002\n",
      " 117.38000053  90.62080023  91.58350006 153.58819968 102.67479962\n",
      " 154.30500142 114.39550163 139.07630126  90.27479847 115.49559914\n",
      " 115.12839965 122.78800052 121.85310003 165.25550133  92.98739949\n",
      " 134.85850046 121.35319916 120.80960062 104.84810017 140.80930283\n",
      " 121.66099913 116.69340048 113.59900066 127.29339762 122.56359957\n",
      " 125.80339904 121.23580031  86.72469917 132.2704016  145.67010223\n",
      "  92.67699945 158.13980004 159.44600251 126.4561989  164.67319931\n",
      " 108.79749975 109.79340088 103.74479832  94.24950114 127.27320252\n",
      " 106.84370047 160.59470038 121.83990037 131.90340051 130.74580263\n",
      " 159.81579955  90.27459872 174.70090169 127.96620064 126.69509873\n",
      "  86.27789928 124.60049934 150.38929739  89.56050014 106.8435001\n",
      " 109.14229987  84.113499   136.10329949 155.11160296 138.07180386\n",
      "  73.87220033 152.57870054 125.90829984 126.63710008 127.49369864\n",
      " 108.57629957 156.15309988 114.63340117 117.01600152 125.11849965\n",
      " 154.00320138 121.49080016 156.41629856  92.8655004  125.47250144\n",
      " 125.69360085  88.00070053  92.06669939 126.41679912 128.57690422\n",
      " 113.10130043 117.6968976  120.79400028 127.22099791 119.66640079\n",
      " 136.98670122  93.97119953 119.81490047 113.21830112  94.29679941\n",
      " 108.64529968  87.80939946 108.9489991   89.42349988  92.50180013\n",
      " 131.75360335 162.2974999   89.20640009 119.70000107 133.418702\n",
      " 123.93910004 128.37240227 101.88369839  88.95289847 132.38360036\n",
      " 119.98720023 108.45899986 165.85660071 115.09110031  86.56669873\n",
      " 118.85310051  91.15049962 162.10029976 116.55200043 121.58550019\n",
      " 160.20189884 120.1214993  112.99869921 108.52999865 126.66060012\n",
      "  75.46360056 103.05240006 127.31100208 121.88059873  92.59069968\n",
      " 132.13510082 118.12040114 116.15779976 154.58230249 159.80480088\n",
      " 109.86809967 155.46549735 119.43020067 160.41810038 118.92010026\n",
      " 156.87539972 115.03649926 116.55580022 148.24679855 114.89840051\n",
      " 125.63449871 165.73229889 117.58260008 125.08899925 153.37360414\n",
      " 153.3709022  132.12300067 114.71170029 121.21960251 125.16550087\n",
      "  89.78900055 122.92579955 154.7003006  111.79600034 106.77989989\n",
      " 160.99940163 118.63549974 165.7319     134.20330096 114.87699985\n",
      " 152.9552988  168.76400026 114.21480005 113.9240011  158.897799\n",
      "  85.22449852 127.04090041 127.99370028 128.75640021 124.17580063\n",
      " 123.6719004   90.32490087 153.34319977  97.05429959 137.98339988\n",
      "  89.11929899 107.69399981 114.94590037 112.70480091 124.24899911\n",
      "  91.51609849 125.41580124 162.2830989  119.91349872 165.039201\n",
      " 126.77579831 112.30130008 127.43249909  94.97269947  90.95799969\n",
      " 102.98709909 120.83479999  83.5636996  126.44100022 160.81890452\n",
      " 117.27290082 118.11759981 119.80719984 122.96729999 120.04580134\n",
      " 121.52989961 118.09630067 107.07369966 148.35680049 125.956499\n",
      " 115.68810086  73.95740018 127.85170094 153.73180057 122.3698002\n",
      " 125.58740062  88.93959995 103.42669895 124.55330037 120.12180031\n",
      "  73.49270095 152.07350019 121.12150036 104.83150036  86.46389806\n",
      " 114.94869928 172.24559799 119.79540013 160.19239753 113.17939939\n",
      " 121.37410059 118.73570097  96.04919988 119.08590047 125.76200023\n",
      " 118.52469955  96.12180091 153.7068018  122.19189981 147.28690042\n",
      " 159.33740204 113.68530012 122.53059925 148.77859791 127.50050033\n",
      " 166.03470018 135.19729995 119.96429983 167.20199913 108.53529916\n",
      " 121.77479822 138.78450091 105.72229869]\n"
     ]
    }
   ],
   "source": [
    "print(test_data_prediction)"
   ]
  },
  {
   "cell_type": "code",
   "execution_count": 33,
   "id": "d3b88e5d-e674-4af0-b768-3551b06f58f1",
   "metadata": {},
   "outputs": [
    {
     "name": "stdout",
     "output_type": "stream",
     "text": [
      "R squared error :  0.9896127529211726\n"
     ]
    }
   ],
   "source": [
    "# R Squared error\n",
    "error_score = metrics.r2_score(Y_test, test_data_prediction)\n",
    "print('R squared error : ', error_score)"
   ]
  },
  {
   "cell_type": "markdown",
   "id": "11a1fe6a-1946-4f10-99a1-f155b77d5b58",
   "metadata": {},
   "source": [
    "## Compare the Actual Values and Predicted Values in a Plot"
   ]
  },
  {
   "cell_type": "code",
   "execution_count": 34,
   "id": "8ffb5914-3c54-4ae5-9334-d4b450c461a0",
   "metadata": {},
   "outputs": [],
   "source": [
    "Y_test = list(Y_test)"
   ]
  },
  {
   "cell_type": "code",
   "execution_count": 44,
   "id": "039e8d4c-62e0-46a5-b47f-8588638b320b",
   "metadata": {},
   "outputs": [
    {
     "data": {
      "image/png": "[encoded data removed]",
      "text/plain": [
       "<Figure size 432x288 with 1 Axes>"
      ]
     },
     "metadata": {
      "needs_background": "light"
     },
     "output_type": "display_data"
    }
   ],
   "source": [
    "plt.plot(Y_test, color='blue', label='Actual Value')\n",
    "#plt.plot(test_data_prediction, color='green', label='Predicted value')\n",
    "plt.title('Actual Price vs Predicted Price')\n",
    "plt.xlabel('Number of values')\n",
    "plt.ylabel('Golden Price')\n",
    "plt.legend()\n",
    "plt.show()"
   ]
  },
  {
   "cell_type": "code",
   "execution_count": 45,
   "id": "bdee2f80-f685-4a45-9ac9-eac2b7adb67b",
   "metadata": {},
   "outputs": [
    {
     "data": {
      "image/png": "[encoded data removed]",
      "text/plain": [
       "<Figure size 432x288 with 1 Axes>"
      ]
     },
     "metadata": {
      "needs_background": "light"
     },
     "output_type": "display_data"
    }
   ],
   "source": [
    "#plt.plot(Y_test, color='blue', label='Actual Value')\n",
    "plt.plot(test_data_prediction, color='green', label='Predicted value')\n",
    "plt.title('Actual Price vs Predicted Price')\n",
    "plt.xlabel('Number of values')\n",
    "plt.ylabel('Golden Price')\n",
    "plt.legend()\n",
    "plt.show()"
   ]
  },
  {
   "cell_type": "code",
   "execution_count": 43,
   "id": "5d5d6430-a22e-43ad-b529-857c1e3a7d59",
   "metadata": {},
   "outputs": [
    {
     "data": {
      "image/png": "[encoded data removed]",
      "text/plain": [
       "<Figure size 432x288 with 1 Axes>"
      ]
     },
     "metadata": {
      "needs_background": "light"
     },
     "output_type": "display_data"
    }
   ],
   "source": [
    "plt.plot(Y_test, color='blue', label='Actual Value')\n",
    "plt.plot(test_data_prediction, color='green', label='Predicted value')\n",
    "plt.title('Actual Price vs Predicted Price')\n",
    "plt.xlabel('Number of values')\n",
    "plt.ylabel('Golden Price')\n",
    "plt.legend()\n",
    "plt.show()"
   ]
  }
 ],
 "metadata": {
  "kernelspec": {
   "display_name": "Python 3 (ipykernel)",
   "language": "python",
   "name": "python3"
  },
  "language_info": {
   "codemirror_mode": {
    "name": "ipython",
    "version": 3
   },
   "file_extension": ".py",
   "mimetype": "text/x-python",
   "name": "python",
   "nbconvert_exporter": "python",
   "pygments_lexer": "ipython3",
   "version": "3.8.8"
  }
 },
 "nbformat": 4,
 "nbformat_minor": 5
}
